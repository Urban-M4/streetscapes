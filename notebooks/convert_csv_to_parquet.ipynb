{
 "cells": [
  {
   "cell_type": "markdown",
   "metadata": {},
   "source": [
    "# Merging CSV files and converting to Parquet\n",
    "\n",
    "Merge and convert CSV files from the original `global-streetscapes` project into a single Parquet file."
   ]
  },
  {
   "cell_type": "code",
   "execution_count": null,
   "metadata": {},
   "outputs": [],
   "source": [
    "# --------------------------------------\n",
    "import warnings\n",
    "\n",
    "warnings.filterwarnings(\"ignore\")\n",
    "\n",
    "# --------------------------------------\n",
    "from streetscapes import conf\n",
    "import streetscapes.functions as ssf"
   ]
  },
  {
   "cell_type": "code",
   "execution_count": 2,
   "metadata": {},
   "outputs": [],
   "source": [
    "data_dir = conf.DATA_DIR\n",
    "out_dir = conf.OUTPUT_DIR\n",
    "filename = \"streetscapes-data.parquet\"\n",
    "silent = True"
   ]
  },
  {
   "cell_type": "code",
   "execution_count": 3,
   "metadata": {},
   "outputs": [
    {
     "name": "stdout",
     "output_type": "stream",
     "text": [
      "\u001b[35mStreetscapes\u001b[0m | \u001b[36m2024-11-21@13:52:05\u001b[0m | \u001b[1mProcessing file 'local/streetscapes-data/metadata_common_attributes.csv'...\u001b[0m\n",
      "\u001b[35mStreetscapes\u001b[0m | \u001b[36m2024-11-21@13:52:34\u001b[0m | \u001b[1mProcessing file 'local/streetscapes-data/contextual.csv'...\u001b[0m\n",
      "\u001b[35mStreetscapes\u001b[0m | \u001b[36m2024-11-21@13:52:46\u001b[0m | \u001b[1mProcessing file 'local/streetscapes-data/segmentation.csv'...\u001b[0m\n",
      "\u001b[35mStreetscapes\u001b[0m | \u001b[36m2024-11-21@13:53:50\u001b[0m | \u001b[1mProcessing file 'local/streetscapes-data/simplemaps.csv'...\u001b[0m\n",
      "\u001b[35mStreetscapes\u001b[0m | \u001b[36m2024-11-21@13:54:08\u001b[0m | \u001b[1mMerging files...\u001b[0m\n",
      "\u001b[35mStreetscapes\u001b[0m | \u001b[36m2024-11-21@13:55:07\u001b[0m | \u001b[1mSaving file 'local/output/streetscapes-data.parquet'...\u001b[0m\n"
     ]
    }
   ],
   "source": [
    "ssf.convert_csv_to_parquet(data_dir, out_dir, filename, silent)"
   ]
  }
 ],
 "metadata": {
  "kernelspec": {
   "display_name": "streetscapes",
   "language": "python",
   "name": "python3"
  },
  "language_info": {
   "codemirror_mode": {
    "name": "ipython",
    "version": 3
   },
   "file_extension": ".py",
   "mimetype": "text/x-python",
   "name": "python",
   "nbconvert_exporter": "python",
   "pygments_lexer": "ipython3",
   "version": "3.12.7"
  }
 },
 "nbformat": 4,
 "nbformat_minor": 2
}
