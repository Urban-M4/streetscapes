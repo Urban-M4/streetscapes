{
 "cells": [
  {
   "cell_type": "markdown",
   "metadata": {},
   "source": [
    "# Mapillary images for a specific city\n",
    "\n",
    "<span style=\"color:red;\">Note:</span> Please ensure that you have set up the `MAPILLARY_TOKEN` environment variable (cf. README.md)."
   ]
  },
  {
   "cell_type": "code",
   "execution_count": null,
   "metadata": {},
   "outputs": [],
   "source": [
    "# --------------------------------------\n",
    "import warnings\n",
    "\n",
    "warnings.filterwarnings(\"ignore\")\n",
    "\n",
    "# --------------------------------------\n",
    "import pandas as pd\n",
    "\n",
    "# --------------------------------------\n",
    "import mapillary.interface as mly\n",
    "\n",
    "# --------------------------------------\n",
    "from streetscapes import conf\n",
    "import streetscapes.functions as ssf"
   ]
  },
  {
   "cell_type": "markdown",
   "metadata": {},
   "source": [
    "# Setup"
   ]
  },
  {
   "cell_type": "code",
   "execution_count": null,
   "metadata": {},
   "outputs": [
    {
     "data": {
      "text/plain": [
       "{'token': 'SUCCESS'}"
      ]
     },
     "execution_count": 2,
     "metadata": {},
     "output_type": "execute_result"
    }
   ],
   "source": [
    "# Image resolution (only used for Mapillary)\n",
    "resolution = 2048  # Or 1024\n",
    "\n",
    "# Destination directory\n",
    "directory = ssf.mkdir(conf.OUTPUT_DIR / f\"images\")\n",
    "\n",
    "# Sample or full download\n",
    "sample = False\n",
    "\n",
    "# Mapillary token setup\n",
    "mly.set_token(conf.MAPILLARY_TOKEN)"
   ]
  },
  {
   "cell_type": "markdown",
   "metadata": {},
   "source": [
    "Get the points for side views of buildings in Amsterdam."
   ]
  },
  {
   "cell_type": "code",
   "execution_count": 3,
   "metadata": {},
   "outputs": [],
   "source": [
    "city = pd.read_csv(conf.OUTPUT_DIR / \"amsterdam_side.csv\")"
   ]
  },
  {
   "cell_type": "code",
   "execution_count": 4,
   "metadata": {},
   "outputs": [
    {
     "data": {
      "text/html": [
       "<div>\n",
       "<style scoped>\n",
       "    .dataframe tbody tr th:only-of-type {\n",
       "        vertical-align: middle;\n",
       "    }\n",
       "\n",
       "    .dataframe tbody tr th {\n",
       "        vertical-align: top;\n",
       "    }\n",
       "\n",
       "    .dataframe thead th {\n",
       "        text-align: right;\n",
       "    }\n",
       "</style>\n",
       "<table border=\"1\" class=\"dataframe\">\n",
       "  <thead>\n",
       "    <tr style=\"text-align: right;\">\n",
       "      <th></th>\n",
       "      <th>Unnamed: 0</th>\n",
       "      <th>uuid</th>\n",
       "      <th>source</th>\n",
       "      <th>orig_id</th>\n",
       "    </tr>\n",
       "  </thead>\n",
       "  <tbody>\n",
       "    <tr>\n",
       "      <th>0</th>\n",
       "      <td>1889019</td>\n",
       "      <td>87e77845-fe9c-4f16-882a-322274a26898</td>\n",
       "      <td>Mapillary</td>\n",
       "      <td>121662616604750</td>\n",
       "    </tr>\n",
       "    <tr>\n",
       "      <th>1</th>\n",
       "      <td>1889044</td>\n",
       "      <td>432c6ac2-b3e2-4c9c-80d8-042734fda977</td>\n",
       "      <td>Mapillary</td>\n",
       "      <td>1362561054167230</td>\n",
       "    </tr>\n",
       "    <tr>\n",
       "      <th>2</th>\n",
       "      <td>1889051</td>\n",
       "      <td>3885f9ae-6309-41de-9597-2fbb2422ef03</td>\n",
       "      <td>Mapillary</td>\n",
       "      <td>4008620072553616</td>\n",
       "    </tr>\n",
       "    <tr>\n",
       "      <th>3</th>\n",
       "      <td>1889054</td>\n",
       "      <td>4881ef63-b976-4b9c-8984-6a15fe6611f6</td>\n",
       "      <td>Mapillary</td>\n",
       "      <td>896123137843326</td>\n",
       "    </tr>\n",
       "    <tr>\n",
       "      <th>4</th>\n",
       "      <td>1889055</td>\n",
       "      <td>0f0e1a48-b264-41a6-bbf9-e5053cc47302</td>\n",
       "      <td>Mapillary</td>\n",
       "      <td>981213842624869</td>\n",
       "    </tr>\n",
       "    <tr>\n",
       "      <th>...</th>\n",
       "      <td>...</td>\n",
       "      <td>...</td>\n",
       "      <td>...</td>\n",
       "      <td>...</td>\n",
       "    </tr>\n",
       "    <tr>\n",
       "      <th>3786</th>\n",
       "      <td>6955941</td>\n",
       "      <td>321d6ec2-821b-4b9a-9ac4-b7b15fb75dda</td>\n",
       "      <td>KartaView</td>\n",
       "      <td>1605310361</td>\n",
       "    </tr>\n",
       "    <tr>\n",
       "      <th>3787</th>\n",
       "      <td>6955943</td>\n",
       "      <td>7db309f6-b166-45eb-9de1-bb56a02cf0c6</td>\n",
       "      <td>KartaView</td>\n",
       "      <td>1605310409</td>\n",
       "    </tr>\n",
       "    <tr>\n",
       "      <th>3788</th>\n",
       "      <td>6955946</td>\n",
       "      <td>e1e6fbc2-a259-4ae1-b22d-15993c4f292c</td>\n",
       "      <td>KartaView</td>\n",
       "      <td>1605310441</td>\n",
       "    </tr>\n",
       "    <tr>\n",
       "      <th>3789</th>\n",
       "      <td>6955948</td>\n",
       "      <td>4961c187-3592-4a77-ac72-0f131d05fbdb</td>\n",
       "      <td>KartaView</td>\n",
       "      <td>1667748025</td>\n",
       "    </tr>\n",
       "    <tr>\n",
       "      <th>3790</th>\n",
       "      <td>7082514</td>\n",
       "      <td>70e00c23-a5bc-45e2-9788-74e9e2a07da0</td>\n",
       "      <td>KartaView</td>\n",
       "      <td>1204849065</td>\n",
       "    </tr>\n",
       "  </tbody>\n",
       "</table>\n",
       "<p>3791 rows × 4 columns</p>\n",
       "</div>"
      ],
      "text/plain": [
       "      Unnamed: 0                                  uuid     source  \\\n",
       "0        1889019  87e77845-fe9c-4f16-882a-322274a26898  Mapillary   \n",
       "1        1889044  432c6ac2-b3e2-4c9c-80d8-042734fda977  Mapillary   \n",
       "2        1889051  3885f9ae-6309-41de-9597-2fbb2422ef03  Mapillary   \n",
       "3        1889054  4881ef63-b976-4b9c-8984-6a15fe6611f6  Mapillary   \n",
       "4        1889055  0f0e1a48-b264-41a6-bbf9-e5053cc47302  Mapillary   \n",
       "...          ...                                   ...        ...   \n",
       "3786     6955941  321d6ec2-821b-4b9a-9ac4-b7b15fb75dda  KartaView   \n",
       "3787     6955943  7db309f6-b166-45eb-9de1-bb56a02cf0c6  KartaView   \n",
       "3788     6955946  e1e6fbc2-a259-4ae1-b22d-15993c4f292c  KartaView   \n",
       "3789     6955948  4961c187-3592-4a77-ac72-0f131d05fbdb  KartaView   \n",
       "3790     7082514  70e00c23-a5bc-45e2-9788-74e9e2a07da0  KartaView   \n",
       "\n",
       "               orig_id  \n",
       "0      121662616604750  \n",
       "1     1362561054167230  \n",
       "2     4008620072553616  \n",
       "3      896123137843326  \n",
       "4      981213842624869  \n",
       "...                ...  \n",
       "3786        1605310361  \n",
       "3787        1605310409  \n",
       "3788        1605310441  \n",
       "3789        1667748025  \n",
       "3790        1204849065  \n",
       "\n",
       "[3791 rows x 4 columns]"
      ]
     },
     "execution_count": 4,
     "metadata": {},
     "output_type": "execute_result"
    }
   ],
   "source": [
    "city"
   ]
  },
  {
   "cell_type": "code",
   "execution_count": 5,
   "metadata": {},
   "outputs": [],
   "source": [
    "if len(city) == 0:\n",
    "    raise ValueError(\"Empty dataset\")"
   ]
  },
  {
   "cell_type": "markdown",
   "metadata": {},
   "source": [
    "Iterate over all the records and download the images"
   ]
  },
  {
   "cell_type": "code",
   "execution_count": 6,
   "metadata": {},
   "outputs": [
    {
     "name": "stdout",
     "output_type": "stream",
     "text": [
      "\u001b[35mStreetscapes\u001b[0m | \u001b[36m2024-11-20@15:00:45\u001b[0m | \u001b[1mDownloading 3483 images from Mapillary into 'local/output/images'...\u001b[0m\n"
     ]
    },
    {
     "name": "stderr",
     "output_type": "stream",
     "text": [
      "Download progress: 100%|██████████| 3483/3483 [06:34<00:00,  8.82it/s]"
     ]
    },
    {
     "name": "stdout",
     "output_type": "stream",
     "text": [
      "\u001b[35mStreetscapes\u001b[0m | \u001b[36m2024-11-20@15:07:20\u001b[0m | \u001b[1mDownloading 308 images from KartaView into 'local/output/images'...\u001b[0m\n"
     ]
    },
    {
     "name": "stderr",
     "output_type": "stream",
     "text": [
      "\n",
      "Download progress: 100%|██████████| 308/308 [02:46<00:00,  1.85it/s]\n"
     ]
    }
   ],
   "source": [
    "image_paths = ssf.download_images(city, directory, resolution, sample)"
   ]
  }
 ],
 "metadata": {
  "kernelspec": {
   "display_name": "streetscapes",
   "language": "python",
   "name": "python3"
  },
  "language_info": {
   "codemirror_mode": {
    "name": "ipython",
    "version": 3
   },
   "file_extension": ".py",
   "mimetype": "text/x-python",
   "name": "python",
   "nbconvert_exporter": "python",
   "pygments_lexer": "ipython3",
   "version": "3.12.7"
  }
 },
 "nbformat": 4,
 "nbformat_minor": 2
}
