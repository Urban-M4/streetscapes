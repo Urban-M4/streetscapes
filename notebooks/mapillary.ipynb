{
 "cells": [
  {
   "cell_type": "code",
   "execution_count": 1,
   "metadata": {},
   "outputs": [],
   "source": [
    "# --------------------------------------\n",
    "from decouple import AutoConfig\n",
    "\n",
    "# --------------------------------------\n",
    "import mapillary.interface as mly\n",
    "\n",
    "# --------------------------------------\n",
    "import requests\n",
    "\n",
    "# --------------------------------------\n",
    "import numpy as np\n",
    "\n",
    "# --------------------------------------\n",
    "from PIL import Image\n",
    "\n",
    "# --------------------------------------\n",
    "import io\n",
    "\n",
    "# --------------------------------------\n",
    "from matplotlib import pyplot as plt\n"
   ]
  },
  {
   "cell_type": "markdown",
   "metadata": {},
   "source": [
    "# Setup\n",
    "Set up a configuration object, obtain the Mapillary client ID and token from environment variables and set up the Mapillary machinery."
   ]
  },
  {
   "cell_type": "code",
   "execution_count": null,
   "metadata": {},
   "outputs": [],
   "source": [
    "config = AutoConfig(\"./\")\n",
    "client_id = config(\"MAPILLARY_CLIENT_ID\")\n",
    "token = config('MAPILLARY_TOKEN')\n",
    "mly.set_token(token)"
   ]
  },
  {
   "cell_type": "markdown",
   "metadata": {},
   "source": [
    "Get images close to some coordinates."
   ]
  },
  {
   "cell_type": "code",
   "execution_count": null,
   "metadata": {},
   "outputs": [],
   "source": [
    "# Get image points close to in the given coordinates\n",
    "lat = 52.17\n",
    "lon = 4.48\n",
    "data = mly.get_image_close_to(longitude=lon, latitude=lat).to_dict()"
   ]
  },
  {
   "cell_type": "code",
   "execution_count": null,
   "metadata": {},
   "outputs": [],
   "source": [
    "data"
   ]
  },
  {
   "cell_type": "markdown",
   "metadata": {},
   "source": [
    "Check if there are any features in the data for that location and if yes, extract the Image ID for the first feature."
   ]
  },
  {
   "cell_type": "code",
   "execution_count": null,
   "metadata": {},
   "outputs": [],
   "source": [
    "if len(data[\"features\"]) == 0:\n",
    "    raise KeyError(f\"No images found for coordinates {lat}/{lon} \")\n",
    "\n",
    "image_id = data[\"features\"][0]['properties']['id']\n",
    "print(f\"==[ image ID: {image_id}\")"
   ]
  },
  {
   "cell_type": "markdown",
   "metadata": {},
   "source": [
    "Get the URL of the image as a thumbnail (the default resolution is 1024)"
   ]
  },
  {
   "cell_type": "code",
   "execution_count": null,
   "metadata": {},
   "outputs": [],
   "source": [
    "url = mly.image_thumbnail(image_id)"
   ]
  },
  {
   "cell_type": "code",
   "execution_count": 7,
   "metadata": {},
   "outputs": [],
   "source": [
    "response = requests.get(url)"
   ]
  },
  {
   "cell_type": "markdown",
   "metadata": {},
   "source": [
    "Display the image"
   ]
  },
  {
   "cell_type": "code",
   "execution_count": null,
   "metadata": {},
   "outputs": [],
   "source": [
    "if response.status_code == 200:\n",
    "    response.raw.decode_content = True\n",
    "    image = np.array(Image.open(io.BytesIO(response.content)))\n",
    "    fig, ax = plt.subplots(1,1)\n",
    "    ax.imshow(image)\n",
    "    ax.axis('off')"
   ]
  }
 ],
 "metadata": {
  "kernelspec": {
   "display_name": "streetscapes",
   "language": "python",
   "name": "python3"
  },
  "language_info": {
   "codemirror_mode": {
    "name": "ipython",
    "version": 3
   },
   "file_extension": ".py",
   "mimetype": "text/x-python",
   "name": "python",
   "nbconvert_exporter": "python",
   "pygments_lexer": "ipython3",
   "version": "3.12.7"
  }
 },
 "nbformat": 4,
 "nbformat_minor": 2
}
