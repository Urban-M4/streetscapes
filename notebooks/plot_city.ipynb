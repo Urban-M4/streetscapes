{
 "cells": [
  {
   "cell_type": "markdown",
   "metadata": {},
   "source": [
    "## Load and Explore Global Streetscapes data\n",
    "\n",
    "This notebook explores a subset of the [global streetscapes](https://ual.sg/project/global-streetscapes/) dataset saved in parquet format. How to plot and use the data was derived from the [notebooks](https://github.com/ualsg/global-streetscapes/blob/main/notebooks/visualise_dataset.ipynb) provided by the [Urban Analytics Lab (UAL)](https://ual.sg/)."
   ]
  },
  {
   "cell_type": "markdown",
   "metadata": {},
   "source": [
    "### Load Parquet dataset"
   ]
  },
  {
   "cell_type": "code",
   "execution_count": 1,
   "metadata": {},
   "outputs": [],
   "source": [
    "# --------------------------------------\n",
    "import osmnx as ox\n",
    "\n",
    "# --------------------------------------\n",
    "import geopandas as gp\n",
    "\n",
    "# --------------------------------------\n",
    "import matplotlib.pyplot as plt\n",
    "\n",
    "# --------------------------------------\n",
    "import pandas as pd\n",
    "\n",
    "# --------------------------------------\n",
    "from streetscapes import conf"
   ]
  },
  {
   "cell_type": "code",
   "execution_count": 2,
   "metadata": {},
   "outputs": [],
   "source": [
    "df = pd.read_parquet(conf.OUTPUT_DIR / \"streetscapes-data.parquet\")"
   ]
  },
  {
   "cell_type": "markdown",
   "metadata": {},
   "source": [
    "### Subset dataset\n",
    "\n",
    "First, let's subset to a city of interest, in this case Amsterdam, but this workflow can be used for any city in the dataset. Then, create a geodataframe. "
   ]
  },
  {
   "cell_type": "code",
   "execution_count": 3,
   "metadata": {},
   "outputs": [],
   "source": [
    "city = df[df[\"city\"] == \"Amsterdam\"]"
   ]
  },
  {
   "cell_type": "code",
   "execution_count": 4,
   "metadata": {},
   "outputs": [],
   "source": [
    "city_pts = gp.GeoDataFrame(\n",
    "    city, geometry=gp.points_from_xy(city.lon, city.lat), crs=\"EPSG:4326\"\n",
    ")"
   ]
  },
  {
   "cell_type": "markdown",
   "metadata": {},
   "source": [
    "We can now subset the data further for images that were taken during the day and that have a viewing direction from the side."
   ]
  },
  {
   "cell_type": "code",
   "execution_count": 5,
   "metadata": {},
   "outputs": [],
   "source": [
    "city_day = city_pts[city_pts[\"lighting_condition\"] == \"day\"]\n",
    "city_side = city_day[city_day[\"view_direction\"] == \"side\"]"
   ]
  },
  {
   "cell_type": "markdown",
   "metadata": {},
   "source": [
    "We can take this further and calculate the fraction of pixels of each image that contain a certain object of interest. In this example at least 25% building or wall. "
   ]
  },
  {
   "cell_type": "code",
   "execution_count": null,
   "metadata": {},
   "outputs": [],
   "source": [
    "city_day['building_fraction'] = city_day.apply(lambda x: x['Building']/x['Total'], axis=1)\n",
    "city_day['wall_fraction'] = city_day.apply(lambda x: x['Wall']/x['Total'], axis=1)\n",
    "city_walls = city_day[(city_day[\"wall_fraction\"] > 0.25) | (city_day[\"building_fraction\"] > 0.25)]\n",
    "city_walls.head(5)"
   ]
  },
  {
   "cell_type": "markdown",
   "metadata": {},
   "source": [
    "### Create plot\n",
    "\n",
    "Now that we have subset the data, we can create a plot to visualise where these images are. "
   ]
  },
  {
   "cell_type": "code",
   "execution_count": null,
   "metadata": {},
   "outputs": [],
   "source": [
    "# Create bounding box and background for figure\n",
    "G = ox.graph_from_bbox(city_pts.total_bounds[3], city_pts.total_bounds[1], city_pts.total_bounds[2], city_pts.total_bounds[0], network_type='all_private', simplify=True, retain_all=True, truncate_by_edge=False)\n",
    "G2 = ox.get_undirected(G)\n",
    "df_G = ox.graph_to_gdfs(G2)\n",
    "df_lines = df_G[1].copy()\n",
    "df_lines_proj = ox.project_gdf(df_lines).reset_index().reset_index()"
   ]
  },
  {
   "cell_type": "code",
   "execution_count": 8,
   "metadata": {},
   "outputs": [],
   "source": [
    "# Get points for all dataframes for plotting\n",
    "all_pts = ox.project_gdf(city_pts)\n",
    "side_pts = ox.project_gdf(city_side)\n",
    "wall_pts = ox.project_gdf(city_walls)"
   ]
  },
  {
   "cell_type": "code",
   "execution_count": null,
   "metadata": {},
   "outputs": [],
   "source": [
    "# create figure\n",
    "fig, ax = plt.subplots(figsize=(8,8))\n",
    "ax.set_facecolor('#EEEEEE')\n",
    "\n",
    "# plot place area on Axis ax\n",
    "df_lines_proj.plot(ax=ax, color='white', zorder=5)\n",
    "\n",
    "# plot all points\n",
    "all_pts.plot(ax=ax, marker='o', color='#998cc0', markersize=2, alpha=0.5, zorder=10)\n",
    "\n",
    "# plot side view points\n",
    "side_pts.plot(ax=ax, marker='o', color='red', markersize=2, alpha=0.7, zorder=15)\n",
    "\n",
    "# plot points with walls and buildings\n",
    "wall_pts.plot(ax=ax, marker='o', color='blue', markersize=2, alpha=0.7, zorder=15)"
   ]
  }
 ],
 "metadata": {
  "kernelspec": {
   "display_name": "streetscapes",
   "language": "python",
   "name": "python3"
  },
  "language_info": {
   "codemirror_mode": {
    "name": "ipython",
    "version": 3
   },
   "file_extension": ".py",
   "mimetype": "text/x-python",
   "name": "python",
   "nbconvert_exporter": "python",
   "pygments_lexer": "ipython3",
   "version": "3.12.7"
  }
 },
 "nbformat": 4,
 "nbformat_minor": 2
}
