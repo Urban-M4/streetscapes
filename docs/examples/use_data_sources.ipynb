{
 "cells": [
  {
   "cell_type": "markdown",
   "metadata": {},
   "source": [
    "# Using Data Sources\n",
    "\n",
    "Now let's add which source of images we would like to use. Possible are sources are: [Mapillary](https://www.mapillary.com/), [Kartaview](https://kartaview.org/), and [Amsterdam Open Panorama](https://amsterdam.github.io/projects/open-panorama/). \n",
    "\n",
    "It is also possible to use [Global Streetscapes](https://ual.sg/project/global-streetscapes/) as a data source. However, as it is a fundamentally different type of dataset, a separate tutorial can be found [here]() \n",
    "\n",
    "Here we will cover the use of Kartaview, Mapillary amd Amsterdam Open Panorama. \n",
    "\n",
    "<span style=\"color:red;\">NOTE</span>: Make sure you have the appropriate API keys stored in your `.env` file. "
   ]
  },
  {
   "cell_type": "code",
   "execution_count": 1,
   "metadata": {},
   "outputs": [],
   "source": [
    "import warnings\n",
    "warnings.filterwarnings(\"ignore\")\n",
    "\n",
    "import numpy as np\n",
    "from matplotlib import pyplot as plt\n",
    "\n",
    "from streetscapes.sources import SourceType\n",
    "from streetscapes.streetview import SVWorkspace"
   ]
  },
  {
   "cell_type": "code",
   "execution_count": 2,
   "metadata": {},
   "outputs": [],
   "source": [
    "ws = SVWorkspace(\"../tutorial/Amsterdam\", create=True)"
   ]
  },
  {
   "cell_type": "markdown",
   "metadata": {},
   "source": [
    "### Mapillary"
   ]
  },
  {
   "cell_type": "code",
   "execution_count": 3,
   "metadata": {},
   "outputs": [
    {
     "data": {
      "text/plain": [
       "MapillarySource(root_dir='~/.cache/huggingface/assets/streetscapes/images/mapillary')"
      ]
     },
     "execution_count": 3,
     "metadata": {},
     "output_type": "execute_result"
    }
   ],
   "source": [
    "mp = ws.add_source(SourceType.Mapillary)\n",
    "mp"
   ]
  },
  {
   "cell_type": "markdown",
   "metadata": {},
   "source": [
    "To test that the connection to our data sources work, we can get the image URLs for a KartaView and a Mapillary image:"
   ]
  },
  {
   "cell_type": "code",
   "execution_count": 4,
   "metadata": {},
   "outputs": [
    {
     "data": {
      "text/plain": [
       "'https://scontent-ams4-1.xx.fbcdn.net/m1/v/t6/An--rrF4WlM05JH5SMiWxbdSXVWL0mFEymquJWW0EmSjaBemmKBcF8DRGqIe8akNayRiH0VTYunIfeHZlt2zAGA0sYkEkeWIUtnfp27cgiCen37fra1_v0gwTJFgNL5wTiUGkS7F56f_yLBZF1HqZg?edm=ALXxkZ8EAAAA&_nc_gid=ThR2s0TmqBDkKz8UWdg9ww&_nc_oc=AdlLWq6SzSf1M-jZKBxoOoVEyU3X9YwZhLlEnbppO3A3w6rIbFdRkCcuM0bXDaiL9-o&ccb=10-5&oh=00_AfHhsCjtqYAI_eCVDtJmI7zL9ZnQ1WS0CjZoD3Dj50A5dw&oe=683AD2BC&_nc_sid=201bca'"
      ]
     },
     "execution_count": 4,
     "metadata": {},
     "output_type": "execute_result"
    }
   ],
   "source": [
    "mp_img_url = mp.get_image_url(\"4911230068985425\")\n",
    "mp_img_url"
   ]
  },
  {
   "cell_type": "markdown",
   "metadata": {},
   "source": [
    "### Kartaview"
   ]
  },
  {
   "cell_type": "code",
   "execution_count": 5,
   "metadata": {},
   "outputs": [
    {
     "data": {
      "text/plain": [
       "KartaViewSource(root_dir='~/.cache/huggingface/assets/streetscapes/images/karta_view')"
      ]
     },
     "execution_count": 5,
     "metadata": {},
     "output_type": "execute_result"
    }
   ],
   "source": [
    "kv = ws.add_source(SourceType.KartaView)\n",
    "kv"
   ]
  },
  {
   "cell_type": "code",
   "execution_count": 6,
   "metadata": {},
   "outputs": [
    {
     "data": {
      "text/plain": [
       "'https://storage2.openstreetcam.org/files/photo/2016/5/5/proc/3823_3446d_572b6b13bdfca.jpg'"
      ]
     },
     "execution_count": 6,
     "metadata": {},
     "output_type": "execute_result"
    }
   ],
   "source": [
    "kv_img_url = kv.get_image_url(1208524)\n",
    "kv_img_url"
   ]
  },
  {
   "cell_type": "markdown",
   "metadata": {},
   "source": [
    "### Amsterdam Open Panorama"
   ]
  },
  {
   "cell_type": "code",
   "execution_count": null,
   "metadata": {},
   "outputs": [],
   "source": []
  }
 ],
 "metadata": {
  "kernelspec": {
   "display_name": ".venv",
   "language": "python",
   "name": "python3"
  },
  "language_info": {
   "codemirror_mode": {
    "name": "ipython",
    "version": 3
   },
   "file_extension": ".py",
   "mimetype": "text/x-python",
   "name": "python",
   "nbconvert_exporter": "python",
   "pygments_lexer": "ipython3",
   "version": "3.13.2"
  }
 },
 "nbformat": 4,
 "nbformat_minor": 2
}
