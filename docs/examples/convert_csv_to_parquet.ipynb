{
 "cells": [
  {
   "cell_type": "code",
   "execution_count": 1,
   "metadata": {},
   "outputs": [],
   "source": [
    "import warnings\n",
    "\n",
    "warnings.filterwarnings(\"ignore\")\n",
    "\n",
    "import os\n",
    "\n",
    "import duckdb\n",
    "\n",
    "import streetscapes as scs\n",
    "from streetscapes import conf"
   ]
  },
  {
   "cell_type": "markdown",
   "metadata": {},
   "source": [
    "# Convert CSV files to parquet and merging them together\n",
    "\n",
    "The CSV files of the original Global Streetscapes dataset add up to 64GB in total. Moreover, data is split in several files which can make it a bit cumbersome to work with. Here, we convert the data to Parquet, which reduces file size and makes it easier to load and manipulate the data. \n",
    "\n",
    "Additionally, we combine columns from several sources into a single dataset that should serve most usecases.\n",
    "\n",
    "<span style=\"color:red;\">Note</span>: Pre-made versions of the Parquet files produced in this notebook can also be found on the [Global Streetscapes Huggingface repository](https://huggingface.co/datasets/NUS-UAL/global-streetscapes/tree/main/data/parquet)."
   ]
  },
  {
   "cell_type": "code",
   "execution_count": 2,
   "metadata": {},
   "outputs": [],
   "source": [
    "data_dir = conf.DATA_DIR / \"data\"\n",
    "parquet_dir = scs.mkdir(data_dir / \"parquet\")\n",
    "\n",
    "# Full and partial merged Parquet files\n",
    "streetscapes_full = parquet_dir / \"streetscapes.parquet\"\n",
    "streetscapes_partial = parquet_dir / \"streetscapes-partial.parquet\""
   ]
  },
  {
   "cell_type": "code",
   "execution_count": 3,
   "metadata": {},
   "outputs": [
    {
     "name": "stdout",
     "output_type": "stream",
     "text": [
      "metadata_common_attributes\n"
     ]
    },
    {
     "data": {
      "application/vnd.jupyter.widget-view+json": {
       "model_id": "972eb03457404ba2ac628646734782cc",
       "version_major": 2,
       "version_minor": 0
      },
      "text/plain": [
       "FloatProgress(value=0.0, layout=Layout(width='auto'), style=ProgressStyle(bar_color='black'))"
      ]
     },
     "metadata": {},
     "output_type": "display_data"
    },
    {
     "name": "stdout",
     "output_type": "stream",
     "text": [
      "ghsl\n"
     ]
    },
    {
     "data": {
      "application/vnd.jupyter.widget-view+json": {
       "model_id": "67cd183e9e0545a29021e9afd82564dd",
       "version_major": 2,
       "version_minor": 0
      },
      "text/plain": [
       "FloatProgress(value=0.0, layout=Layout(width='auto'), style=ProgressStyle(bar_color='black'))"
      ]
     },
     "metadata": {},
     "output_type": "display_data"
    },
    {
     "name": "stdout",
     "output_type": "stream",
     "text": [
      "places365\n"
     ]
    },
    {
     "data": {
      "application/vnd.jupyter.widget-view+json": {
       "model_id": "2a0663619c9f443197e039a6b99513af",
       "version_major": 2,
       "version_minor": 0
      },
      "text/plain": [
       "FloatProgress(value=0.0, layout=Layout(width='auto'), style=ProgressStyle(bar_color='black'))"
      ]
     },
     "metadata": {},
     "output_type": "display_data"
    },
    {
     "name": "stdout",
     "output_type": "stream",
     "text": [
      "contextual\n"
     ]
    },
    {
     "data": {
      "application/vnd.jupyter.widget-view+json": {
       "model_id": "cc0eab76ae5c462ba9f9f6a7c3bd86f0",
       "version_major": 2,
       "version_minor": 0
      },
      "text/plain": [
       "FloatProgress(value=0.0, layout=Layout(width='auto'), style=ProgressStyle(bar_color='black'))"
      ]
     },
     "metadata": {},
     "output_type": "display_data"
    },
    {
     "name": "stdout",
     "output_type": "stream",
     "text": [
      "segmentation\n"
     ]
    },
    {
     "data": {
      "application/vnd.jupyter.widget-view+json": {
       "model_id": "14a6bbfed223407683dffc29b6e838cc",
       "version_major": 2,
       "version_minor": 0
      },
      "text/plain": [
       "FloatProgress(value=0.0, layout=Layout(width='auto'), style=ProgressStyle(bar_color='black'))"
      ]
     },
     "metadata": {},
     "output_type": "display_data"
    },
    {
     "name": "stdout",
     "output_type": "stream",
     "text": [
      "simplemaps\n"
     ]
    },
    {
     "data": {
      "application/vnd.jupyter.widget-view+json": {
       "model_id": "88f759368ba54404a716f3abfadb1e33",
       "version_major": 2,
       "version_minor": 0
      },
      "text/plain": [
       "FloatProgress(value=0.0, layout=Layout(width='auto'), style=ProgressStyle(bar_color='black'))"
      ]
     },
     "metadata": {},
     "output_type": "display_data"
    },
    {
     "name": "stdout",
     "output_type": "stream",
     "text": [
      "osm\n"
     ]
    },
    {
     "data": {
      "application/vnd.jupyter.widget-view+json": {
       "model_id": "c495008cf39c49bfb54991e7993adcf5",
       "version_major": 2,
       "version_minor": 0
      },
      "text/plain": [
       "FloatProgress(value=0.0, layout=Layout(width='auto'), style=ProgressStyle(bar_color='black'))"
      ]
     },
     "metadata": {},
     "output_type": "display_data"
    },
    {
     "name": "stdout",
     "output_type": "stream",
     "text": [
      "perception\n"
     ]
    },
    {
     "data": {
      "application/vnd.jupyter.widget-view+json": {
       "model_id": "3c77293698fd4c3483f7c6f6b1b0df18",
       "version_major": 2,
       "version_minor": 0
      },
      "text/plain": [
       "FloatProgress(value=0.0, layout=Layout(width='auto'), style=ProgressStyle(bar_color='black'))"
      ]
     },
     "metadata": {},
     "output_type": "display_data"
    }
   ],
   "source": [
    "# Convert all csvs in data dir to parquet\n",
    "for file in data_dir.glob(\"*.csv\"):\n",
    "    print(file.stem)\n",
    "    duckdb.sql(f\"\"\"\n",
    "        COPY (SELECT * FROM read_csv_auto('{file}', sample_size=-1))\n",
    "        TO '{parquet_dir / file.with_suffix(\".parquet\").name}'\n",
    "        (FORMAT 'parquet', COMPRESSION 'zstd')\n",
    "    \"\"\")"
   ]
  },
  {
   "cell_type": "code",
   "execution_count": 4,
   "metadata": {},
   "outputs": [
    {
     "name": "stdout",
     "output_type": "stream",
     "text": [
      "human_readable(csv_size)='13.09 GB', human_readable(parquet_size)='3.39 GB'\n",
      "reduction_factor=3.8615982675090152\n"
     ]
    }
   ],
   "source": [
    "csv_size = sum(file.stat().st_size for file in data_dir.glob(\"*.csv\") if file.is_file())\n",
    "parquet_size = sum(file.stat().st_size for file in parquet_dir.glob(\"*.parquet\") if file.is_file() and file.name not in [streetscapes_full.name, streetscapes_partial.name])\n",
    "\n",
    "def human_readable(size):\n",
    "    \"\"\"Format byte size in human readable format\"\"\"\n",
    "    order_of_magnitude = size.bit_length() // 10  # Dividing by 10 for base-1024 magnitude\n",
    "    match order_of_magnitude:\n",
    "        case 3:\n",
    "            return f\"{size / 1024**3:.2f} GB\"\n",
    "        case 2:\n",
    "            return f\"{size / 1024**2:.2f} MB\"\n",
    "        case 1:\n",
    "            return f\"{size / 1024:.2f} KB\"\n",
    "        case _:\n",
    "            return f\"{size} bytes\"\n",
    "\n",
    "print(f\"{human_readable(csv_size)=}, {human_readable(parquet_size)=}\")\n",
    "\n",
    "reduction_factor = csv_size/parquet_size\n",
    "print(f\"{reduction_factor=}\")"
   ]
  },
  {
   "cell_type": "markdown",
   "metadata": {},
   "source": [
    " We may want to combine multiple csv files together into a single parquet file. If we use JOIN like above on the full table, we quickly run into memory issues. This is because `duckdb.sql(...)` creates an in-memory database to load the data and keep track of intermediate results. Alternatively, duckdb can create a persistent database on disk using `duckdb.connect('database_filename')`. "
   ]
  },
  {
   "cell_type": "code",
   "execution_count": 5,
   "metadata": {},
   "outputs": [
    {
     "data": {
      "application/vnd.jupyter.widget-view+json": {
       "model_id": "85846a44613a46faba8008d83c89fc0d",
       "version_major": 2,
       "version_minor": 0
      },
      "text/plain": [
       "FloatProgress(value=0.0, layout=Layout(width='auto'), style=ProgressStyle(bar_color='black'))"
      ]
     },
     "metadata": {},
     "output_type": "display_data"
    },
    {
     "data": {
      "application/vnd.jupyter.widget-view+json": {
       "model_id": "4819a886405d4737b73d321e90acdde1",
       "version_major": 2,
       "version_minor": 0
      },
      "text/plain": [
       "FloatProgress(value=0.0, layout=Layout(width='auto'), style=ProgressStyle(bar_color='black'))"
      ]
     },
     "metadata": {},
     "output_type": "display_data"
    },
    {
     "data": {
      "application/vnd.jupyter.widget-view+json": {
       "model_id": "b0848682ce4f403b8201498ca567a9f9",
       "version_major": 2,
       "version_minor": 0
      },
      "text/plain": [
       "FloatProgress(value=0.0, layout=Layout(width='auto'), style=ProgressStyle(bar_color='black'))"
      ]
     },
     "metadata": {},
     "output_type": "display_data"
    },
    {
     "data": {
      "application/vnd.jupyter.widget-view+json": {
       "model_id": "54ef6a78d56643c1841586361a87ec72",
       "version_major": 2,
       "version_minor": 0
      },
      "text/plain": [
       "FloatProgress(value=0.0, layout=Layout(width='auto'), style=ProgressStyle(bar_color='black'))"
      ]
     },
     "metadata": {},
     "output_type": "display_data"
    },
    {
     "data": {
      "application/vnd.jupyter.widget-view+json": {
       "model_id": "ddfff1f4467640cdb20ac2f8127d7ced",
       "version_major": 2,
       "version_minor": 0
      },
      "text/plain": [
       "FloatProgress(value=0.0, layout=Layout(width='auto'), style=ProgressStyle(bar_color='black'))"
      ]
     },
     "metadata": {},
     "output_type": "display_data"
    },
    {
     "data": {
      "application/vnd.jupyter.widget-view+json": {
       "model_id": "ef2aea1cb78d4439ae2d0f92a45d1084",
       "version_major": 2,
       "version_minor": 0
      },
      "text/plain": [
       "FloatProgress(value=0.0, layout=Layout(width='auto'), style=ProgressStyle(bar_color='black'))"
      ]
     },
     "metadata": {},
     "output_type": "display_data"
    },
    {
     "data": {
      "application/vnd.jupyter.widget-view+json": {
       "model_id": "5df3e6fcebc948b29fc6c6dc935164eb",
       "version_major": 2,
       "version_minor": 0
      },
      "text/plain": [
       "FloatProgress(value=0.0, layout=Layout(width='auto'), style=ProgressStyle(bar_color='black'))"
      ]
     },
     "metadata": {},
     "output_type": "display_data"
    },
    {
     "data": {
      "application/vnd.jupyter.widget-view+json": {
       "model_id": "b857fc91c1764b4cbcc3d42c35256efc",
       "version_major": 2,
       "version_minor": 0
      },
      "text/plain": [
       "FloatProgress(value=0.0, layout=Layout(width='auto'), style=ProgressStyle(bar_color='black'))"
      ]
     },
     "metadata": {},
     "output_type": "display_data"
    },
    {
     "data": {
      "application/vnd.jupyter.widget-view+json": {
       "model_id": "24de68a1ef82413b87fd3f300080d846",
       "version_major": 2,
       "version_minor": 0
      },
      "text/plain": [
       "FloatProgress(value=0.0, layout=Layout(width='auto'), style=ProgressStyle(bar_color='black'))"
      ]
     },
     "metadata": {},
     "output_type": "display_data"
    },
    {
     "data": {
      "application/vnd.jupyter.widget-view+json": {
       "model_id": "75338beb8f7445a79486b0700582e079",
       "version_major": 2,
       "version_minor": 0
      },
      "text/plain": [
       "FloatProgress(value=0.0, layout=Layout(width='auto'), style=ProgressStyle(bar_color='black'))"
      ]
     },
     "metadata": {},
     "output_type": "display_data"
    },
    {
     "data": {
      "application/vnd.jupyter.widget-view+json": {
       "model_id": "94bb1afc51fb414093dcc6d0422f38d3",
       "version_major": 2,
       "version_minor": 0
      },
      "text/plain": [
       "FloatProgress(value=0.0, layout=Layout(width='auto'), style=ProgressStyle(bar_color='black'))"
      ]
     },
     "metadata": {},
     "output_type": "display_data"
    },
    {
     "data": {
      "application/vnd.jupyter.widget-view+json": {
       "model_id": "6be647339bac4d64ac0726dc7c9b3e6b",
       "version_major": 2,
       "version_minor": 0
      },
      "text/plain": [
       "FloatProgress(value=0.0, layout=Layout(width='auto'), style=ProgressStyle(bar_color='black'))"
      ]
     },
     "metadata": {},
     "output_type": "display_data"
    },
    {
     "data": {
      "application/vnd.jupyter.widget-view+json": {
       "model_id": "ad3c5f3f83554b45b77c50995ad59e35",
       "version_major": 2,
       "version_minor": 0
      },
      "text/plain": [
       "FloatProgress(value=0.0, layout=Layout(width='auto'), style=ProgressStyle(bar_color='black'))"
      ]
     },
     "metadata": {},
     "output_type": "display_data"
    },
    {
     "data": {
      "application/vnd.jupyter.widget-view+json": {
       "model_id": "a2f5ee1204934d4b8be3406fa9ac1839",
       "version_major": 2,
       "version_minor": 0
      },
      "text/plain": [
       "FloatProgress(value=0.0, layout=Layout(width='auto'), style=ProgressStyle(bar_color='black'))"
      ]
     },
     "metadata": {},
     "output_type": "display_data"
    },
    {
     "data": {
      "application/vnd.jupyter.widget-view+json": {
       "model_id": "83b5288dbe684080b082899b77775ba4",
       "version_major": 2,
       "version_minor": 0
      },
      "text/plain": [
       "FloatProgress(value=0.0, layout=Layout(width='auto'), style=ProgressStyle(bar_color='black'))"
      ]
     },
     "metadata": {},
     "output_type": "display_data"
    },
    {
     "data": {
      "application/vnd.jupyter.widget-view+json": {
       "model_id": "bcc4ec2946714988b024c78fdfd55eee",
       "version_major": 2,
       "version_minor": 0
      },
      "text/plain": [
       "FloatProgress(value=0.0, layout=Layout(width='auto'), style=ProgressStyle(bar_color='black'))"
      ]
     },
     "metadata": {},
     "output_type": "display_data"
    },
    {
     "name": "stdout",
     "output_type": "stream",
     "text": [
      "human_readable(combined_size)='1.84 GB'\n"
     ]
    }
   ],
   "source": [
    "files = [\n",
    "        \"contextual\",\n",
    "        \"metadata_common_attributes\",\n",
    "        \"segmentation\",\n",
    "        \"simplemaps\",\n",
    "        \"ghsl\",\n",
    "        \"perception\",\n",
    "        \"places365\",\n",
    "        \"osm\",\n",
    "    ]\n",
    "\n",
    "with duckdb.connect(\"duck.db\") as con:\n",
    "    # Load each dataset onto disk from the each file\n",
    "    for filename in files:\n",
    "        con.sql(f\"CREATE TABLE {filename} AS SELECT * FROM '{parquet_dir / filename}.parquet'\")\n",
    "\n",
    "    # Perform the joins.\n",
    "    for i, filename in enumerate(files[:-1]):\n",
    "        # Join the tables one by one and store intermediate results in separate tables\n",
    "        j = i + 1\n",
    "        target = filename if i==0 else f\"step{i}\"\n",
    "        con.sql(f\"CREATE TABLE step{j} AS SELECT * FROM {target} JOIN {files[j]} USING (UUID, source, orig_id)\")\n",
    "\n",
    "    # Finally, we can export the joined table to a new parquet file\n",
    "    con.sql(f\"COPY step{j} TO '{streetscapes_full}' (FORMAT 'parquet', COMPRESSION 'zstd')\")\n",
    "\n",
    "# Remove the database from our filesystem\n",
    "os.remove(\"duck.db\")\n",
    "\n",
    "# Show the combined file size:\n",
    "combined_size = streetscapes_full.stat().st_size\n",
    "print(f\"{human_readable(combined_size)=}\")"
   ]
  },
  {
   "cell_type": "code",
   "execution_count": 6,
   "metadata": {},
   "outputs": [
    {
     "data": {
      "text/plain": [
       "┌──────────────────────────────────────┬───────────┬──────────────────┬─────────┬────────────────────┬─────────────┬─────────────────┬─────────┬────────────┬────────────────┬─────────┬─────────────────────┬────────────────────┬─────────────────────┬───────┬───────┬───────┬───────┬────────┬────────┬─────────────────┬─────────────────┬───────────────────┬────────────────────┬────────────────┬────────────────────────┬────────────────────┬────────┬───────────────┬─────────┬───────────┬────────────┬──────────┬───────────┬───────────┬───────────────────┬──────────┬─────────┬─────────────────┬────────────┬───────────┬──────────────┬──────────┬──────────┬───────────┬────────┬──────────┬───────────┬──────────────┬─────────────┬──────────────────────────┬────────────────────────┬──────────┬────────┬───────────┬────────┬─────────┬────────────┬──────────┬─────────┬─────────┬───────────┬───────────┬─────────────┬─────────────┬──────────────┬──────────────┬─────────┬─────────┬─────────────┬─────────┬──────────────┬─────────┬────────────────────┬──────────────┬───────────────┬─────────────────────┬──────────────────────┬───────────┬──────────┬──────────┬─────────┬──────────┬─────────┬────────────┬──────────┬───────────────┬─────────┬──────────┬──────────────┬───────────┬─────────────┬───────────┬───────────────────────┬──────────────────────┬─────────┬────────────┬────────────┬──────────┬──────────┬───────────┬─────────┬─────────┬─────────────────┬─────────┬────────────┬───────────┬────────────┬──────────────┬───────────┬────────┬────────────┬────────┬────────┬─────────┬─────────────────┬────────────────────┬───────────────┬───────────────┬────────┬────────────────────────────────────────────────┬─────────┬────────────┬───────────────────────┬──────────────────────────────┬──────────────┬──────────────┬──────────┬────────────────────┬───────────────┬───────────────┬─────────┬──────────┬──────────┬─────────┬────────────────┬────────────┬─────────┬───────────┬──────────┐\n",
       "│                 uuid                 │  source   │     orig_id      │  glare  │ lighting_condition │ pano_status │    platform     │ quality │ reflection │ view_direction │ weather │         lat         │        lon         │   datetime_local    │ year  │ month │  day  │ hour  │ width  │ height │     heading     │ projection_type │       hFoV        │        vFoV        │ sequence_index │      sequence_id       │ sequence_img_count │  Bird  │ Ground-Animal │  Curb   │   Fence   │ Guard-Rail │ Barrier  │   Wall    │ Bike-Lane │ Crosswalk---Plain │ Curb-Cut │ Parking │ Pedestrian-Area │ Rail-Track │   Road    │ Service-Lane │ Sidewalk │  Bridge  │ Building  │ Tunnel │  Person  │ Bicyclist │ Motorcyclist │ Other-Rider │ Lane-Marking---Crosswalk │ Lane-Marking---General │ Mountain │  Sand  │    Sky    │  Snow  │ Terrain │ Vegetation │  Water   │ Banner  │  Bench  │ Bike-Rack │ Billboard │ Catch-Basin │ CCTV-Camera │ Fire-Hydrant │ Junction-Box │ Mailbox │ Manhole │ Phone-Booth │ Pothole │ Street-Light │  Pole   │ Traffic-Sign-Frame │ Utility-Pole │ Traffic-Light │ Traffic-Sign-(Back) │ Traffic-Sign-(Front) │ Trash-Can │ Bicycle  │   Boat   │   Bus   │   Car    │ Caravan │ Motorcycle │ On-Rails │ Other-Vehicle │ Trailer │  Truck   │ Wheeled-Slow │ Car-Mount │ Ego-Vehicle │   Total   │   green_view_index    │    sky_view_index    │  city   │ city_ascii │  city_id   │ city_lat │ city_lon │  country  │  iso2   │  iso3   │   admin_name    │ capital │ population │ continent │ urban_code │  urban_term  │ Beautiful │ Boring │ Depressing │ Lively │  Safe  │ Wealthy │      place      │     snap_dist      │       u       │       v       │  key   │                     osmid                      │ oneway  │   lanes    │         name          │           highway            │ type_highway │   maxspeed   │ junction │       length       │     from      │      to       │   ref   │ tunnel_1 │ bridge_1 │ service │     access     │ road_width │  area   │ est_width │ reversed │\n",
       "│               varchar                │  varchar  │      int64       │ boolean │      varchar       │   boolean   │     varchar     │ varchar │  boolean   │    varchar     │ varchar │       double        │       double       │      timestamp      │ int64 │ int64 │ int64 │ int64 │ double │ double │     double      │     varchar     │      double       │       double       │     int64      │        varchar         │       int64        │ double │    double     │ double  │  double   │   double   │  double  │  double   │  double   │      double       │  double  │ double  │     double      │   double   │  double   │    double    │  double  │  double  │  double   │ double │  double  │  double   │    double    │   double    │          double          │         double         │  double  │ double │  double   │ double │ double  │   double   │  double  │ double  │ double  │  double   │  double   │   double    │   double    │    double    │    double    │ double  │ double  │   double    │ double  │    double    │ double  │       double       │    double    │    double     │       double        │        double        │  double   │  double  │  double  │ double  │  double  │ double  │   double   │  double  │    double     │ double  │  double  │    double    │  double   │   double    │  double   │        double         │        double        │ varchar │  varchar   │   int64    │  double  │  double  │  varchar  │ varchar │ varchar │     varchar     │ varchar │   double   │  varchar  │   int64    │   varchar    │  double   │ double │   double   │ double │ double │ double  │     varchar     │       double       │    double     │    double     │ double │                    varchar                     │ boolean │  varchar   │        varchar        │           varchar            │   varchar    │   varchar    │ varchar  │       double       │    double     │    double     │ varchar │ varchar  │ varchar  │ varchar │    varchar     │  varchar   │ boolean │  varchar  │ varchar  │\n",
       "├──────────────────────────────────────┼───────────┼──────────────────┼─────────┼────────────────────┼─────────────┼─────────────────┼─────────┼────────────┼────────────────┼─────────┼─────────────────────┼────────────────────┼─────────────────────┼───────┼───────┼───────┼───────┼────────┼────────┼─────────────────┼─────────────────┼───────────────────┼────────────────────┼────────────────┼────────────────────────┼────────────────────┼────────┼───────────────┼─────────┼───────────┼────────────┼──────────┼───────────┼───────────┼───────────────────┼──────────┼─────────┼─────────────────┼────────────┼───────────┼──────────────┼──────────┼──────────┼───────────┼────────┼──────────┼───────────┼──────────────┼─────────────┼──────────────────────────┼────────────────────────┼──────────┼────────┼───────────┼────────┼─────────┼────────────┼──────────┼─────────┼─────────┼───────────┼───────────┼─────────────┼─────────────┼──────────────┼──────────────┼─────────┼─────────┼─────────────┼─────────┼──────────────┼─────────┼────────────────────┼──────────────┼───────────────┼─────────────────────┼──────────────────────┼───────────┼──────────┼──────────┼─────────┼──────────┼─────────┼────────────┼──────────┼───────────────┼─────────┼──────────┼──────────────┼───────────┼─────────────┼───────────┼───────────────────────┼──────────────────────┼─────────┼────────────┼────────────┼──────────┼──────────┼───────────┼─────────┼─────────┼─────────────────┼─────────┼────────────┼───────────┼────────────┼──────────────┼───────────┼────────┼────────────┼────────┼────────┼─────────┼─────────────────┼────────────────────┼───────────────┼───────────────┼────────┼────────────────────────────────────────────────┼─────────┼────────────┼───────────────────────┼──────────────────────────────┼──────────────┼──────────────┼──────────┼────────────────────┼───────────────┼───────────────┼─────────┼──────────┼──────────┼─────────┼────────────────┼────────────┼─────────┼───────────┼──────────┤\n",
       "│ 826e2dc6-044d-488c-a46e-7d40069f0ab2 │ Mapillary │  204149574757156 │ false   │ day                │ false       │ walking surface │ good    │ false      │ front/back     │ clear   │  -33.86330654778692 │ 151.20390057563782 │ 2019-12-17 10:06:13 │  2019 │    12 │    17 │    21 │ 4000.0 │ 3000.0 │            -1.0 │ perspective     │ 93.18099312713828 │   76.8175270351733 │             13 │ TY3N3m9Z4iupT3VbFTxcjb │                804 │    0.0 │           0.0 │ 68093.0 │    2015.0 │        0.0 │   3355.0 │    4969.0 │       0.0 │               0.0 │   2227.0 │     0.0 │             0.0 │        0.0 │  528011.0 │          0.0 │ 449978.0 │   3250.0 │  765668.0 │    0.0 │ 543896.0 │       0.0 │          0.0 │         0.0 │                      0.0 │                 3421.0 │      0.0 │    0.0 │  292912.0 │    0.0 │     1.0 │   268173.0 │      0.0 │  6376.0 │     0.0 │       0.0 │   63617.0 │         0.0 │         0.0 │          0.0 │          3.0 │     0.0 │  6894.0 │         0.0 │     0.0 │       1346.0 │ 41618.0 │                0.0 │          0.0 │        3237.0 │                 0.0 │              17501.0 │       0.0 │      0.0 │      0.0 │ 28070.0 │  41097.0 │     0.0 │        0.0 │      0.0 │           0.0 │     0.0 │      0.0 │          0.0 │       0.0 │         0.0 │ 3145728.0 │    0.0852499008178711 │  0.09311421712239583 │ Sydney  │ Sydney     │ 1036074917 │  -33.865 │ 151.2094 │ Australia │ AU      │ AUS     │ New South Wales │ admin   │  4840600.0 │ Oceania   │         30 │ urban centre │      6.86 │   2.76 │       4.71 │   9.57 │   0.62 │    4.41 │ street          │  2.322697946786817 │   666758837.0 │ 11445432419.0 │    0.0 │ [734688288, 1186155121, 1186155120, 943222841] │ false   │ ['3', '4'] │ Kent Street           │ unclassified                 │ drive        │ 40           │ NULL     │            177.793 │ 11445432419.0 │   666758837.0 │ NULL    │ NULL     │ NULL     │ NULL    │ NULL           │ NULL       │ NULL    │ NULL      │ NULL     │\n",
       "│ c3dc1f23-85b2-4647-879d-c3278bad3c0b │ Mapillary │  543738680119263 │ false   │ day                │ false       │ walking surface │ good    │ false      │ front/back     │ clear   │  -33.86829538387989 │  151.2051236629486 │ 2019-12-17 08:56:36 │  2019 │    12 │    17 │    19 │ 4000.0 │ 3000.0 │            -1.0 │ perspective     │  94.7563744152635 │  78.35978754731967 │            202 │ HcWvuNjyDdadyTg5AxjHnH │                807 │    0.0 │           0.0 │ 19632.0 │   33964.0 │        0.0 │      0.0 │       0.0 │       0.0 │               0.0 │      0.0 │     0.0 │             0.0 │        0.0 │   36725.0 │          0.0 │ 675013.0 │      0.0 │ 1109404.0 │    0.0 │  69349.0 │   22548.0 │          0.0 │         0.0 │                      0.0 │                 1407.0 │      0.0 │    0.0 │   75038.0 │    0.0 │     0.0 │   243028.0 │      0.0 │  2799.0 │     0.0 │       0.0 │   55263.0 │       534.0 │         0.0 │          0.0 │          0.0 │     0.0 │   100.0 │         0.0 │     0.0 │        724.0 │ 18996.0 │                0.0 │          0.0 │           0.0 │                 0.0 │               5307.0 │       0.0 │      0.0 │      0.0 │     0.0 │   2969.0 │     0.0 │        0.0 │      0.0 │           0.0 │     0.0 │ 772928.0 │          0.0 │       0.0 │         0.0 │ 3145728.0 │    0.0772565205891927 │  0.02385393778483073 │ Sydney  │ Sydney     │ 1036074917 │  -33.865 │ 151.2094 │ Australia │ AU      │ AUS     │ New South Wales │ admin   │  4840600.0 │ Oceania   │         30 │ urban centre │      6.97 │   3.33 │        4.7 │   7.84 │   1.77 │    8.84 │ street          │  1.690189892763734 │ 10187696168.0 │ 11690085893.0 │    0.0 │ 1113541339                                     │ false   │ 4          │ Clarence Street       │ footway                      │ walk         │ 40           │ NULL     │             97.049 │ 11690085893.0 │ 10187696168.0 │ NULL    │ NULL     │ NULL     │ NULL    │ destination||| │ 12.0       │ NULL    │ NULL      │ NULL     │\n",
       "│ 0ab1b8a5-b05e-4ffd-9778-b4877938a115 │ Mapillary │ 2918154208424963 │ false   │ day                │ false       │ cycling surface │ good    │ false      │ front/back     │ clear   │ -33.861137204014014 │ 151.20520949363708 │ 2020-07-24 12:23:04 │  2020 │     7 │    24 │    22 │ 3840.0 │ 2160.0 │ 16.318976200617 │ perspective     │ 92.92961558749543 │ 61.252985945901365 │             19 │ 5JvHmB13Of9qWCcKRJzEHw │                128 │    0.0 │           0.0 │     0.0 │ 1001924.0 │        0.0 │      0.0 │       0.0 │       0.0 │               0.0 │      0.0 │     0.0 │             0.0 │        0.0 │       0.0 │          0.0 │ 314936.0 │      0.0 │  116316.0 │    0.0 │      0.0 │       0.0 │          0.0 │         0.0 │                      0.0 │                    0.0 │      0.0 │    0.0 │  577695.0 │    0.0 │     0.0 │   344870.0 │      0.0 │     0.0 │     0.0 │       0.0 │       0.0 │         0.0 │         0.0 │          0.0 │          0.0 │     0.0 │     0.0 │         0.0 │     0.0 │        604.0 │  2323.0 │                0.0 │        628.0 │           0.0 │                 0.0 │                  0.0 │       0.0 │      0.0 │      0.0 │     0.0 │      0.0 │     0.0 │        0.0 │      0.0 │           0.0 │     0.0 │      0.0 │          0.0 │       0.0 │         0.0 │ 2359296.0 │   0.14617496066623265 │  0.24485905965169272 │ Sydney  │ Sydney     │ 1036074917 │  -33.865 │ 151.2094 │ Australia │ AU      │ AUS     │ New South Wales │ admin   │  4840600.0 │ Oceania   │         30 │ urban centre │      7.78 │   3.89 │       6.27 │   1.81 │   1.45 │    1.76 │ promenade       │ 1.1477579293386917 │  1648068675.0 │  1810719406.0 │    0.0 │ [752114082, 169913703, 2956174, 169913719]     │ false   │ 2          │ Upper Fort Street     │ ['cycleway', 'unclassified'] │ cycle        │ 40           │ NULL     │            170.781 │  1810719406.0 │  1648068675.0 │ NULL    │ NULL     │ yes      │ NULL    │ NULL           │ NULL       │ NULL    │ NULL      │ NULL     │\n",
       "│ 39cb75f8-16e7-4df0-872d-0f9f72a8fd6e │ Mapillary │  288826616201511 │ false   │ day                │ false       │ cycling surface │ good    │ false      │ front/back     │ cloudy  │  -33.85843769722594 │ 151.20409905910492 │ 2017-12-17 11:17:04 │  2017 │    12 │    17 │    22 │ 3840.0 │ 2160.0 │          102.38 │ perspective     │ 95.33349744939116 │ 63.387273491956094 │             53 │ ENd90RfjHClvkXn3oAhQ3A │                155 │    0.0 │           0.0 │ 39353.0 │   53068.0 │        0.0 │      0.0 │   30622.0 │  753526.0 │               0.0 │   1239.0 │     0.0 │             0.0 │        0.0 │  109057.0 │          0.0 │  67023.0 │      0.0 │  159204.0 │    0.0 │  10784.0 │       0.0 │         40.0 │         0.0 │                    149.0 │                72356.0 │      0.0 │    0.0 │  309657.0 │    0.0 │ 36279.0 │   641199.0 │      0.0 │     0.0 │     0.0 │       0.0 │     675.0 │         0.0 │         0.0 │          0.0 │       2699.0 │     0.0 │     0.0 │         0.0 │     0.0 │          0.0 │ 13229.0 │                0.0 │          0.0 │           0.0 │              6345.0 │               2357.0 │     453.0 │    451.0 │      0.0 │     0.0 │  19476.0 │     0.0 │     3522.0 │      0.0 │           0.0 │     0.0 │      0.0 │          0.0 │       0.0 │     26533.0 │ 2359296.0 │    0.2717755635579427 │  0.13124974568684897 │ Sydney  │ Sydney     │ 1036074917 │  -33.865 │ 151.2094 │ Australia │ AU      │ AUS     │ New South Wales │ admin   │  4840600.0 │ Oceania   │         30 │ urban centre │      9.82 │   2.06 │       1.16 │   7.59 │   6.43 │    8.21 │ street          │ 0.1080743392981019 │  1810722183.0 │  1810722184.0 │    0.0 │ 187990285                                      │ false   │ 2          │ Argyle Street         │ unclassified                 │ drive        │ 40           │ NULL     │             41.449 │  1810722184.0 │  1810722183.0 │ NULL    │ NULL     │ NULL     │ NULL    │ NULL           │ NULL       │ NULL    │ NULL      │ NULL     │\n",
       "│ fba393a8-c4bb-407a-9573-0185be8919da │ Mapillary │  617067035916575 │ false   │ day                │ false       │ walking surface │ good    │ false      │ front/back     │ clear   │  -33.86875416399009 │ 151.20152950286865 │ 2019-12-17 10:28:17 │  2019 │    12 │    17 │    21 │ 4000.0 │ 3000.0 │ 180.86490911787 │ fisheye         │   93.675064304613 │  77.29991191440507 │            916 │ 3iho8VLSlmVUG0oLFS0Srw │                998 │    0.0 │           0.0 │     0.0 │   26569.0 │        0.0 │      0.0 │    1983.0 │       0.0 │               0.0 │      0.0 │     0.0 │       1092851.0 │        0.0 │       0.0 │          0.0 │      0.0 │  24218.0 │  457190.0 │    0.0 │  42380.0 │       0.0 │          0.0 │         0.0 │                      0.0 │                    0.0 │      0.0 │    0.0 │ 1252388.0 │    0.0 │ 25927.0 │    54140.0 │   3751.0 │     0.0 │ 87526.0 │       0.0 │    4800.0 │         0.0 │         0.0 │          0.0 │          0.0 │     0.0 │     0.0 │         0.0 │     0.0 │          0.0 │ 24726.0 │            17002.0 │          0.0 │           0.0 │                 0.0 │                  0.0 │    9681.0 │      0.0 │  15279.0 │     0.0 │      0.0 │     0.0 │        0.0 │      0.0 │           0.0 │     0.0 │      0.0 │       5317.0 │       0.0 │         0.0 │ 3145728.0 │  0.017210642496744793 │  0.39812342325846356 │ Sydney  │ Sydney     │ 1036074917 │  -33.865 │ 151.2094 │ Australia │ AU      │ AUS     │ New South Wales │ admin   │  4840600.0 │ Oceania   │         30 │ urban centre │      6.78 │   5.74 │       7.44 │   8.86 │   0.59 │    6.03 │ promenade       │ 3.4055218275707584 │  2583512626.0 │  3736931358.0 │    0.0 │ 148338565                                      │ false   │ NULL       │ King Street Wharf     │ cycleway                     │ cycle        │ 50           │ NULL     │             43.264 │  3736931358.0 │  2583512626.0 │ NULL    │ NULL     │ NULL     │ NULL    │ NULL           │ NULL       │ NULL    │ NULL      │ NULL     │\n",
       "│ 6f0b580b-d812-4266-949f-2ad7e7d0c1f8 │ Mapillary │  525243435309098 │ false   │ day                │ false       │ cycling surface │ good    │ false      │ front/back     │ clear   │ -33.870166122255924 │ 151.20997846126556 │ 2018-01-20 09:37:24 │  2018 │     1 │    20 │    20 │ 3840.0 │ 2160.0 │          172.61 │ perspective     │ 98.28090330592092 │  66.07148917784595 │             22 │ cpPMKlsfIYqUierlmty49w │                 27 │    0.0 │           0.0 │ 32552.0 │    1870.0 │        0.0 │   7927.0 │   31421.0 │   50423.0 │               0.0 │      1.0 │   506.0 │             0.0 │        0.0 │  919670.0 │          0.0 │  66214.0 │      0.0 │  385629.0 │    0.0 │   1689.0 │       0.0 │          0.0 │         0.0 │                   2646.0 │               160187.0 │      0.0 │    0.0 │   36191.0 │    0.0 │     0.0 │   572192.0 │      0.0 │  2052.0 │  2445.0 │       0.0 │   37514.0 │        56.0 │         0.0 │          0.0 │          0.0 │     0.0 │     0.0 │         0.0 │     0.0 │          0.0 │ 29851.0 │                0.0 │       3854.0 │       10915.0 │                 0.0 │               3273.0 │       0.0 │      0.0 │      0.0 │     0.0 │    218.0 │     0.0 │        0.0 │      0.0 │           0.0 │     0.0 │      0.0 │          0.0 │       0.0 │         0.0 │ 2359296.0 │    0.2425265842013889 │ 0.015339745415581597 │ Sydney  │ Sydney     │ 1036074917 │  -33.865 │ 151.2094 │ Australia │ AU      │ AUS     │ New South Wales │ admin   │  4840600.0 │ Oceania   │         30 │ urban centre │       8.8 │   0.36 │       2.18 │   8.11 │   6.18 │    7.39 │ street          │               NULL │          NULL │          NULL │   NULL │ NULL                                           │ NULL    │ NULL       │ NULL                  │ NULL                         │ NULL         │ NULL         │ NULL     │               NULL │          NULL │          NULL │ NULL    │ NULL     │ NULL     │ NULL    │ NULL           │ NULL       │ NULL    │ NULL      │ NULL     │\n",
       "│ a5556165-6420-41ee-8929-af1c90803813 │ Mapillary │  167870868671132 │ false   │ day                │ false       │ walking surface │ good    │ false      │ side           │ clear   │    -33.870130489527 │  151.1988204717636 │ 2019-12-17 10:47:41 │  2019 │    12 │    17 │    21 │ 4000.0 │ 3000.0 │            -1.0 │ perspective     │ 93.33319194204232 │  76.96599989690723 │            309 │ FtCCpDDRKaoCkrHqPkYtvW │               3585 │    0.0 │           0.0 │     0.0 │    1463.0 │        0.0 │      0.0 │   36510.0 │       0.0 │               0.0 │      0.0 │     0.0 │       1271749.0 │        0.0 │       0.0 │          0.0 │      0.0 │      0.0 │ 1267534.0 │    0.0 │   1901.0 │       0.0 │          0.0 │         0.0 │                      0.0 │                    0.0 │      0.0 │    0.0 │  327754.0 │    0.0 │     0.0 │     9274.0 │      0.0 │     0.0 │     0.0 │       0.0 │    7040.0 │         0.0 │       262.0 │          0.0 │          0.0 │     0.0 │ 36314.0 │         0.0 │     0.0 │     157084.0 │  9426.0 │                0.0 │          0.0 │          35.0 │                 0.0 │               3475.0 │   15907.0 │      0.0 │      0.0 │     0.0 │      0.0 │     0.0 │        0.0 │      0.0 │           0.0 │     0.0 │      0.0 │          0.0 │       0.0 │         0.0 │ 3145728.0 │  0.002948125203450521 │  0.10419019063313802 │ Sydney  │ Sydney     │ 1036074917 │  -33.865 │ 151.2094 │ Australia │ AU      │ AUS     │ New South Wales │ admin   │  4840600.0 │ Oceania   │         30 │ urban centre │      2.86 │   6.83 │       8.18 │   5.88 │   4.67 │     5.5 │ industrial_area │ 1.9814225710932565 │   761870693.0 │  2583591413.0 │    0.0 │ 60862234                                       │ false   │ NULL       │ NULL                  │ footway                      │ walk         │ NULL         │ NULL     │             49.327 │  2583591413.0 │   761870693.0 │ NULL    │ NULL     │ NULL     │ NULL    │ NULL           │ NULL       │ NULL    │ NULL      │ NULL     │\n",
       "│ abe64561-86e6-477d-a195-d4b3a5c65905 │ Mapillary │  827928571443743 │ false   │ day                │ false       │ walking surface │ good    │ false      │ front/back     │ clear   │  -33.86471414177774 │ 151.20454967021942 │ 2019-12-17 09:01:54 │  2019 │    12 │    17 │    20 │ 4000.0 │ 3000.0 │            -1.0 │ perspective     │   93.208633882532 │  76.84448279737157 │            107 │ NsajEky6vdn4aapQ6VBnHn │                114 │    0.0 │           0.0 │ 89493.0 │     350.0 │        0.0 │      0.0 │       0.0 │       0.0 │           45137.0 │     19.0 │     0.0 │             0.0 │        0.0 │  154051.0 │          0.0 │ 923516.0 │      0.0 │ 1119931.0 │    0.0 │  60907.0 │       0.0 │          0.0 │         0.0 │                      0.0 │                23728.0 │      0.0 │    0.0 │  208958.0 │    0.0 │     0.0 │   307442.0 │      0.0 │     0.0 │     0.0 │       0.0 │   27214.0 │         0.0 │         0.0 │          0.0 │          0.0 │     0.0 │ 56218.0 │         0.0 │     0.0 │          0.0 │ 24347.0 │                0.0 │          0.0 │       33063.0 │               114.0 │              14087.0 │    1764.0 │      0.0 │      0.0 │   861.0 │  54528.0 │     0.0 │        0.0 │      0.0 │           0.0 │     0.0 │      0.0 │          0.0 │       0.0 │         0.0 │ 3145728.0 │   0.09773317972819011 │  0.06642595926920573 │ Sydney  │ Sydney     │ 1036074917 │  -33.865 │ 151.2094 │ Australia │ AU      │ AUS     │ New South Wales │ admin   │  4840600.0 │ Oceania   │         30 │ urban centre │      6.14 │   2.72 │       1.43 │   8.78 │   3.42 │    7.39 │ street          │               NULL │          NULL │          NULL │   NULL │ NULL                                           │ NULL    │ NULL       │ NULL                  │ NULL                         │ NULL         │ NULL         │ NULL     │               NULL │          NULL │          NULL │ NULL    │ NULL     │ NULL     │ NULL    │ NULL           │ NULL       │ NULL    │ NULL      │ NULL     │\n",
       "│ e5b751bf-7343-41d8-9d23-ffce50627446 │ Mapillary │  149070223811197 │ false   │ day                │ false       │ walking surface │ good    │ false      │ front/back     │ clear   │  -33.86999241256197 │ 151.20155096054077 │ 2019-12-17 10:30:38 │  2019 │    12 │    17 │    21 │ 4000.0 │ 3000.0 │            -1.0 │ perspective     │  94.8477734052659 │  78.44963663218756 │            760 │ uf9q4c7QNRQQLPwJSmy2rc │               1059 │    0.0 │           0.0 │   134.0 │   46312.0 │        0.0 │      0.0 │    7732.0 │       0.0 │               0.0 │      0.0 │     0.0 │       1237485.0 │        0.0 │     685.0 │          0.0 │  17393.0 │  53991.0 │  528802.0 │    0.0 │  14915.0 │    1358.0 │          0.0 │         0.0 │                      0.0 │                    0.0 │      0.0 │    0.0 │  737698.0 │    0.0 │     0.0 │        0.0 │  21560.0 │ 11469.0 │  3940.0 │       0.0 │   61674.0 │         0.0 │         0.0 │          0.0 │          0.0 │     0.0 │     0.0 │         0.0 │     0.0 │      11112.0 │ 32932.0 │                0.0 │          0.0 │           0.0 │                 0.0 │                  0.0 │    3529.0 │      4.0 │ 332330.0 │     0.0 │      0.0 │     0.0 │    20673.0 │      0.0 │           0.0 │     0.0 │      0.0 │          0.0 │       0.0 │         0.0 │ 3145728.0 │                   0.0 │  0.23450787862141928 │ Sydney  │ Sydney     │ 1036074917 │  -33.865 │ 151.2094 │ Australia │ AU      │ AUS     │ New South Wales │ admin   │  4840600.0 │ Oceania   │         30 │ urban centre │      8.65 │    2.2 │       6.96 │   4.08 │   3.16 │    3.29 │ promenade       │  3.900506732734861 │  1430709376.0 │  5601097676.0 │    0.0 │ [245175318, 245175319]                         │ false   │ NULL       │ Pier 26               │ cycleway                     │ cycle        │ 50           │ NULL     │ 144.48600000000002 │  5601097676.0 │  1430709376.0 │ NULL    │ NULL     │ NULL     │ NULL    │ NULL           │ NULL       │ NULL    │ NULL      │ NULL     │\n",
       "│ 192a5ca7-6521-4b84-a932-c889b0ed6f56 │ Mapillary │  209992337614580 │ false   │ day                │ false       │ walking surface │ good    │ false      │ front/back     │ clear   │  -33.87008594859495 │ 151.20182991027832 │ 2019-12-17 10:31:01 │  2019 │    12 │    17 │    21 │ 4000.0 │ 3000.0 │            -1.0 │ perspective     │ 93.27974462310593 │  76.91384824818859 │            894 │ uf9q4c7QNRQQLPwJSmy2rc │               1059 │    0.0 │           0.0 │     0.0 │   19610.0 │        0.0 │      0.0 │   37637.0 │       0.0 │               0.0 │      0.0 │     0.0 │        991691.0 │        0.0 │       0.0 │          0.0 │     57.0 │ 172867.0 │  551791.0 │    0.0 │   1061.0 │       0.0 │          0.0 │         0.0 │                      0.0 │                    0.0 │      0.0 │    0.0 │  955784.0 │    0.0 │     0.0 │     2937.0 │ 111532.0 │     0.0 │     0.0 │       0.0 │  151590.0 │     89849.0 │         0.0 │          0.0 │          0.0 │     0.0 │     0.0 │         0.0 │     0.0 │       6717.0 │ 47632.0 │                0.0 │          0.0 │           0.0 │                 0.0 │                  0.0 │       0.0 │      0.0 │   3512.0 │  1461.0 │      0.0 │     0.0 │        0.0 │      0.0 │           0.0 │     0.0 │      0.0 │          0.0 │       0.0 │         0.0 │ 3145728.0 │ 0.0009336471557617188 │  0.30383555094401044 │ Sydney  │ Sydney     │ 1036074917 │  -33.865 │ 151.2094 │ Australia │ AU      │ AUS     │ New South Wales │ admin   │  4840600.0 │ Oceania   │         30 │ urban centre │      6.18 │   2.41 │       9.18 │   5.14 │   1.96 │    5.75 │ promenade       │   4.28540776045654 │  1430709376.0 │  5601097676.0 │    0.0 │ [245175318, 245175319]                         │ false   │ NULL       │ Pier 26               │ cycleway                     │ cycle        │ 50           │ NULL     │ 144.48600000000002 │  5601097676.0 │  1430709376.0 │ NULL    │ NULL     │ NULL     │ NULL    │ NULL           │ NULL       │ NULL    │ NULL      │ NULL     │\n",
       "│                  ·                   │     ·     │         ·        │   ·     │  ·                 │   ·         │        ·        │  ·      │   ·        │  ·             │   ·     │           ·         │          ·         │          ·          │    ·  │     · │     · │     · │    ·   │    ·   │              ·  │      ·          │         ·         │          ·         │             ·  │           ·            │                 ·  │     ·  │            ·  │      ·  │      ·    │         ·  │       ·  │      ·    │        ·  │                ·  │       ·  │      ·  │            ·    │         ·  │        ·  │           ·  │       ·  │       ·  │      ·    │     ·  │      ·   │        ·  │           ·  │          ·  │                       ·  │                     ·  │       ·  │     ·  │      ·    │     ·  │      ·  │        ·   │     ·    │      ·  │      ·  │        ·  │        ·  │          ·  │          ·  │           ·  │           ·  │      ·  │      ·  │          ·  │      ·  │          ·   │    ·    │                 ·  │           ·  │            ·  │                  ·  │                   ·  │        ·  │       ·  │      ·   │     ·   │       ·  │      ·  │         ·  │       ·  │            ·  │      ·  │       ·  │           ·  │        ·  │          ·  │     ·     │            ·          │            ·         │   ·     │   ·        │      ·     │     ·    │     ·    │     ·     │ ·       │  ·      │        ·        │   ·     │      ·     │    ·      │          · │      ·       │        ·  │     ·  │         ·  │     ·  │     ·  │      ·  │     ·           │                 ·  │            ·  │            ·  │     ·  │  ·                                             │  ·      │  ·         │  ·                    │  ·                           │  ·           │ ·            │  ·       │                 ·  │            ·  │            ·  │  ·      │  ·       │  ·       │  ·      │  ·             │  ·         │  ·      │  ·        │  ·       │\n",
       "│                  ·                   │     ·     │         ·        │   ·     │  ·                 │   ·         │        ·        │  ·      │   ·        │  ·             │   ·     │           ·         │          ·         │          ·          │    ·  │     · │     · │     · │    ·   │    ·   │              ·  │      ·          │         ·         │          ·         │             ·  │           ·            │                 ·  │     ·  │            ·  │      ·  │      ·    │         ·  │       ·  │      ·    │        ·  │                ·  │       ·  │      ·  │            ·    │         ·  │        ·  │           ·  │       ·  │       ·  │      ·    │     ·  │      ·   │        ·  │           ·  │          ·  │                       ·  │                     ·  │       ·  │     ·  │      ·    │     ·  │      ·  │        ·   │     ·    │      ·  │      ·  │        ·  │        ·  │          ·  │          ·  │           ·  │           ·  │      ·  │      ·  │          ·  │      ·  │          ·   │    ·    │                 ·  │           ·  │            ·  │                  ·  │                   ·  │        ·  │       ·  │      ·   │     ·   │       ·  │      ·  │         ·  │       ·  │            ·  │      ·  │       ·  │           ·  │        ·  │          ·  │     ·     │            ·          │            ·         │   ·     │   ·        │      ·     │     ·    │     ·    │     ·     │ ·       │  ·      │        ·        │   ·     │      ·     │    ·      │          · │      ·       │        ·  │     ·  │         ·  │     ·  │     ·  │      ·  │     ·           │                 ·  │            ·  │            ·  │     ·  │  ·                                             │  ·      │  ·         │  ·                    │  ·                           │  ·           │ ·            │  ·       │                 ·  │            ·  │            ·  │  ·      │  ·       │  ·       │  ·      │  ·             │  ·         │  ·      │  ·        │  ·       │\n",
       "│                  ·                   │     ·     │         ·        │   ·     │  ·                 │   ·         │        ·        │  ·      │   ·        │  ·             │   ·     │           ·         │          ·         │          ·          │    ·  │     · │     · │     · │    ·   │    ·   │              ·  │      ·          │         ·         │          ·         │             ·  │           ·            │                 ·  │     ·  │            ·  │      ·  │      ·    │         ·  │       ·  │      ·    │        ·  │                ·  │       ·  │      ·  │            ·    │         ·  │        ·  │           ·  │       ·  │       ·  │      ·    │     ·  │      ·   │        ·  │           ·  │          ·  │                       ·  │                     ·  │       ·  │     ·  │      ·    │     ·  │      ·  │        ·   │     ·    │      ·  │      ·  │        ·  │        ·  │          ·  │          ·  │           ·  │           ·  │      ·  │      ·  │          ·  │      ·  │          ·   │    ·    │                 ·  │           ·  │            ·  │                  ·  │                   ·  │        ·  │       ·  │      ·   │     ·   │       ·  │      ·  │         ·  │       ·  │            ·  │      ·  │       ·  │           ·  │        ·  │          ·  │     ·     │            ·          │            ·         │   ·     │   ·        │      ·     │     ·    │     ·    │     ·     │ ·       │  ·      │        ·        │   ·     │      ·     │    ·      │          · │      ·       │        ·  │     ·  │         ·  │     ·  │     ·  │      ·  │     ·           │                 ·  │            ·  │            ·  │     ·  │  ·                                             │  ·      │  ·         │  ·                    │  ·                           │  ·           │ ·            │  ·       │                 ·  │            ·  │            ·  │  ·      │  ·       │  ·       │  ·      │  ·             │  ·         │  ·      │  ·        │  ·       │\n",
       "│ 6222441f-d757-404f-9fd4-88579714b7b9 │ Mapillary │  376649850454558 │ false   │ day                │ false       │ walking surface │ good    │ false      │ side           │ clear   │  -33.86771633750256 │ 151.19688391685486 │ 2019-12-17 10:51:59 │  2019 │    12 │    17 │    21 │ 4000.0 │ 3000.0 │            -1.0 │ perspective     │ 88.06424557421799 │  71.89020493917893 │           1852 │ FtCCpDDRKaoCkrHqPkYtvW │               3585 │    0.0 │           0.0 │  5613.0 │   11201.0 │        0.0 │      0.0 │ 1233020.0 │       0.0 │               0.0 │      0.0 │     0.0 │         26128.0 │        0.0 │     103.0 │          0.0 │      0.0 │      0.0 │  167283.0 │    0.0 │  10205.0 │       0.0 │          0.0 │         0.0 │                      0.0 │                    0.0 │      0.0 │    0.0 │ 1115971.0 │    0.0 │  8454.0 │   247217.0 │ 165153.0 │     0.0 │     0.0 │       0.0 │       0.0 │         0.0 │         0.0 │          0.0 │          0.0 │     0.0 │     0.0 │         0.0 │     0.0 │       1162.0 │ 73532.0 │                0.0 │          0.0 │           0.0 │                 0.0 │                  0.0 │       0.0 │      0.0 │  78533.0 │  2153.0 │      0.0 │     0.0 │        0.0 │      0.0 │           0.0 │     0.0 │      0.0 │          0.0 │       0.0 │         0.0 │ 3145728.0 │   0.07858816782633464 │   0.3547576268513997 │ Sydney  │ Sydney     │ 1036074917 │  -33.865 │ 151.2094 │ Australia │ AU      │ AUS     │ New South Wales │ admin   │  4840600.0 │ Oceania   │         30 │ urban centre │       3.4 │   1.95 │       2.85 │    1.5 │   5.13 │    2.63 │ promenade       │               NULL │          NULL │          NULL │   NULL │ NULL                                           │ NULL    │ NULL       │ NULL                  │ NULL                         │ NULL         │ NULL         │ NULL     │               NULL │          NULL │          NULL │ NULL    │ NULL     │ NULL     │ NULL    │ NULL           │ NULL       │ NULL    │ NULL      │ NULL     │\n",
       "│ 6f36475b-3d97-4e22-afeb-4bc1113b00d0 │ Mapillary │  162766909193975 │ false   │ day                │ false       │ walking surface │ good    │ false      │ side           │ clear   │ -33.866731949647246 │ 151.20599269866943 │ 2019-12-17 09:22:12 │  2019 │    12 │    17 │    20 │ 4000.0 │ 3000.0 │            -1.0 │ perspective     │   93.229852189794 │  76.86517777844401 │            940 │ gSrjhsSnQNfbXt7HuDtuJ6 │               4826 │    0.0 │           0.0 │ 46144.0 │  233977.0 │        0.0 │      0.0 │       0.0 │       0.0 │               0.0 │      0.0 │     0.0 │        977700.0 │        0.0 │     851.0 │          0.0 │      0.0 │      0.0 │  496066.0 │    0.0 │  93146.0 │       0.0 │          0.0 │         0.0 │                     35.0 │                   28.0 │      0.0 │    0.0 │   34086.0 │    0.0 │     0.0 │  1062255.0 │      0.0 │     0.0 │     0.0 │       0.0 │  135068.0 │         0.0 │         0.0 │          0.0 │          0.0 │     0.0 │     0.0 │         0.0 │     0.0 │          0.0 │  5770.0 │                0.0 │       6985.0 │        1016.0 │                 0.0 │               2384.0 │       0.0 │   2933.0 │      0.0 │ 41412.0 │   3032.0 │     0.0 │        0.0 │      0.0 │           0.0 │     0.0 │   2564.0 │        276.0 │       0.0 │         0.0 │ 3145728.0 │   0.33768177032470703 │ 0.010835647583007812 │ Sydney  │ Sydney     │ 1036074917 │  -33.865 │ 151.2094 │ Australia │ AU      │ AUS     │ New South Wales │ admin   │  4840600.0 │ Oceania   │         30 │ urban centre │      7.82 │   1.71 │       4.21 │    9.4 │   8.89 │    8.62 │ arcade          │  2.249991740483319 │  4303762725.0 │  5243973398.0 │    0.0 │ 431128674                                      │ false   │ NULL       │ NULL                  │ footway                      │ walk         │ NULL         │ NULL     │             54.523 │  5243973398.0 │  4303762725.0 │ NULL    │ NULL     │ NULL     │ NULL    │ NULL           │ NULL       │ NULL    │ NULL      │ NULL     │\n",
       "│ 7448148c-7324-4233-82ba-194d3d17aa09 │ Mapillary │  377035357069105 │ false   │ day                │ false       │ cycling surface │ good    │ false      │ front/back     │ cloudy  │ -33.858816346062724 │ 151.20567619800568 │ 2019-12-17 09:59:33 │  2019 │    12 │    17 │    20 │ 4000.0 │ 3000.0 │            -1.0 │ perspective     │  92.8008745376653 │  76.44720271884925 │            573 │ wWmMZA8Vpi9BL2ER2y6b23 │               2518 │    0.0 │           0.0 │ 15495.0 │  267193.0 │     5169.0 │     76.0 │  341634.0 │       0.0 │               0.0 │      0.0 │     0.0 │             0.0 │        0.0 │  424076.0 │          0.0 │ 450384.0 │  31053.0 │   43123.0 │    0.0 │      0.0 │       0.0 │          0.0 │         0.0 │                      0.0 │               147642.0 │      0.0 │    0.0 │  437930.0 │    0.0 │ 14022.0 │   957031.0 │      0.0 │     0.0 │     0.0 │       0.0 │       0.0 │         0.0 │         0.0 │          0.0 │          0.0 │     0.0 │     0.0 │         0.0 │     0.0 │          0.0 │  7889.0 │                0.0 │          0.0 │           0.0 │                 0.0 │               2343.0 │       0.0 │      0.0 │      0.0 │     0.0 │    668.0 │     0.0 │        0.0 │      0.0 │           0.0 │     0.0 │      0.0 │          0.0 │       0.0 │         0.0 │ 3145728.0 │    0.3042319615681966 │  0.13921419779459634 │ Sydney  │ Sydney     │ 1036074917 │  -33.865 │ 151.2094 │ Australia │ AU      │ AUS     │ New South Wales │ admin   │  4840600.0 │ Oceania   │         30 │ urban centre │      8.94 │   4.01 │       2.43 │   2.37 │   2.42 │    1.54 │ forest_road     │ 1.4368509403689629 │ 11583060145.0 │ 11640486016.0 │    0.0 │ 1252283975                                     │ false   │ NULL       │ Watson Road           │ footway                      │ walk         │ ['10', '40'] │ NULL     │  73.57900000000001 │ 11640486016.0 │ 11583060145.0 │ NULL    │ NULL     │ NULL     │ NULL    │ NULL           │ NULL       │ NULL    │ NULL      │ NULL     │\n",
       "│ abf91cc3-15e4-40ba-81ba-ce163980154d │ Mapillary │  260812565800759 │ false   │ day                │ false       │ walking surface │ good    │ false      │ side           │ clear   │  -33.85919944788307 │ 151.20796144008636 │ 2019-12-17 09:55:53 │  2019 │    12 │    17 │    20 │ 4000.0 │ 3000.0 │            -1.0 │ perspective     │  96.1931272264898 │  79.77693277834946 │            106 │ jW9hXTpbDvdVZ3qNZaXSaS │                729 │    0.0 │           0.0 │ 77880.0 │       0.0 │        0.0 │ 133098.0 │       0.0 │       0.0 │               0.0 │  14054.0 │     0.0 │             0.0 │        0.0 │  294237.0 │          0.0 │ 779804.0 │      0.0 │  970500.0 │    0.0 │   1899.0 │       0.0 │          0.0 │         0.0 │                      0.0 │                 1329.0 │      0.0 │    0.0 │  125996.0 │    0.0 │     0.0 │   427902.0 │      0.0 │     0.0 │     0.0 │       0.0 │  135790.0 │         0.0 │         0.0 │          0.0 │          0.0 │     0.0 │  2512.0 │         0.0 │     0.0 │          0.0 │ 68327.0 │                0.0 │          0.0 │           0.0 │              6713.0 │              14175.0 │    7212.0 │      0.0 │      0.0 │ 46728.0 │  37385.0 │     0.0 │        0.0 │      0.0 │           0.0 │     0.0 │    187.0 │          0.0 │       0.0 │         0.0 │ 3145728.0 │   0.13602638244628906 │  0.04005304972330729 │ Sydney  │ Sydney     │ 1036074917 │  -33.865 │ 151.2094 │ Australia │ AU      │ AUS     │ New South Wales │ admin   │  4840600.0 │ Oceania   │         30 │ urban centre │      4.14 │    0.6 │       5.52 │   9.57 │   6.07 │     3.3 │ parking_garage  │  4.859494977774384 │     8965831.0 │  1861366035.0 │    0.0 │ 3997116                                        │ false   │ NULL       │ Harrington Street     │ residential                  │ drive        │ 40           │ NULL     │             42.696 │  1861366035.0 │     8965831.0 │ NULL    │ NULL     │ NULL     │ NULL    │ NULL           │ NULL       │ NULL    │ NULL      │ NULL     │\n",
       "│ 9539f55a-54c7-4a7e-a31c-1fabf9d7bd65 │ Mapillary │  147322640750834 │ false   │ day                │ false       │ walking surface │ good    │ false      │ side           │ clear   │  -33.86525757375501 │ 151.19412660598755 │ 2019-12-17 11:04:17 │  2019 │    12 │    17 │    22 │ 4000.0 │ 3000.0 │            -1.0 │ perspective     │ 90.31399080846728 │   74.0414579694026 │           1221 │ vnbfs6safUSTL3wabJdDf3 │               4334 │    0.0 │           0.0 │ 14693.0 │   16945.0 │        0.0 │      0.0 │    4626.0 │       0.0 │               0.0 │      0.0 │  1980.0 │             0.0 │        0.0 │ 1227159.0 │          0.0 │   1406.0 │      0.0 │  377528.0 │    0.0 │      3.0 │       0.0 │          0.0 │         0.0 │                      0.0 │                   37.0 │      0.0 │    0.0 │  761673.0 │    0.0 │     0.0 │   399028.0 │  27710.0 │     0.0 │     0.0 │    2157.0 │       0.0 │         0.0 │         0.0 │          0.0 │          0.0 │     0.0 │  1663.0 │         0.0 │     0.0 │         15.0 │ 36154.0 │                0.0 │      12098.0 │           0.0 │               961.0 │                  2.0 │       0.0 │ 131343.0 │ 103850.0 │     0.0 │  24692.0 │     0.0 │        5.0 │      0.0 │           0.0 │     0.0 │      0.0 │          0.0 │       0.0 │         0.0 │ 3145728.0 │   0.12684758504231772 │  0.24212932586669922 │ Sydney  │ Sydney     │ 1036074917 │  -33.865 │ 151.2094 │ Australia │ AU      │ AUS     │ New South Wales │ admin   │  4840600.0 │ Oceania   │         30 │ urban centre │      6.45 │   5.26 │        6.0 │   6.43 │   1.79 │    5.45 │ promenade       │ 5.2735560557186565 │  5703426209.0 │  6896997061.0 │    0.0 │ 599481138                                      │ false   │ NULL       │ NULL                  │ cycleway                     │ cycle        │ NULL         │ NULL     │             163.16 │  6896997061.0 │  5703426209.0 │ NULL    │ NULL     │ NULL     │ NULL    │ NULL           │ NULL       │ NULL    │ NULL      │ NULL     │\n",
       "│ 5bd5736d-cdbb-4027-a746-593881c86a48 │ Mapillary │  478964723443578 │ false   │ day                │ false       │ walking surface │ good    │ false      │ side           │ clear   │   -33.8612485679727 │ 151.21138393878937 │ 2015-03-10 22:58:51 │  2015 │     3 │    11 │     9 │ 3264.0 │ 2448.0 │        74.64014 │ perspective     │ 56.83077854710898 │  44.17304072521965 │            312 │ q58hYriwXsmzBCkF7h0_fA │                764 │    0.0 │           0.0 │  1419.0 │   66151.0 │        0.0 │      0.0 │    1190.0 │       0.0 │               0.0 │      0.0 │     0.0 │       1130084.0 │        0.0 │       0.0 │          0.0 │      0.0 │      0.0 │ 1215803.0 │    0.0 │ 280227.0 │       0.0 │          0.0 │         0.0 │                      0.0 │                    0.0 │      0.0 │    0.0 │   58446.0 │    0.0 │   142.0 │    53300.0 │      0.0 │ 59476.0 │     0.0 │       0.0 │  165265.0 │         0.0 │         0.0 │          0.0 │       1883.0 │     0.0 │    69.0 │         0.0 │     0.0 │       4166.0 │ 71389.0 │                0.0 │          0.0 │           0.0 │              6666.0 │                 26.0 │       0.0 │      0.0 │      0.0 │     0.0 │      0.0 │     0.0 │        0.0 │  30026.0 │           0.0 │     0.0 │      0.0 │          0.0 │       0.0 │         0.0 │ 3145728.0 │  0.016943613688151043 │ 0.018579483032226562 │ Sydney  │ Sydney     │ 1036074917 │  -33.865 │ 151.2094 │ Australia │ AU      │ AUS     │ New South Wales │ admin   │  4840600.0 │ Oceania   │         30 │ urban centre │      5.71 │   2.77 │       3.31 │   5.37 │   6.56 │     3.9 │ downtown        │  1.326457641507569 │  6359424745.0 │  6359424748.0 │    0.0 │ [679140712, 679140713, 679140714]              │ false   │ NULL       │ Cahill Walk           │ pedestrian                   │ walk         │ 40           │ NULL     │             48.917 │  6359424748.0 │  6359424745.0 │ NULL    │ yes      │ yes      │ NULL    │ NULL           │ NULL       │ NULL    │ NULL      │ NULL     │\n",
       "│ 7c81f650-9669-4078-ae57-f176037789a4 │ Mapillary │  870823686845731 │ false   │ day                │ false       │ walking surface │ good    │ false      │ front/back     │ clear   │  -33.86961826740515 │ 151.19546234607697 │ 2019-12-17 11:38:10 │  2019 │    12 │    17 │    22 │ 4000.0 │ 3000.0 │  122.8127229015 │ fisheye         │  97.5897008441936 │  81.16425725753473 │            709 │ fRBtHo7RnnC0hb2OvdOTXQ │                429 │    0.0 │           0.0 │ 45343.0 │       0.0 │        0.0 │      0.0 │       1.0 │       0.0 │               0.0 │      0.0 │   653.0 │             0.0 │        0.0 │  291529.0 │          0.0 │ 660783.0 │      0.0 │ 1273965.0 │    0.0 │   9248.0 │       0.0 │          0.0 │         0.0 │                      0.0 │                 4848.0 │      0.0 │    0.0 │       0.0 │    0.0 │     0.0 │   657460.0 │      0.0 │     0.0 │     0.0 │       0.0 │   42831.0 │      4136.0 │         0.0 │          0.0 │          0.0 │     0.0 │     0.0 │         0.0 │     0.0 │          0.0 │   457.0 │                0.0 │          0.0 │           0.0 │                 0.0 │                  0.0 │       0.0 │      0.0 │      0.0 │     0.0 │ 137147.0 │     0.0 │        0.0 │      0.0 │           0.0 │     0.0 │  17327.0 │          0.0 │       0.0 │         0.0 │ 3145728.0 │   0.20900090535481772 │                  0.0 │ Sydney  │ Sydney     │ 1036074917 │  -33.865 │ 151.2094 │ Australia │ AU      │ AUS     │ New South Wales │ admin   │  4840600.0 │ Oceania   │         30 │ urban centre │      3.17 │   2.27 │       7.16 │   9.61 │    5.1 │    4.61 │ arcade          │ 0.7945848007239438 │  9005943601.0 │  9539002844.0 │    0.0 │ [973020772, 153515855, 973020767]              │ false   │ 2          │ Union Street Cycleway │ cycleway                     │ cycle        │ NULL         │ NULL     │             79.274 │  9539002844.0 │  9005943601.0 │ NULL    │ NULL     │ NULL     │ NULL    │ NULL           │ NULL       │ NULL    │ NULL      │ NULL     │\n",
       "│ 7c8e427d-b78b-470d-97f7-704dd8454a06 │ Mapillary │  961536974658793 │ false   │ day                │ false       │ walking surface │ good    │ false      │ front/back     │ clear   │  -33.86807267419957 │ 151.20142221450806 │ 2019-12-17 10:27:15 │  2019 │    12 │    17 │    21 │ 4000.0 │ 3000.0 │            -1.0 │ perspective     │ 84.41467436545344 │  68.44969913400637 │           1069 │ HFyEFNAqqH5siyw3hUwTbd │               1530 │    0.0 │           0.0 │  1038.0 │   72334.0 │        0.0 │      0.0 │  371229.0 │       0.0 │               0.0 │      0.0 │     0.0 │        865579.0 │        0.0 │       0.0 │          0.0 │      0.0 │  32892.0 │  455966.0 │    0.0 │  44336.0 │       0.0 │          0.0 │         0.0 │                      0.0 │                    0.0 │      0.0 │    0.0 │ 1099245.0 │    0.0 │    56.0 │   155875.0 │  14684.0 │     0.0 │     0.0 │       0.0 │   12894.0 │         0.0 │         0.0 │          0.0 │          0.0 │     0.0 │     0.0 │         0.0 │     0.0 │        218.0 │  1395.0 │                0.0 │       1372.0 │           0.0 │                 0.0 │                  0.0 │     563.0 │      0.0 │  15848.0 │     0.0 │      0.0 │     0.0 │        0.0 │    204.0 │           0.0 │     0.0 │      0.0 │          0.0 │       0.0 │         0.0 │ 3145728.0 │   0.04955132802327474 │   0.3494405746459961 │ Sydney  │ Sydney     │ 1036074917 │  -33.865 │ 151.2094 │ Australia │ AU      │ AUS     │ New South Wales │ admin   │  4840600.0 │ Oceania   │         30 │ urban centre │      2.69 │   3.54 │       6.65 │   6.39 │    0.7 │    3.13 │ promenade       │ 2.0689281538271738 │  2583512644.0 │  6804602956.0 │    0.0 │ 725735819                                      │ false   │ NULL       │ King Street Wharf     │ footway                      │ walk         │ 50           │ NULL     │             14.212 │  6804602956.0 │  2583512644.0 │ NULL    │ NULL     │ NULL     │ NULL    │ NULL           │ NULL       │ NULL    │ NULL      │ NULL     │\n",
       "│ 425120a6-e0db-4567-ac68-71759e31baf1 │ Mapillary │  782357895759703 │ false   │ day                │ false       │ walking surface │ good    │ false      │ side           │ clear   │  -33.86282992051194 │ 151.20755910873413 │ 2019-12-17 09:37:38 │  2019 │    12 │    17 │    20 │ 4000.0 │ 3000.0 │            -1.0 │ perspective     │   92.401335578674 │   76.0587085964363 │            302 │ Lfmthf3vyj5DchGNmrLsFV │                570 │    0.0 │           0.0 │ 39115.0 │    4132.0 │        0.0 │   1577.0 │       0.0 │       0.0 │               0.0 │      0.0 │     0.0 │             0.0 │    55764.0 │  110950.0 │          0.0 │ 784981.0 │      0.0 │ 1577184.0 │    0.0 │  10061.0 │      69.0 │          0.0 │         0.0 │                      0.0 │                 7481.0 │      0.0 │    0.0 │  295837.0 │    0.0 │     0.0 │   101279.0 │      0.0 │     0.0 │     0.0 │      50.0 │    1320.0 │         0.0 │         0.0 │          0.0 │          0.0 │     0.0 │ 15918.0 │         0.0 │     0.0 │        620.0 │ 95082.0 │                0.0 │          0.0 │           0.0 │                 0.0 │               2971.0 │     163.0 │   3480.0 │      0.0 │     0.0 │  37694.0 │     0.0 │        0.0 │      0.0 │           0.0 │     0.0 │      0.0 │          0.0 │       0.0 │         0.0 │ 3145728.0 │  0.032195727030436196 │  0.09404404958089192 │ Sydney  │ Sydney     │ 1036074917 │  -33.865 │ 151.2094 │ Australia │ AU      │ AUS     │ New South Wales │ admin   │  4840600.0 │ Oceania   │         30 │ urban centre │      6.16 │   2.94 │       2.93 │   8.49 │   7.91 │    5.78 │ downtown        │ 1.5738434521322684 │  6594385340.0 │ 11045628409.0 │    0.0 │ 83074980                                       │ false   │ NULL       │ George Street         │ pedestrian                   │ walk         │ NULL         │ NULL     │              98.48 │ 11045628409.0 │  6594385340.0 │ NULL    │ NULL     │ NULL     │ NULL    │ NULL           │ NULL       │ NULL    │ NULL      │ NULL     │\n",
       "│ 833d64dc-8e2c-4c97-82a0-5c032a6859ed │ Mapillary │  266345545220670 │ false   │ day                │ false       │ walking surface │ good    │ false      │ front/back     │ clear   │  -33.85849115363409 │   151.215637922287 │ 2015-03-10 23:18:09 │  2015 │     3 │    11 │    10 │ 3264.0 │ 2448.0 │        112.4637 │ perspective     │ 59.21245332598269 │  46.16421674465284 │             81 │ wCLap13_ilynY_aevkj3xw │                112 │    0.0 │           0.0 │     0.0 │    2848.0 │        0.0 │   1351.0 │  110907.0 │       0.0 │               0.0 │      0.0 │     0.0 │             0.0 │        0.0 │ 1588585.0 │          0.0 │      0.0 │      0.0 │   12580.0 │    0.0 │  25240.0 │       0.0 │          0.0 │         0.0 │                      0.0 │                    0.0 │      0.0 │    0.0 │  739330.0 │    0.0 │  4334.0 │   373935.0 │  42936.0 │     0.0 │     0.0 │       0.0 │       0.0 │         0.0 │         0.0 │          0.0 │          0.0 │     0.0 │     0.0 │         0.0 │     0.0 │       1823.0 │  4405.0 │                0.0 │          0.0 │           0.0 │                 0.0 │                  0.0 │       0.0 │      0.0 │    544.0 │     0.0 │      0.0 │     0.0 │        0.0 │      0.0 │      236910.0 │     0.0 │      0.0 │          0.0 │       0.0 │         0.0 │ 3145728.0 │   0.11887073516845703 │  0.23502667744954428 │ Sydney  │ Sydney     │ 1036074917 │  -33.865 │ 151.2094 │ Australia │ AU      │ AUS     │ New South Wales │ admin   │  4840600.0 │ Oceania   │         30 │ urban centre │      9.21 │   3.34 │       3.36 │   5.43 │   5.69 │    5.58 │ bus_station     │ 0.6047365236546275 │     8965692.0 │  1614496954.0 │    0.0 │ 207664263                                      │ false   │ NULL       │ NULL                  │ footway                      │ walk         │ NULL         │ NULL     │             13.321 │  1614496954.0 │     8965692.0 │ NULL    │ NULL     │ NULL     │ NULL    │ NULL           │ NULL       │ NULL    │ NULL      │ NULL     │\n",
       "├──────────────────────────────────────┴───────────┴──────────────────┴─────────┴────────────────────┴─────────────┴─────────────────┴─────────┴────────────┴────────────────┴─────────┴─────────────────────┴────────────────────┴─────────────────────┴───────┴───────┴───────┴───────┴────────┴────────┴─────────────────┴─────────────────┴───────────────────┴────────────────────┴────────────────┴────────────────────────┴────────────────────┴────────┴───────────────┴─────────┴───────────┴────────────┴──────────┴───────────┴───────────┴───────────────────┴──────────┴─────────┴─────────────────┴────────────┴───────────┴──────────────┴──────────┴──────────┴───────────┴────────┴──────────┴───────────┴──────────────┴─────────────┴──────────────────────────┴────────────────────────┴──────────┴────────┴───────────┴────────┴─────────┴────────────┴──────────┴─────────┴─────────┴───────────┴───────────┴─────────────┴─────────────┴──────────────┴──────────────┴─────────┴─────────┴─────────────┴─────────┴──────────────┴─────────┴────────────────────┴──────────────┴───────────────┴─────────────────────┴──────────────────────┴───────────┴──────────┴──────────┴─────────┴──────────┴─────────┴────────────┴──────────┴───────────────┴─────────┴──────────┴──────────────┴───────────┴─────────────┴───────────┴───────────────────────┴──────────────────────┴─────────┴────────────┴────────────┴──────────┴──────────┴───────────┴─────────┴─────────┴─────────────────┴─────────┴────────────┴───────────┴────────────┴──────────────┴───────────┴────────┴────────────┴────────┴────────┴─────────┴─────────────────┴────────────────────┴───────────────┴───────────────┴────────┴────────────────────────────────────────────────┴─────────┴────────────┴───────────────────────┴──────────────────────────────┴──────────────┴──────────────┴──────────┴────────────────────┴───────────────┴───────────────┴─────────┴──────────┴──────────┴─────────┴────────────────┴────────────┴─────────┴───────────┴──────────┤\n",
       "│ ? rows (>9999 rows, 20 shown)                                                                                                                                                                                                                                                                                                                                                                                                                                                                                                                                                                                                                                                                                                                                                                                                                                                                                                                                                                                                                                                                                                                                                                                                                                                                                                                                                                                                                                                                                                                                                                                                                                                                                                                                                                                                                                                                                                                                                                                                                        140 columns │\n",
       "└──────────────────────────────────────────────────────────────────────────────────────────────────────────────────────────────────────────────────────────────────────────────────────────────────────────────────────────────────────────────────────────────────────────────────────────────────────────────────────────────────────────────────────────────────────────────────────────────────────────────────────────────────────────────────────────────────────────────────────────────────────────────────────────────────────────────────────────────────────────────────────────────────────────────────────────────────────────────────────────────────────────────────────────────────────────────────────────────────────────────────────────────────────────────────────────────────────────────────────────────────────────────────────────────────────────────────────────────────────────────────────────────────────────────────────────────────────────────────────────────────────────────────────────────────────────────────────────────────────────────────────────────────────────────────────────────────────────────────────────────────────────────────────────────────────────────────────────────────────────────────────────────────────────────────────────────────────────────────────────────────────────────────────────────────────────────────────────────────────────────────────────────────────────────────────────────────────────────────────────────────────────────────────────────────────────────────────────────────────────────────────────────────────────────────────────────────────────────────────────────────────────────────────────────────────────────────────────────────────────────────────────────────────────────────────────────────────────────────────────────────────────────────────────────────────────────────────────────────────────────────────────────────────────────────────────────────────────────────────────────────────────────────────────────────────────────────────────────────┘"
      ]
     },
     "execution_count": 6,
     "metadata": {},
     "output_type": "execute_result"
    }
   ],
   "source": [
    "# Let's inspect the new file to see if the join has worked\n",
    "duckdb.sql(f\"SELECT * FROM '{streetscapes_full}'\")"
   ]
  },
  {
   "cell_type": "markdown",
   "metadata": {},
   "source": [
    "For some usecases it might be more convenient to select certain columns from different files into a single table. This can be achieved in a similar manner to the previous example. Here, we create a dictionary with the file names and columns we want to select. We also need to specify a column that is common to all files to join on. "
   ]
  },
  {
   "cell_type": "code",
   "execution_count": 7,
   "metadata": {},
   "outputs": [
    {
     "data": {
      "application/vnd.jupyter.widget-view+json": {
       "model_id": "79f607fe3a844abab6560b0738a1ce58",
       "version_major": 2,
       "version_minor": 0
      },
      "text/plain": [
       "FloatProgress(value=0.0, layout=Layout(width='auto'), style=ProgressStyle(bar_color='black'))"
      ]
     },
     "metadata": {},
     "output_type": "display_data"
    },
    {
     "data": {
      "application/vnd.jupyter.widget-view+json": {
       "model_id": "83ac02cb09404db3a7b8358a299fd81b",
       "version_major": 2,
       "version_minor": 0
      },
      "text/plain": [
       "FloatProgress(value=0.0, layout=Layout(width='auto'), style=ProgressStyle(bar_color='black'))"
      ]
     },
     "metadata": {},
     "output_type": "display_data"
    },
    {
     "data": {
      "application/vnd.jupyter.widget-view+json": {
       "model_id": "f9eafbc3e582466c9027861912ebf690",
       "version_major": 2,
       "version_minor": 0
      },
      "text/plain": [
       "FloatProgress(value=0.0, layout=Layout(width='auto'), style=ProgressStyle(bar_color='black'))"
      ]
     },
     "metadata": {},
     "output_type": "display_data"
    },
    {
     "data": {
      "application/vnd.jupyter.widget-view+json": {
       "model_id": "dd8fab19ec0d42fca825c3b5c3c1f5e3",
       "version_major": 2,
       "version_minor": 0
      },
      "text/plain": [
       "FloatProgress(value=0.0, layout=Layout(width='auto'), style=ProgressStyle(bar_color='black'))"
      ]
     },
     "metadata": {},
     "output_type": "display_data"
    },
    {
     "data": {
      "application/vnd.jupyter.widget-view+json": {
       "model_id": "48d385e3584c41c2b3902576c2b4a0c5",
       "version_major": 2,
       "version_minor": 0
      },
      "text/plain": [
       "FloatProgress(value=0.0, layout=Layout(width='auto'), style=ProgressStyle(bar_color='black'))"
      ]
     },
     "metadata": {},
     "output_type": "display_data"
    },
    {
     "data": {
      "application/vnd.jupyter.widget-view+json": {
       "model_id": "98de28f8288d43159e512dcc90623fb3",
       "version_major": 2,
       "version_minor": 0
      },
      "text/plain": [
       "FloatProgress(value=0.0, layout=Layout(width='auto'), style=ProgressStyle(bar_color='black'))"
      ]
     },
     "metadata": {},
     "output_type": "display_data"
    },
    {
     "data": {
      "application/vnd.jupyter.widget-view+json": {
       "model_id": "1063c4170ca94cb3a7443a330a31c4ca",
       "version_major": 2,
       "version_minor": 0
      },
      "text/plain": [
       "FloatProgress(value=0.0, layout=Layout(width='auto'), style=ProgressStyle(bar_color='black'))"
      ]
     },
     "metadata": {},
     "output_type": "display_data"
    }
   ],
   "source": [
    "# Create dictionary choosing files and columns\n",
    "selection = {\n",
    "    \"contextual\": [\"UUID\", \"source\", \"orig_id\"],\n",
    "    \"osm\": [\"UUID\", \"road_width\", \"type_highway\"],\n",
    "    \"simplemaps\": [\"UUID\", \"city\"],\n",
    "    \"metadata_common_attributes\": [\"UUID\", \"lat\", \"lon\"],\n",
    "}\n",
    "\n",
    "with duckdb.connect(\"duck.db\") as con:\n",
    "    # Load each dataset onto disk from the each file\n",
    "    for file, columns in selection.items():\n",
    "        col_str = \", \".join(columns)\n",
    "        con.sql(\n",
    "            f\"CREATE TABLE {file} AS SELECT {col_str} FROM '{parquet_dir / file}.parquet'\"\n",
    "        )\n",
    "\n",
    "    # Perform the joins.\n",
    "    items = list(selection.items())\n",
    "    for i, (file, columns) in enumerate(items[:-1]):\n",
    "        # Join the tables one by one and store intermediate results in separate tables\n",
    "        j = i + 1\n",
    "        target = file if i == 0 else f\"step{i}\"\n",
    "        next_file = items[j][0]\n",
    "        con.sql(\n",
    "            f\"CREATE TABLE step{j} AS SELECT * FROM {target} JOIN {next_file} USING (UUID)\"\n",
    "        )\n",
    "\n",
    "    # Finally, we can export the joined table to a new parquet file\n",
    "    con.sql(f\"COPY step{i} TO '{streetscapes_partial}' (FORMAT 'parquet', COMPRESSION 'zstd')\")\n",
    "\n",
    "os.remove(\"duck.db\")"
   ]
  },
  {
   "cell_type": "code",
   "execution_count": 8,
   "metadata": {},
   "outputs": [
    {
     "data": {
      "text/plain": [
       "┌──────────────────────────────────────┬───────────┬──────────────────┬────────────┬──────────────┬────────────┐\n",
       "│                 uuid                 │  source   │     orig_id      │ road_width │ type_highway │    city    │\n",
       "│               varchar                │  varchar  │      int64       │  varchar   │   varchar    │  varchar   │\n",
       "├──────────────────────────────────────┼───────────┼──────────────────┼────────────┼──────────────┼────────────┤\n",
       "│ 1dd8f343-11d0-4f8b-a227-b4127b1130e3 │ Mapillary │  465651791332880 │ NULL       │ drive        │ Brasília   │\n",
       "│ 2284612a-0466-4370-be48-4646954bc332 │ Mapillary │  982755792470526 │ NULL       │ drive        │ San José   │\n",
       "│ a5bc8e5d-1e3a-4f12-90e6-ff1cc3ea6660 │ Mapillary │ 2241383246030931 │ NULL       │ walk         │ Washington │\n",
       "│ 913b4644-e373-44c4-99b4-676f61181033 │ Mapillary │ 4422578697770185 │ NULL       │ walk         │ Budapest   │\n",
       "│ eb72d892-639b-48ac-950a-7fc319ef94e3 │ Mapillary │  188729563120661 │ NULL       │ drive        │ Taipei     │\n",
       "│ 2f7b72a9-c7b7-41c2-a669-e451e738a443 │ Mapillary │ 5501873836549684 │ NULL       │ drive        │ Budapest   │\n",
       "│ 3cf99d8d-64b4-4f18-a7b3-e2150cf614d9 │ Mapillary │ 1000648557341364 │ NULL       │ drive        │ Lima       │\n",
       "│ a6d75775-f9f5-43c2-a178-5197abafc42f │ Mapillary │  475171684462496 │ NULL       │ drive        │ Washington │\n",
       "│ dca1da03-ca28-4172-a778-1a1ed4090bd3 │ Mapillary │  392331981862822 │ NULL       │ drive        │ Amman      │\n",
       "│ 76bd1a1d-6d5e-4ab8-b9d3-a1fc7db69f44 │ Mapillary │  374571420546376 │ NULL       │ drive        │ Kampala    │\n",
       "│                  ·                   │     ·     │         ·        │  ·         │   ·          │   ·        │\n",
       "│                  ·                   │     ·     │         ·        │  ·         │   ·          │   ·        │\n",
       "│                  ·                   │     ·     │         ·        │  ·         │   ·          │   ·        │\n",
       "│ b6f47c41-730b-4eaa-8291-4635b8293f66 │ Mapillary │  809867179659830 │ NULL       │ drive        │ Dhaka      │\n",
       "│ 9e09c49c-e815-42fd-ad66-7d504ef87596 │ Mapillary │  795007791119986 │ NULL       │ drive        │ Vilnius    │\n",
       "│ 50e24084-fccd-4747-9c0e-5cc4127f01c8 │ Mapillary │  999344817741150 │ NULL       │ drive        │ Berlin     │\n",
       "│ 6ff014fe-a9a5-49c0-b430-c7fac0679052 │ Mapillary │ 1065240737335468 │ NULL       │ walk         │ Tirana     │\n",
       "│ 0729d394-c22a-4438-a398-dadf0ae63008 │ Mapillary │ 1002632843474015 │ NULL       │ drive        │ Bogotá     │\n",
       "│ 2bc6733e-e5c9-48fb-9e88-f181903c2143 │ Mapillary │ 4460860153927142 │ NULL       │ drive        │ Grand Turk │\n",
       "│ df88f9bb-b760-48f5-a7be-29403b7b1847 │ Mapillary │  575508163419838 │ NULL       │ drive        │ Taipei     │\n",
       "│ bf77d0b7-78e2-4a25-95eb-51eadeb9bdda │ Mapillary │ 2985149021716073 │ NULL       │ drive        │ Accra      │\n",
       "│ 986dbc1e-f9e4-4caf-879c-7731b945886c │ Mapillary │  309529353863595 │ NULL       │ drive        │ Taipei     │\n",
       "│ bc1a9989-d7fa-4e32-a65a-9db1c0fac4d8 │ Mapillary │  380121246647930 │ NULL       │ drive        │ Lima       │\n",
       "├──────────────────────────────────────┴───────────┴──────────────────┴────────────┴──────────────┴────────────┤\n",
       "│ ? rows (>9999 rows, 20 shown)                                                                      6 columns │\n",
       "└──────────────────────────────────────────────────────────────────────────────────────────────────────────────┘"
      ]
     },
     "execution_count": 8,
     "metadata": {},
     "output_type": "execute_result"
    }
   ],
   "source": [
    "# Let's inspect the new file to see if the join has worked\n",
    "duckdb.sql(f\"SELECT * FROM '{streetscapes_partial}'\")"
   ]
  }
 ],
 "metadata": {
  "kernelspec": {
   "display_name": "streetscapes",
   "language": "python",
   "name": "python3"
  },
  "language_info": {
   "codemirror_mode": {
    "name": "ipython",
    "version": 3
   },
   "file_extension": ".py",
   "mimetype": "text/x-python",
   "name": "python",
   "nbconvert_exporter": "python",
   "pygments_lexer": "ipython3",
   "version": "3.12.8"
  }
 },
 "nbformat": 4,
 "nbformat_minor": 2
}
