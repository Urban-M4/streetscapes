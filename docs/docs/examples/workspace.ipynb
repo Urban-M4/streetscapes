{
 "cells": [
  {
   "cell_type": "code",
   "execution_count": 1,
   "metadata": {},
   "outputs": [],
   "source": [
    "import ibis\n",
    "\n",
    "ibis.interactive = True\n",
    "\n",
    "from pathlib import Path\n",
    "\n",
    "import ibis.interactive\n",
    "from streetscapes.streetview import SVWorkspace\n",
    "from streetscapes.streetview.sources import GlobalStreetscapesSource\n",
    "from streetscapes.streetview.sources import MapillarySource\n",
    "from streetscapes.streetview.sources import KartaviewSource"
   ]
  },
  {
   "cell_type": "code",
   "execution_count": 2,
   "metadata": {},
   "outputs": [],
   "source": [
    "ws = SVWorkspace(\"Amsterdam\")"
   ]
  },
  {
   "cell_type": "code",
   "execution_count": 3,
   "metadata": {},
   "outputs": [],
   "source": [
    "gss = GlobalStreetscapesSource(ws)"
   ]
  },
  {
   "cell_type": "code",
   "execution_count": 4,
   "metadata": {},
   "outputs": [],
   "source": [
    "mp = MapillarySource(ws)"
   ]
  },
  {
   "cell_type": "code",
   "execution_count": 5,
   "metadata": {},
   "outputs": [],
   "source": [
    "kv = KartaviewSource(ws)"
   ]
  },
  {
   "cell_type": "code",
   "execution_count": 6,
   "metadata": {},
   "outputs": [
    {
     "data": {
      "text/plain": [
       "'https://storage2.openstreetcam.org/files/photo/2016/5/5/proc/3823_3446d_572b6b13bdfca.jpg'"
      ]
     },
     "execution_count": 6,
     "metadata": {},
     "output_type": "execute_result"
    }
   ],
   "source": [
    "kv.get_image_url(1208524)"
   ]
  },
  {
   "cell_type": "code",
   "execution_count": 7,
   "metadata": {},
   "outputs": [],
   "source": [
    "img_url = mp.get_image_url(\"4911230068985425\")"
   ]
  },
  {
   "cell_type": "code",
   "execution_count": 8,
   "metadata": {},
   "outputs": [
    {
     "data": {
      "text/plain": [
       "'https://scontent-ams2-1.xx.fbcdn.net/m1/v/t6/An--rrF4WlM05JH5SMiWxbdSXVWL0mFEymquJWW0EmSjaBemmKBcF8DRGqIe8akNayRiH0VTYunIfeHZlt2zAGA0sYkEkeWIUtnfp27cgiCen37fra1_v0gwTJFgNL5wTiUGkS7F56f_yLBZF1HqZg?stp=s1024x768&_nc_oc=AdleHveUXlIpJYhf7Qx7TJdVir-WHEnQQv8pnkUUkh-zAJ8IXm8zrZvryHl7vCUrPUU&ccb=10-5&oh=00_AYFeoUG19L9sKicd9OjMnSpNXdZ8Ry24S9ZP_QaIiUs5ZQ&oe=68130D7C&_nc_sid=201bca'"
      ]
     },
     "execution_count": 8,
     "metadata": {},
     "output_type": "execute_result"
    }
   ],
   "source": [
    "img_url"
   ]
  },
  {
   "cell_type": "code",
   "execution_count": 7,
   "metadata": {},
   "outputs": [
    {
     "data": {
      "text/plain": [
       "'NUS-UAL/global-streetscapes'"
      ]
     },
     "execution_count": 7,
     "metadata": {},
     "output_type": "execute_result"
    }
   ],
   "source": [
    "gss.source_id"
   ]
  },
  {
   "cell_type": "code",
   "execution_count": null,
   "metadata": {},
   "outputs": [],
   "source": []
  },
  {
   "cell_type": "code",
   "execution_count": 4,
   "metadata": {},
   "outputs": [
    {
     "data": {
      "text/plain": [
       "<streetscapes.streetview.workspace.SVWorkspace at 0x72a98adce9c0>"
      ]
     },
     "execution_count": 4,
     "metadata": {},
     "output_type": "execute_result"
    }
   ],
   "source": [
    "ws"
   ]
  },
  {
   "cell_type": "code",
   "execution_count": null,
   "metadata": {},
   "outputs": [],
   "source": [
    "ws.local_dir, ws.csv_dir, ws.parquet_dir, ws.image_dirs"
   ]
  },
  {
   "cell_type": "code",
   "execution_count": null,
   "metadata": {},
   "outputs": [],
   "source": [
    "subset = \"amsterdam\"\n",
    "\n",
    "criteria = {\"city\": \"Amsterdam\"}\n",
    "\n",
    "columns = {'uuid', 'source', 'city'}\n",
    "\n",
    "ams = ws.load_subset(subset, criteria=criteria, columns=columns)"
   ]
  },
  {
   "cell_type": "code",
   "execution_count": null,
   "metadata": {},
   "outputs": [],
   "source": [
    "ams.head()"
   ]
  },
  {
   "cell_type": "code",
   "execution_count": null,
   "metadata": {},
   "outputs": [],
   "source": [
    "ams_loaded = ws.load_parquet_file(\"amsterdam\")"
   ]
  },
  {
   "cell_type": "code",
   "execution_count": null,
   "metadata": {},
   "outputs": [],
   "source": [
    "ams_loaded.head().select(\"uuid\", \"lon\", \"lat\")"
   ]
  },
  {
   "cell_type": "code",
   "execution_count": null,
   "metadata": {},
   "outputs": [],
   "source": [
    "ghsl = ws.load_global_parquet_file(\"streetscapes\")"
   ]
  },
  {
   "cell_type": "code",
   "execution_count": null,
   "metadata": {},
   "outputs": [],
   "source": [
    "ghsl.head()"
   ]
  },
  {
   "cell_type": "code",
   "execution_count": null,
   "metadata": {},
   "outputs": [],
   "source": [
    "test_file = ws.get_file_path(\"test/test_file.txt\")"
   ]
  },
  {
   "cell_type": "code",
   "execution_count": null,
   "metadata": {},
   "outputs": [],
   "source": [
    "from huggingface_hub import hf_hub_download\n",
    "from huggingface_hub import CachedRepoInfo\n",
    "from huggingface_hub import try_to_load_from_cache\n",
    "from huggingface_hub import cached_assets_path"
   ]
  },
  {
   "cell_type": "code",
   "execution_count": null,
   "metadata": {},
   "outputs": [],
   "source": [
    "kwargs = {\n",
    "    \"repo_id\": \"NUS-UAL/global-streetscapes\",\n",
    "    \"repo_type\": \"dataset\",\n",
    "}\n",
    "\n",
    "\n",
    "# Update the file name.\n",
    "#\n",
    "# NOTE:\n",
    "# HuggingFace replicates the structure of\n",
    "# the remote repository, so any subdirectories\n",
    "# should be included in the file name, not in\n",
    "# the `local_dir` variable.\n",
    "kwargs[\"filename\"] = \"data/ghsl.csv\"\n",
    "\n",
    "# Download the file\n",
    "hf_hub_download(**kwargs)"
   ]
  },
  {
   "cell_type": "code",
   "execution_count": null,
   "metadata": {},
   "outputs": [],
   "source": [
    "x = try_to_load_from_cache(\"NUS-UAL/global-streetscapes\", \"data/ghsl.csv\", repo_type=\"dataset\")\n",
    "\n",
    "x"
   ]
  },
  {
   "cell_type": "code",
   "execution_count": null,
   "metadata": {},
   "outputs": [],
   "source": [
    "cached_assets_path('streetscapes', namespace=\"images\", subfolder=\"mapillary\")"
   ]
  },
  {
   "cell_type": "code",
   "execution_count": null,
   "metadata": {},
   "outputs": [],
   "source": []
  },
  {
   "cell_type": "code",
   "execution_count": null,
   "metadata": {},
   "outputs": [],
   "source": [
    "ci = scan_cache_dir()"
   ]
  },
  {
   "cell_type": "code",
   "execution_count": null,
   "metadata": {},
   "outputs": [],
   "source": [
    "for repo in ci.repos:\n",
    "    if repo.repo_id == 'NUS-UAL/global-streetscapes':\n",
    "        print(f\"==[ repo: {repo.repo_path}\")"
   ]
  },
  {
   "cell_type": "code",
   "execution_count": null,
   "metadata": {},
   "outputs": [],
   "source": [
    "from pathlib import Path\n",
    "\n",
    "conf = None\n",
    "\n",
    "if conf is None and (local_env := Path.cwd() / \".env\").exists():\n",
    "    conf = local_env\n",
    "\n",
    "conf"
   ]
  }
 ],
 "metadata": {
  "kernelspec": {
   "display_name": ".venv",
   "language": "python",
   "name": "python3"
  },
  "language_info": {
   "codemirror_mode": {
    "name": "ipython",
    "version": 3
   },
   "file_extension": ".py",
   "mimetype": "text/x-python",
   "name": "python",
   "nbconvert_exporter": "python",
   "pygments_lexer": "ipython3",
   "version": "3.12.9"
  }
 },
 "nbformat": 4,
 "nbformat_minor": 2
}
