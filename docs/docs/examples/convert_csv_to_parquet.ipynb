{
 "cells": [
  {
   "cell_type": "code",
   "execution_count": 1,
   "metadata": {},
   "outputs": [],
   "source": [
    "import warnings\n",
    "\n",
    "warnings.filterwarnings(\"ignore\")\n",
    "\n",
    "import os\n",
    "\n",
    "import duckdb\n",
    "\n",
    "from streetscapes import conf"
   ]
  },
  {
   "cell_type": "markdown",
   "metadata": {},
   "source": [
    "# Convert CSV files to parquet and merging them together\n",
    "\n",
    "The CSV files of the original Global Streetscapes dataset add up to 64GB in total. Moreover, data is split in several files which can make it a bit cumbersome to work with. Here, we convert the data to Parquet, which reduces file size and makes it easier to load and manipulate the data. \n",
    "\n",
    "Additionally, we combine columns from several sources into a single dataset that should serve most usecases."
   ]
  },
  {
   "cell_type": "code",
   "execution_count": 2,
   "metadata": {},
   "outputs": [
    {
     "name": "stdout",
     "output_type": "stream",
     "text": [
      "metadata_common_attributes\n"
     ]
    },
    {
     "data": {
      "application/vnd.jupyter.widget-view+json": {
       "model_id": "75760e04ec544d1198a49c08a4ef857e",
       "version_major": 2,
       "version_minor": 0
      },
      "text/plain": [
       "FloatProgress(value=0.0, layout=Layout(width='auto'), style=ProgressStyle(bar_color='black'))"
      ]
     },
     "metadata": {},
     "output_type": "display_data"
    },
    {
     "name": "stdout",
     "output_type": "stream",
     "text": [
      "ghsl\n"
     ]
    },
    {
     "data": {
      "application/vnd.jupyter.widget-view+json": {
       "model_id": "8a6b2a935e974b3fb7d2365889e3a04e",
       "version_major": 2,
       "version_minor": 0
      },
      "text/plain": [
       "FloatProgress(value=0.0, layout=Layout(width='auto'), style=ProgressStyle(bar_color='black'))"
      ]
     },
     "metadata": {},
     "output_type": "display_data"
    },
    {
     "name": "stdout",
     "output_type": "stream",
     "text": [
      "places365\n"
     ]
    },
    {
     "data": {
      "application/vnd.jupyter.widget-view+json": {
       "model_id": "c0ccd5a0a8704ee39a9e13317bfdda72",
       "version_major": 2,
       "version_minor": 0
      },
      "text/plain": [
       "FloatProgress(value=0.0, layout=Layout(width='auto'), style=ProgressStyle(bar_color='black'))"
      ]
     },
     "metadata": {},
     "output_type": "display_data"
    },
    {
     "name": "stdout",
     "output_type": "stream",
     "text": [
      "contextual\n"
     ]
    },
    {
     "data": {
      "application/vnd.jupyter.widget-view+json": {
       "model_id": "f0921d2c603e47478d6ca5ee6799ce34",
       "version_major": 2,
       "version_minor": 0
      },
      "text/plain": [
       "FloatProgress(value=0.0, layout=Layout(width='auto'), style=ProgressStyle(bar_color='black'))"
      ]
     },
     "metadata": {},
     "output_type": "display_data"
    },
    {
     "name": "stdout",
     "output_type": "stream",
     "text": [
      "segmentation\n"
     ]
    },
    {
     "data": {
      "application/vnd.jupyter.widget-view+json": {
       "model_id": "8389f394f50c4ae7a2bc080582ba952d",
       "version_major": 2,
       "version_minor": 0
      },
      "text/plain": [
       "FloatProgress(value=0.0, layout=Layout(width='auto'), style=ProgressStyle(bar_color='black'))"
      ]
     },
     "metadata": {},
     "output_type": "display_data"
    },
    {
     "name": "stdout",
     "output_type": "stream",
     "text": [
      "simplemaps\n"
     ]
    },
    {
     "data": {
      "application/vnd.jupyter.widget-view+json": {
       "model_id": "380789c6b40a49589a43f8b5ff3d5d04",
       "version_major": 2,
       "version_minor": 0
      },
      "text/plain": [
       "FloatProgress(value=0.0, layout=Layout(width='auto'), style=ProgressStyle(bar_color='black'))"
      ]
     },
     "metadata": {},
     "output_type": "display_data"
    },
    {
     "name": "stdout",
     "output_type": "stream",
     "text": [
      "osm\n"
     ]
    },
    {
     "data": {
      "application/vnd.jupyter.widget-view+json": {
       "model_id": "b8a32bf0025e47e79dc846e717239648",
       "version_major": 2,
       "version_minor": 0
      },
      "text/plain": [
       "FloatProgress(value=0.0, layout=Layout(width='auto'), style=ProgressStyle(bar_color='black'))"
      ]
     },
     "metadata": {},
     "output_type": "display_data"
    },
    {
     "name": "stdout",
     "output_type": "stream",
     "text": [
      "perception\n"
     ]
    },
    {
     "data": {
      "application/vnd.jupyter.widget-view+json": {
       "model_id": "7f5e7957176948e9aa32f20691b21636",
       "version_major": 2,
       "version_minor": 0
      },
      "text/plain": [
       "FloatProgress(value=0.0, layout=Layout(width='auto'), style=ProgressStyle(bar_color='black'))"
      ]
     },
     "metadata": {},
     "output_type": "display_data"
    }
   ],
   "source": [
    "# Convert all csvs in data dir to parquet\n",
    "for file in (conf.DATA_DIR / \"data\").glob(\"*.csv\"):\n",
    "    print(file.stem)\n",
    "    duckdb.sql(f\"\"\"\n",
    "        COPY (SELECT * FROM read_csv_auto('{file}', sample_size=-1))\n",
    "        TO '{file.with_suffix(\".parquet\")}'\n",
    "        (FORMAT 'parquet', COMPRESSION 'zstd')\n",
    "    \"\"\")"
   ]
  },
  {
   "cell_type": "code",
   "execution_count": 3,
   "metadata": {},
   "outputs": [
    {
     "name": "stdout",
     "output_type": "stream",
     "text": [
      "human_readable(csv_size)='13.09 GB', human_readable(parquet_size)='3.39 GB'\n",
      "reduction_factor=3.861472856397811\n"
     ]
    }
   ],
   "source": [
    "csv_size = sum(file.stat().st_size for file in (conf.DATA_DIR / \"data\").glob(\"*.csv\") if file.is_file())\n",
    "parquet_size = sum(file.stat().st_size for file in (conf.DATA_DIR / \"data\").glob(\"*.parquet\") if file.is_file() and file.name not in [\"combined.parquet\", \"streetscapes.parquet\"])\n",
    "\n",
    "def human_readable(size):\n",
    "    \"\"\"Format byte size in human readable format\"\"\"\n",
    "    order_of_magnitude = size.bit_length() // 10  # Dividing by 10 for base-1024 magnitude\n",
    "    match order_of_magnitude:\n",
    "        case 3:\n",
    "            return f\"{size / 1024**3:.2f} GB\"\n",
    "        case 2:\n",
    "            return f\"{size / 1024**2:.2f} MB\"\n",
    "        case 1:\n",
    "            return f\"{size / 1024:.2f} KB\"\n",
    "        case _:\n",
    "            return f\"{size} bytes\"\n",
    "\n",
    "print(f\"{human_readable(csv_size)=}, {human_readable(parquet_size)=}\")\n",
    "\n",
    "reduction_factor = csv_size/parquet_size\n",
    "print(f\"{reduction_factor=}\")"
   ]
  },
  {
   "cell_type": "markdown",
   "metadata": {},
   "source": [
    " We may want to combine multiple csv files together into a single parquet file. If we use JOIN like above on the full table, we quickly run into memory issues. This is because `duckdb.sql(...)` creates an in-memory database to load the data and keep track of intermediate results. Alternatively, duckdb can create a persistent database on disk using `duckdb.connect('database_filename')`. "
   ]
  },
  {
   "cell_type": "code",
   "execution_count": 4,
   "metadata": {},
   "outputs": [
    {
     "data": {
      "application/vnd.jupyter.widget-view+json": {
       "model_id": "bd2b3a1e6d9847cda5692d3c33e87b6a",
       "version_major": 2,
       "version_minor": 0
      },
      "text/plain": [
       "FloatProgress(value=0.0, layout=Layout(width='auto'), style=ProgressStyle(bar_color='black'))"
      ]
     },
     "metadata": {},
     "output_type": "display_data"
    },
    {
     "data": {
      "application/vnd.jupyter.widget-view+json": {
       "model_id": "c28472650d174ec58cbcf70660394b52",
       "version_major": 2,
       "version_minor": 0
      },
      "text/plain": [
       "FloatProgress(value=0.0, layout=Layout(width='auto'), style=ProgressStyle(bar_color='black'))"
      ]
     },
     "metadata": {},
     "output_type": "display_data"
    },
    {
     "data": {
      "application/vnd.jupyter.widget-view+json": {
       "model_id": "3598eb5bdfc44828ab466d0bdde3657b",
       "version_major": 2,
       "version_minor": 0
      },
      "text/plain": [
       "FloatProgress(value=0.0, layout=Layout(width='auto'), style=ProgressStyle(bar_color='black'))"
      ]
     },
     "metadata": {},
     "output_type": "display_data"
    },
    {
     "data": {
      "application/vnd.jupyter.widget-view+json": {
       "model_id": "61254b71dece46f58b07d36fe9606a42",
       "version_major": 2,
       "version_minor": 0
      },
      "text/plain": [
       "FloatProgress(value=0.0, layout=Layout(width='auto'), style=ProgressStyle(bar_color='black'))"
      ]
     },
     "metadata": {},
     "output_type": "display_data"
    },
    {
     "data": {
      "application/vnd.jupyter.widget-view+json": {
       "model_id": "17ef34cc1c284a76a17c646cfe37597f",
       "version_major": 2,
       "version_minor": 0
      },
      "text/plain": [
       "FloatProgress(value=0.0, layout=Layout(width='auto'), style=ProgressStyle(bar_color='black'))"
      ]
     },
     "metadata": {},
     "output_type": "display_data"
    },
    {
     "data": {
      "application/vnd.jupyter.widget-view+json": {
       "model_id": "4f9efcf20ddf4829aa5787571f444bef",
       "version_major": 2,
       "version_minor": 0
      },
      "text/plain": [
       "FloatProgress(value=0.0, layout=Layout(width='auto'), style=ProgressStyle(bar_color='black'))"
      ]
     },
     "metadata": {},
     "output_type": "display_data"
    },
    {
     "data": {
      "application/vnd.jupyter.widget-view+json": {
       "model_id": "9e66686d339b4ceba69e26f89d2a6335",
       "version_major": 2,
       "version_minor": 0
      },
      "text/plain": [
       "FloatProgress(value=0.0, layout=Layout(width='auto'), style=ProgressStyle(bar_color='black'))"
      ]
     },
     "metadata": {},
     "output_type": "display_data"
    },
    {
     "data": {
      "application/vnd.jupyter.widget-view+json": {
       "model_id": "9f4065c3d159478ea853589e12cdd2a9",
       "version_major": 2,
       "version_minor": 0
      },
      "text/plain": [
       "FloatProgress(value=0.0, layout=Layout(width='auto'), style=ProgressStyle(bar_color='black'))"
      ]
     },
     "metadata": {},
     "output_type": "display_data"
    },
    {
     "data": {
      "application/vnd.jupyter.widget-view+json": {
       "model_id": "76af8eeecf3645c787a94c467326f437",
       "version_major": 2,
       "version_minor": 0
      },
      "text/plain": [
       "FloatProgress(value=0.0, layout=Layout(width='auto'), style=ProgressStyle(bar_color='black'))"
      ]
     },
     "metadata": {},
     "output_type": "display_data"
    },
    {
     "data": {
      "application/vnd.jupyter.widget-view+json": {
       "model_id": "514067b0efe1467f8c574b212ae71ab4",
       "version_major": 2,
       "version_minor": 0
      },
      "text/plain": [
       "FloatProgress(value=0.0, layout=Layout(width='auto'), style=ProgressStyle(bar_color='black'))"
      ]
     },
     "metadata": {},
     "output_type": "display_data"
    },
    {
     "data": {
      "application/vnd.jupyter.widget-view+json": {
       "model_id": "81e4c28822c44f359a7e8a15dfe1b838",
       "version_major": 2,
       "version_minor": 0
      },
      "text/plain": [
       "FloatProgress(value=0.0, layout=Layout(width='auto'), style=ProgressStyle(bar_color='black'))"
      ]
     },
     "metadata": {},
     "output_type": "display_data"
    },
    {
     "data": {
      "application/vnd.jupyter.widget-view+json": {
       "model_id": "18bf7060bbf2483392e0bca0e562e479",
       "version_major": 2,
       "version_minor": 0
      },
      "text/plain": [
       "FloatProgress(value=0.0, layout=Layout(width='auto'), style=ProgressStyle(bar_color='black'))"
      ]
     },
     "metadata": {},
     "output_type": "display_data"
    },
    {
     "data": {
      "application/vnd.jupyter.widget-view+json": {
       "model_id": "4f4ef77aadfe44fcbd76e009266c59b3",
       "version_major": 2,
       "version_minor": 0
      },
      "text/plain": [
       "FloatProgress(value=0.0, layout=Layout(width='auto'), style=ProgressStyle(bar_color='black'))"
      ]
     },
     "metadata": {},
     "output_type": "display_data"
    },
    {
     "data": {
      "application/vnd.jupyter.widget-view+json": {
       "model_id": "f726e5297bf9427991541affe55d714f",
       "version_major": 2,
       "version_minor": 0
      },
      "text/plain": [
       "FloatProgress(value=0.0, layout=Layout(width='auto'), style=ProgressStyle(bar_color='black'))"
      ]
     },
     "metadata": {},
     "output_type": "display_data"
    },
    {
     "name": "stdout",
     "output_type": "stream",
     "text": [
      "human_readable(combined_size)='1.85 GB'\n"
     ]
    }
   ],
   "source": [
    "files = [\n",
    "        \"contextual\",\n",
    "        \"metadata_common_attributes\",\n",
    "        \"segmentation\",\n",
    "        \"simplemaps\",\n",
    "        \"ghsl\",\n",
    "        \"perception\",\n",
    "        \"places365\",\n",
    "        \"osm\",\n",
    "    ]\n",
    "\n",
    "with duckdb.connect(\"duck.db\") as con:\n",
    "    # Load each dataset onto disk from the each file\n",
    "    for filename in files:\n",
    "        con.sql(f\"CREATE TABLE {filename} AS SELECT * FROM '{conf.DATA_DIR}/data/{filename}.parquet'\")\n",
    "\n",
    "    # Perform the joins.\n",
    "    for i, filename in enumerate(files[:-1]):\n",
    "        # Join the tables one by one and store intermediate results in separate tables\n",
    "        j = i + 1\n",
    "        target = filename if i==0 else f\"step{i}\"\n",
    "        con.sql(f\"CREATE TABLE step{j} AS SELECT * FROM {target} JOIN {files[j]} USING (UUID, source, orig_id)\")\n",
    "\n",
    "    # Finally, we can export the joined table to a new parquet file\n",
    "    con.sql(f\"COPY step{j} TO '{conf.DATA_DIR}/data/streetscapes.parquet' (FORMAT 'parquet', COMPRESSION 'zstd')\")\n",
    "\n",
    "# Remove the database from our filesystem\n",
    "os.remove(\"duck.db\")\n",
    "\n",
    "# Show the combined file size:\n",
    "combined_size = (conf.DATA_DIR / \"data\" / \"streetscapes.parquet\").stat().st_size\n",
    "print(f\"{human_readable(combined_size)=}\")\n"
   ]
  },
  {
   "cell_type": "code",
   "execution_count": 5,
   "metadata": {},
   "outputs": [
    {
     "data": {
      "text/plain": [
       "┌──────────────────────────────────────┬───────────┬──────────────────┬─────────┬────────────────────┬─────────────┬─────────────────┬───────────────┬────────────┬────────────────┬─────────┬────────────────────┬─────────────────────┬─────────────────────────┬───────┬───────┬───────┬───────┬────────┬────────┬────────────────────┬─────────────────┬────────────────────┬────────────────────┬────────────────┬────────────────────────┬────────────────────┬────────┬───────────────┬─────────┬──────────┬────────────┬──────────┬──────────┬───────────┬───────────────────┬──────────┬─────────┬─────────────────┬────────────┬──────────┬──────────────┬──────────┬─────────┬───────────┬────────┬─────────┬───────────┬──────────────┬─────────────┬──────────────────────────┬────────────────────────┬──────────┬────────┬───────────┬────────┬─────────┬────────────┬────────┬────────┬────────┬───────────┬───────────┬─────────────┬─────────────┬──────────────┬──────────────┬─────────┬─────────┬─────────────┬─────────┬──────────────┬─────────┬────────────────────┬──────────────┬───────────────┬─────────────────────┬──────────────────────┬───────────┬─────────┬────────┬────────┬──────────┬─────────┬────────────┬──────────┬───────────────┬─────────┬─────────┬──────────────┬───────────┬─────────────┬───────────┬──────────────────────┬──────────────────────┬──────────────┬──────────────┬────────────┬──────────┬───────────┬───────────────┬─────────┬─────────┬───────────────┬─────────┬────────────┬───────────────┬────────────┬────────────────────────┬───────────┬────────┬────────────┬────────┬────────┬─────────┬──────────────────────────┬────────────────────┬──────────────┬───────────────┬────────┬───────────────────────────────────┬─────────┬────────────┬───────────────────────┬───────────────┬──────────────┬──────────┬──────────┬──────────┬───────────────┬──────────────┬───────────┬──────────┬──────────┬─────────┬─────────┬────────────┬─────────┬───────────┬──────────┐\n",
       "│                 uuid                 │  source   │     orig_id      │  glare  │ lighting_condition │ pano_status │    platform     │    quality    │ reflection │ view_direction │ weather │        lat         │         lon         │     datetime_local      │ year  │ month │  day  │ hour  │ width  │ height │      heading       │ projection_type │        hFoV        │        vFoV        │ sequence_index │      sequence_id       │ sequence_img_count │  Bird  │ Ground-Animal │  Curb   │  Fence   │ Guard-Rail │ Barrier  │   Wall   │ Bike-Lane │ Crosswalk---Plain │ Curb-Cut │ Parking │ Pedestrian-Area │ Rail-Track │   Road   │ Service-Lane │ Sidewalk │ Bridge  │ Building  │ Tunnel │ Person  │ Bicyclist │ Motorcyclist │ Other-Rider │ Lane-Marking---Crosswalk │ Lane-Marking---General │ Mountain │  Sand  │    Sky    │  Snow  │ Terrain │ Vegetation │ Water  │ Banner │ Bench  │ Bike-Rack │ Billboard │ Catch-Basin │ CCTV-Camera │ Fire-Hydrant │ Junction-Box │ Mailbox │ Manhole │ Phone-Booth │ Pothole │ Street-Light │  Pole   │ Traffic-Sign-Frame │ Utility-Pole │ Traffic-Light │ Traffic-Sign-(Back) │ Traffic-Sign-(Front) │ Trash-Can │ Bicycle │  Boat  │  Bus   │   Car    │ Caravan │ Motorcycle │ On-Rails │ Other-Vehicle │ Trailer │  Truck  │ Wheeled-Slow │ Car-Mount │ Ego-Vehicle │   Total   │   green_view_index   │    sky_view_index    │     city     │  city_ascii  │  city_id   │ city_lat │ city_lon  │    country    │  iso2   │  iso3   │  admin_name   │ capital │ population │   continent   │ urban_code │       urban_term       │ Beautiful │ Boring │ Depressing │ Lively │  Safe  │ Wealthy │          place           │     snap_dist      │      u       │       v       │  key   │               osmid               │ oneway  │   lanes    │         name          │    highway    │ type_highway │ maxspeed │ junction │  length  │     from      │      to      │    ref    │ tunnel_1 │ bridge_1 │ service │ access  │ road_width │  area   │ est_width │ reversed │\n",
       "│               varchar                │  varchar  │      int64       │ boolean │      varchar       │   boolean   │     varchar     │    varchar    │  boolean   │    varchar     │ varchar │       double       │       double        │        timestamp        │ int64 │ int64 │ int64 │ int64 │ double │ double │       double       │     varchar     │       double       │       double       │     int64      │        varchar         │       int64        │ double │    double     │ double  │  double  │   double   │  double  │  double  │  double   │      double       │  double  │ double  │     double      │   double   │  double  │    double    │  double  │ double  │  double   │ double │ double  │  double   │    double    │   double    │          double          │         double         │  double  │ double │  double   │ double │ double  │   double   │ double │ double │ double │  double   │  double   │   double    │   double    │    double    │    double    │ double  │ double  │   double    │ double  │    double    │ double  │       double       │    double    │    double     │       double        │        double        │  double   │ double  │ double │ double │  double  │ double  │   double   │  double  │    double     │ double  │ double  │    double    │  double   │   double    │  double   │        double        │        double        │   varchar    │   varchar    │   int64    │  double  │  double   │    varchar    │ varchar │ varchar │    varchar    │ varchar │   double   │    varchar    │   int64    │        varchar         │  double   │ double │   double   │ double │ double │ double  │         varchar          │       double       │    double    │    double     │ double │              varchar              │ boolean │  varchar   │        varchar        │    varchar    │   varchar    │ varchar  │ varchar  │  double  │    double     │    double    │  varchar  │ varchar  │ varchar  │ varchar │ varchar │  varchar   │ boolean │  varchar  │ varchar  │\n",
       "├──────────────────────────────────────┼───────────┼──────────────────┼─────────┼────────────────────┼─────────────┼─────────────────┼───────────────┼────────────┼────────────────┼─────────┼────────────────────┼─────────────────────┼─────────────────────────┼───────┼───────┼───────┼───────┼────────┼────────┼────────────────────┼─────────────────┼────────────────────┼────────────────────┼────────────────┼────────────────────────┼────────────────────┼────────┼───────────────┼─────────┼──────────┼────────────┼──────────┼──────────┼───────────┼───────────────────┼──────────┼─────────┼─────────────────┼────────────┼──────────┼──────────────┼──────────┼─────────┼───────────┼────────┼─────────┼───────────┼──────────────┼─────────────┼──────────────────────────┼────────────────────────┼──────────┼────────┼───────────┼────────┼─────────┼────────────┼────────┼────────┼────────┼───────────┼───────────┼─────────────┼─────────────┼──────────────┼──────────────┼─────────┼─────────┼─────────────┼─────────┼──────────────┼─────────┼────────────────────┼──────────────┼───────────────┼─────────────────────┼──────────────────────┼───────────┼─────────┼────────┼────────┼──────────┼─────────┼────────────┼──────────┼───────────────┼─────────┼─────────┼──────────────┼───────────┼─────────────┼───────────┼──────────────────────┼──────────────────────┼──────────────┼──────────────┼────────────┼──────────┼───────────┼───────────────┼─────────┼─────────┼───────────────┼─────────┼────────────┼───────────────┼────────────┼────────────────────────┼───────────┼────────┼────────────┼────────┼────────┼─────────┼──────────────────────────┼────────────────────┼──────────────┼───────────────┼────────┼───────────────────────────────────┼─────────┼────────────┼───────────────────────┼───────────────┼──────────────┼──────────┼──────────┼──────────┼───────────────┼──────────────┼───────────┼──────────┼──────────┼─────────┼─────────┼────────────┼─────────┼───────────┼──────────┤\n",
       "│ 318a313d-960f-48b7-861f-486df9e5c506 │ Mapillary │  152544737528561 │ false   │ day                │ false       │ driving surface │ good          │ false      │ side           │ clear   │   37.4968225838297 │ -122.23271191120148 │ 2022-12-02 18:27:46.2   │  2022 │    12 │     2 │    10 │ 1920.0 │ 1080.0 │  88.59327145359538 │ perspective     │ 20.800918686462804 │ 11.788977348028528 │             43 │ ms5ntVDf0lZoJRaBCT9y7g │                135 │    0.0 │           0.0 │ 85685.0 │   4800.0 │      315.0 │  18710.0 │   3380.0 │       0.0 │           10215.0 │      0.0 │     0.0 │             0.0 │        0.0 │ 754985.0 │        795.0 │  90350.0 │  5430.0 │   24675.0 │    0.0 │     0.0 │       0.0 │          0.0 │         0.0 │                   1000.0 │                59700.0 │   2535.0 │    0.0 │  664380.0 │    0.0 │ 72335.0 │   202820.0 │    0.0 │    0.0 │    0.0 │       0.0 │       0.0 │         0.0 │         0.0 │          0.0 │          0.0 │     0.0 │     0.0 │         0.0 │     0.0 │        505.0 │ 11235.0 │                0.0 │          0.0 │           0.0 │                 0.0 │               1595.0 │       0.0 │     0.0 │    0.0 │    0.0 │   9935.0 │     0.0 │        0.0 │      0.0 │           0.0 │     0.0 │     0.0 │          0.0 │       0.0 │         0.0 │ 2025380.0 │  0.10013923313156049 │  0.32802733314242266 │ Redwood City │ Redwood City │ 1840020304 │  37.5026 │ -122.2252 │ United States │ US      │ USA     │ California    │ NULL    │    85925.0 │ North America │         30 │ urban centre           │      7.91 │   3.52 │       5.38 │   1.67 │   1.16 │    1.02 │ parking_lot              │ 1.0175397308974057 │   65377162.0 │    65377163.0 │    0.0 │ 435628147                         │ true    │ 2          │ NULL                  │ motorway_link │ drive        │ NULL     │ NULL     │    57.39 │    65377162.0 │   65377163.0 │ NULL      │ NULL     │ yes      │ NULL    │ NULL    │ NULL       │ NULL    │ NULL      │ False    │\n",
       "│ a247641f-ba68-4eba-b681-c1f73ff04f06 │ Mapillary │  600840820879032 │ false   │ day                │ false       │ driving surface │ good          │ false      │ front/back     │ clear   │ 35.834319349167004 │  139.86111223697662 │ 2020-05-29 05:15:57.894 │  2020 │     5 │    29 │    14 │ 4608.0 │ 2592.0 │    315.08712768555 │ perspective     │  51.67147963189065 │ 30.470647934420803 │             38 │ 9l57ujuu8s1nvhulvu8qfw │                 57 │    0.0 │           0.0 │  1398.0 │   1257.0 │        0.0 │ 115470.0 │   9624.0 │       0.0 │               0.0 │      0.0 │     0.0 │             0.0 │        0.0 │ 409461.0 │          0.0 │      0.0 │ 57951.0 │   18843.0 │    0.0 │     0.0 │       0.0 │          0.0 │         0.0 │                      0.0 │               217176.0 │      0.0 │    0.0 │ 1391121.0 │    0.0 │     0.0 │    26634.0 │    0.0 │    0.0 │    0.0 │       0.0 │       0.0 │      6897.0 │         0.0 │          0.0 │          0.0 │     0.0 │     0.0 │         0.0 │     0.0 │          0.0 │ 22821.0 │             1608.0 │          0.0 │           0.0 │                 0.0 │               3243.0 │       0.0 │     0.0 │    0.0 │    0.0 │      0.0 │     0.0 │        0.0 │      0.0 │           0.0 │     0.0 │ 11343.0 │          0.0 │       0.0 │      1536.0 │ 2296383.0 │ 0.011598239492279816 │    0.605787884686483 │ Misato       │ Misato       │ 1392464033 │  35.8303 │  139.8725 │ Japan         │ JP      │ JPN     │ Chiba         │ NULL    │   141913.0 │ Asia          │         30 │ urban centre           │      2.46 │   5.08 │       5.73 │   0.48 │   1.01 │    4.31 │ highway                  │ 0.3079486440393026 │  559397215.0 │  1781291508.0 │    0.0 │ [439262440, 491625693]            │ true    │ 1.0        │ 国道298号             │ motorway_link │ drive        │ 40.0     │ NULL     │  380.305 │  1781291508.0 │  559397215.0 │ 298       │ NULL     │ yes      │ NULL    │ NULL    │ NULL       │ NULL    │ NULL      │ False    │\n",
       "│ 23c862d0-541d-4c6d-a435-dc79125b8157 │ Mapillary │  926816334783790 │ false   │ day                │ false       │ driving surface │ good          │ true       │ front/back     │ clear   │  37.49416249891885 │   -122.233704328537 │ 2018-09-18 00:55:19.727 │  2018 │     9 │    17 │    17 │ 1920.0 │ 1080.0 │     318.1545715332 │ perspective     │  57.47606660203393 │ 34.284259109624266 │             47 │ 8avej2m3h4a8pflk8l0aif │                255 │    0.0 │           0.0 │ 40055.0 │      0.0 │        0.0 │      0.0 │      0.0 │       0.0 │               0.0 │      0.0 │     0.0 │             0.0 │        0.0 │ 650925.0 │          0.0 │  75625.0 │     0.0 │   10795.0 │    0.0 │     0.0 │       0.0 │          0.0 │         0.0 │                    135.0 │                28230.0 │      0.0 │    0.0 │  551695.0 │    0.0 │     0.0 │   529680.0 │    0.0 │ 1900.0 │    0.0 │       0.0 │     265.0 │         0.0 │         0.0 │          0.0 │          0.0 │     0.0 │     0.0 │         0.0 │     0.0 │          0.0 │ 36750.0 │                0.0 │          0.0 │        2605.0 │              3210.0 │               3460.0 │       0.0 │     0.0 │    0.0 │    0.0 │  24545.0 │     0.0 │        0.0 │      0.0 │           0.0 │     0.0 │     0.0 │          0.0 │   51350.0 │         0.0 │ 2011225.0 │  0.26336188144041567 │   0.2743079466494301 │ Redwood City │ Redwood City │ 1840020304 │  37.5026 │ -122.2252 │ United States │ US      │ USA     │ California    │ NULL    │    85925.0 │ North America │         30 │ urban centre           │      6.71 │   3.65 │       6.48 │   3.19 │   4.24 │    2.36 │ highway                  │  7.134109976484532 │  449081464.0 │  7490950250.0 │    0.0 │ [385244122, 417323067, 519481316] │ true    │ ['6', '4'] │ Veterans Boulevard    │ primary       │ drive        │ NULL     │ NULL     │  130.273 │   449081464.0 │ 7490950250.0 │ NULL      │ NULL     │ NULL     │ NULL    │ NULL    │ NULL       │ NULL    │ NULL      │ False    │\n",
       "│ 980d8fc2-74b3-41bd-aad0-da7a14be9136 │ Mapillary │  500951770951141 │ false   │ day                │ false       │ driving surface │ good          │ false      │ front/back     │ clear   │  37.95630823418527 │   -122.329164147377 │ 2020-01-26 22:40:02.154 │  2020 │     1 │    26 │    14 │ 4032.0 │ 3024.0 │    308.17883300781 │ perspective     │  64.91453440131077 │  51.00384046071323 │            953 │ oaq3zsgcjg9qm266cf07zj │                593 │    0.0 │           0.0 │ 18792.0 │      0.0 │        0.0 │      0.0 │      0.0 │       0.0 │           34480.0 │      0.0 │     0.0 │             0.0 │        0.0 │ 564600.0 │          0.0 │      0.0 │     0.0 │       0.0 │    0.0 │     0.0 │       0.0 │          0.0 │         0.0 │                      0.0 │                73824.0 │      0.0 │    0.0 │ 1601280.0 │    0.0 │ 14980.0 │   371592.0 │    0.0 │    0.0 │    0.0 │       0.0 │       0.0 │         0.0 │         0.0 │          0.0 │          0.0 │     0.0 │     0.0 │         0.0 │     0.0 │          0.0 │ 25640.0 │                0.0 │          0.0 │        1852.0 │              6280.0 │               7024.0 │       0.0 │     0.0 │    0.0 │    0.0 │ 317004.0 │     0.0 │        0.0 │      0.0 │           0.0 │     0.0 │     0.0 │          0.0 │     600.0 │         0.0 │ 3037948.0 │  0.12231677434900136 │   0.5270926296302636 │ Richmond     │ Richmond     │ 1840020277 │  37.9477 │  -122.339 │ United States │ US      │ USA     │ California    │ NULL    │   110567.0 │ North America │         30 │ urban centre           │       5.4 │   3.92 │       3.11 │   4.63 │    1.0 │    1.47 │ highway                  │ 0.9811684130901736 │  243829727.0 │  2451197049.0 │    0.0 │ 237172336                         │ true    │ NULL       │ Amador Street         │ primary_link  │ drive        │ 30 mph   │ NULL     │   68.155 │  2451197049.0 │  243829727.0 │ NULL      │ NULL     │ NULL     │ NULL    │ NULL    │ NULL       │ NULL    │ NULL      │ False    │\n",
       "│ e07bcd84-bf0b-4c7f-8e01-7de7e408edd6 │ Mapillary │  326760548880302 │ false   │ day                │ false       │ driving surface │ good          │ true       │ side           │ clear   │  25.67186436666244 │ -100.29077768325806 │ 2020-02-29 23:54:31.589 │  2020 │     2 │    29 │    17 │ 3840.0 │ 2160.0 │    335.21412192947 │ fisheye         │  93.58473739125388 │  61.82987531117705 │             92 │ 3ttlwgu4ht5orea68c8q6g │                110 │    0.0 │           0.0 │   639.0 │ 276378.0 │        0.0 │      0.0 │  42198.0 │       0.0 │               0.0 │      0.0 │     0.0 │             0.0 │        0.0 │ 691617.0 │          0.0 │      0.0 │     0.0 │       0.0 │    0.0 │     0.0 │       0.0 │          0.0 │         0.0 │                      0.0 │                 6150.0 │      0.0 │    0.0 │  535593.0 │    0.0 │   861.0 │   454149.0 │    0.0 │    0.0 │    0.0 │       0.0 │       0.0 │         0.0 │         0.0 │          0.0 │          0.0 │     0.0 │     0.0 │         0.0 │     0.0 │          0.0 │  3519.0 │                0.0 │       4392.0 │           0.0 │                 0.0 │                  0.0 │       0.0 │     0.0 │    0.0 │    0.0 │ 315714.0 │     0.0 │        0.0 │      0.0 │           0.0 │     0.0 │     0.0 │          0.0 │     789.0 │         0.0 │ 2331999.0 │   0.1947466529788392 │   0.2296711962569452 │ Monterrey    │ Monterrey    │ 1484559591 │  25.6667 │    -100.3 │ Mexico        │ MX      │ MEX     │ Nuevo León    │ admin   │  1135512.0 │ North America │         21 │ suburban or peri-urban │       2.4 │   3.78 │       5.95 │   3.74 │   3.68 │    1.34 │ parking_lot              │  5.251437181899192 │  293794375.0 │  1062502778.0 │    0.0 │ 798959477                         │ true    │ 5          │ Avenida Constitución  │ trunk         │ drive        │ 80       │ NULL     │  158.609 │  1062502778.0 │  293794375.0 │ MEX 40;22 │ NULL     │ NULL     │ NULL    │ NULL    │ NULL       │ NULL    │ NULL      │ False    │\n",
       "│ 95127f83-7eef-48e4-b3d9-17eca8078c26 │ Mapillary │  848330255752917 │ false   │ day                │ false       │ walking surface │ good          │ false      │ side           │ clear   │  35.66983520724774 │   139.7516405582428 │ 2017-03-18 02:38:46.703 │  2017 │     3 │    18 │    11 │ 3264.0 │ 2448.0 │    209.49918174744 │ perspective     │ 58.787615490601965 │  45.80777488720521 │            118 │ FVk79YQw8x1a_34XojrPpA │                168 │    0.0 │           0.0 │     0.0 │  69376.0 │        0.0 │      0.0 │      0.0 │       0.0 │               0.0 │      0.0 │     0.0 │             0.0 │        0.0 │  55904.0 │          0.0 │ 227824.0 │     0.0 │ 2310248.0 │    0.0 │ 25512.0 │       0.0 │          0.0 │         0.0 │                      0.0 │                    0.0 │      0.0 │    0.0 │  188856.0 │    0.0 │     0.0 │    21348.0 │    0.0 │    0.0 │    0.0 │       0.0 │   42000.0 │         0.0 │         0.0 │          0.0 │          0.0 │     0.0 │  6508.0 │         0.0 │     0.0 │          0.0 │ 60532.0 │                0.0 │      45952.0 │       18664.0 │                 0.0 │               1068.0 │       0.0 │     0.0 │    0.0 │    0.0 │      0.0 │     0.0 │        0.0 │      0.0 │           0.0 │     0.0 │     0.0 │          0.0 │       0.0 │         0.0 │ 3073792.0 │  0.00694516740234863 │ 0.061440722078787376 │ Chūō-ku      │ Chuo-ku      │ 1392003401 │  35.6667 │  139.7667 │ Japan         │ JP      │ JPN     │ Tōkyō         │ NULL    │   169995.0 │ Asia          │         30 │ urban centre           │      6.82 │   1.86 │       8.47 │   6.81 │   6.51 │    7.39 │ parking_garage           │ 0.4920534100463894 │ 2399999940.0 │  2399999943.0 │    0.0 │ 583384293                         │ false   │ NULL       │ 祝田通り              │ footway       │ walk         │ 40.0     │ NULL     │    8.598 │  2399999943.0 │ 2399999940.0 │ 301       │ NULL     │ NULL     │ NULL    │ NULL    │ NULL       │ NULL    │ NULL      │ True     │\n",
       "│ dd07d135-0fe0-4247-98e2-a5398d38083f │ Mapillary │ 4625037200856813 │ false   │ day                │ false       │ driving surface │ good          │ true       │ front/back     │ cloudy  │  47.76479397454918 │  -122.3350864648819 │ 2020-03-28 18:03:05.19  │  2020 │     3 │    28 │    11 │ 3840.0 │ 2160.0 │    359.28965593565 │ fisheye         │  90.27391539155909 │  58.94988606803484 │             51 │ 8ww2jqq7pfbakwlqj4q81a │                111 │    0.0 │           0.0 │  3558.0 │      0.0 │        0.0 │      0.0 │   2319.0 │       0.0 │               0.0 │      0.0 │     0.0 │             0.0 │        0.0 │ 193122.0 │          0.0 │  10857.0 │     0.0 │   63396.0 │    0.0 │     0.0 │       0.0 │          0.0 │         0.0 │                      0.0 │                 3777.0 │      0.0 │    0.0 │  220443.0 │    0.0 │  6606.0 │  1202481.0 │    0.0 │    0.0 │    0.0 │       0.0 │       0.0 │         0.0 │         0.0 │          0.0 │          0.0 │     0.0 │     0.0 │         0.0 │     0.0 │          0.0 │     0.0 │                0.0 │      29979.0 │           0.0 │                 0.0 │                  0.0 │       0.0 │     0.0 │    0.0 │    0.0 │ 170958.0 │     0.0 │        0.0 │      0.0 │           0.0 │     0.0 │     0.0 │          0.0 │       0.0 │    407754.0 │ 2315250.0 │    0.519374149659864 │   0.0952134758665371 │ Shoreline    │ Shoreline    │ 1840021118 │  47.7564 │ -122.3426 │ United States │ US      │ USA     │ Washington    │ NULL    │    57027.0 │ North America │         30 │ urban centre           │       2.4 │    3.7 │       1.38 │   3.57 │   6.03 │    5.71 │ forest_road              │  1.699963926131777 │   53147029.0 │  7071710447.0 │    0.0 │ 757253695                         │ false   │ 2          │ Meridian Avenue North │ tertiary      │ drive        │ 35 mph   │ NULL     │   75.584 │  7071710447.0 │   53147029.0 │ NULL      │ NULL     │ NULL     │ NULL    │ NULL    │ NULL       │ NULL    │ NULL      │ False    │\n",
       "│ 57a38c6b-92a2-4fe4-9c1c-7059ec9cde09 │ Mapillary │ 1120073322211788 │ false   │ day                │ false       │ walking surface │ good          │ false      │ side           │ clear   │  51.84375214621829 │   5.853770971298218 │ 2022-11-12 09:46:57.553 │  2022 │    11 │    12 │    10 │ 4032.0 │ 2268.0 │ 132.94884157180786 │ perspective     │  18.15858616446064 │  10.27295805189952 │             16 │ n8FYWr7T1MHkGmQxjCzR0q │                301 │    0.0 │           0.0 │ 12396.0 │      0.0 │        0.0 │      0.0 │   5175.0 │       0.0 │             174.0 │  10575.0 │     0.0 │          7104.0 │        0.0 │ 792273.0 │          0.0 │  73341.0 │     0.0 │  469974.0 │    0.0 │ 66546.0 │       0.0 │          0.0 │         0.0 │                      0.0 │                35433.0 │      0.0 │    0.0 │  688770.0 │    0.0 │     0.0 │    48369.0 │    0.0 │    0.0 │ 4773.0 │    2859.0 │   50304.0 │         0.0 │         0.0 │          0.0 │          0.0 │     0.0 │     0.0 │         0.0 │     0.0 │       3498.0 │ 27150.0 │                0.0 │          0.0 │           0.0 │                 0.0 │                  0.0 │   11478.0 │     0.0 │    0.0 │    0.0 │   4464.0 │     0.0 │        0.0 │      0.0 │           0.0 │     0.0 │     0.0 │          0.0 │       0.0 │         0.0 │ 2314656.0 │ 0.020896841690514704 │   0.2975690556177678 │ Nijmegen     │ Nijmegen     │ 1528136727 │  51.8475 │    5.8625 │ Netherlands   │ NL      │ NLD     │ Gelderland    │ minor   │   177659.0 │ Europe        │         30 │ urban centre           │       0.8 │   7.84 │       6.83 │   2.94 │   1.32 │     2.6 │ promenade                │ 0.3899278559390675 │   44064244.0 │  1740455490.0 │    0.0 │ [6873536, 24720345, 6873573]      │ true    │ 2          │ Tunnelweg             │ secondary     │ drive        │ 50       │ NULL     │  437.738 │    44064244.0 │ 1740455490.0 │ S102      │ yes      │ NULL     │ NULL    │ no      │ NULL       │ NULL    │ NULL      │ False    │\n",
       "│ 904dc45a-85c2-49d4-aaaa-9388462f9ede │ Mapillary │  219734049597018 │ false   │ day                │ false       │ driving surface │ slightly poor │ false      │ side           │ rainy   │  37.95373650945679 │   23.75570297241211 │ 2018-10-23 12:56:18     │  2018 │    10 │    23 │    15 │ 1920.0 │ 1080.0 │    190.41832411701 │ perspective     │   82.0646620466463 │  52.16639211532279 │             60 │ BavbLuJ-_KhARYD1HJsJag │                497 │    0.0 │           0.0 │ 14640.0 │      0.0 │        0.0 │      0.0 │  28610.0 │       0.0 │               0.0 │      0.0 │     0.0 │             0.0 │        0.0 │ 580640.0 │          0.0 │  48810.0 │     0.0 │  433085.0 │    0.0 │  2065.0 │       0.0 │          0.0 │         0.0 │                      0.0 │                 1780.0 │      0.0 │    0.0 │  398980.0 │    0.0 │ 48860.0 │   160455.0 │    0.0 │    0.0 │    0.0 │       0.0 │   31095.0 │         0.0 │         0.0 │          0.0 │          0.0 │     0.0 │     0.0 │         0.0 │     0.0 │          0.0 │  3105.0 │                0.0 │      28295.0 │           0.0 │                 0.0 │                  0.0 │       0.0 │     0.0 │    0.0 │    0.0 │ 201110.0 │     0.0 │        0.0 │      0.0 │        8595.0 │     0.0 │ 22540.0 │          0.0 │       0.0 │         0.0 │ 2012665.0 │  0.07972265627911251 │  0.19823467889589177 │ Výronas      │ Vyronas      │ 1300508500 │  37.9556 │     23.76 │ Greece        │ GR      │ GRC     │ Attikí        │ minor   │    61308.0 │ Europe        │         30 │ urban centre           │      3.71 │   2.21 │       2.34 │   6.53 │   8.14 │    6.42 │ street                   │  7.370574806866043 │  271529201.0 │  1450094886.0 │    0.0 │ 295012367                         │ true    │ NULL       │ Βρυούλων              │ residential   │ drive        │ NULL     │ NULL     │   34.214 │   271529201.0 │ 1450094886.0 │ NULL      │ NULL     │ NULL     │ NULL    │ NULL    │ NULL       │ NULL    │ NULL      │ False    │\n",
       "│ 33f8712a-9eb0-42ac-90ca-85953552ffd5 │ Mapillary │  214101900143563 │ false   │ day                │ true        │ cycling surface │ good          │ false      │ NULL           │ clear   │   52.3687344874657 │    4.89690363407135 │ 2017-03-23 11:53:41.416 │  2017 │     3 │    23 │    12 │ 8000.0 │ 4000.0 │                0.0 │ equirectangular │               NULL │               NULL │              8 │ gQAj6l7_fzMOb6xJlQOfcw │                 23 │    0.0 │           0.0 │   811.0 │   3407.0 │        0.0 │      0.0 │  16679.0 │       0.0 │               0.0 │      0.0 │  3587.0 │             0.0 │        0.0 │  76578.0 │          0.0 │  90330.0 │     0.0 │  410406.0 │    0.0 │  7123.0 │       0.0 │          0.0 │         0.0 │                      0.0 │                    0.0 │      0.0 │    0.0 │  563003.0 │    0.0 │     0.0 │   113115.0 │    0.0 │    0.0 │    0.0 │       0.0 │    5983.0 │         0.0 │         0.0 │          0.0 │          0.0 │     0.0 │     0.0 │         0.0 │     0.0 │       1401.0 │  5282.0 │                0.0 │          0.0 │           0.0 │                 0.0 │                  0.0 │       0.0 │  3292.0 │    0.0 │    0.0 │ 108155.0 │     0.0 │     2184.0 │      0.0 │           0.0 │     0.0 │     0.0 │          0.0 │       0.0 │    531477.0 │ 1942813.0 │  0.05822227872677401 │   0.2897875400257256 │ Amsterdam    │ Amsterdam    │ 1528355309 │  52.3667 │    4.8833 │ Netherlands   │ NL      │ NLD     │ Noord-Holland │ primary │   862965.0 │ Europe        │         30 │ urban centre           │      6.17 │   2.73 │       5.04 │   8.27 │   3.62 │    6.06 │ parking_lot              │ 0.8348295652671753 │   46370468.0 │    46377925.0 │    0.0 │ 7371090                           │ true    │ NULL       │ Kloveniersburgwal     │ residential   │ drive        │ 30       │ NULL     │  198.403 │    46370468.0 │   46377925.0 │ NULL      │ NULL     │ NULL     │ NULL    │ NULL    │ NULL       │ NULL    │ NULL      │ False    │\n",
       "│                  ·                   │     ·     │         ·        │   ·     │  ·                 │  ·          │        ·        │  ·            │  ·         │  ·             │   ·     │           ·        │            ·        │            ·            │    ·  │     · │     · │     · │    ·   │    ·   │                 ·  │      ·          │                 ·  │                 ·  │              · │           ·            │                  · │     ·  │            ·  │      ·  │      ·   │         ·  │       ·  │     ·    │        ·  │                ·  │       ·  │      ·  │              ·  │         ·  │     ·    │           ·  │       ·  │      ·  │       ·   │     ·  │      ·  │        ·  │           ·  │          ·  │                       ·  │                     ·  │       ·  │     ·  │      ·    │     ·  │      ·  │         ·  │     ·  │     ·  │     ·  │        ·  │        ·  │          ·  │          ·  │           ·  │           ·  │      ·  │      ·  │          ·  │      ·  │           ·  │     ·   │                 ·  │           ·  │            ·  │                  ·  │                   ·  │        ·  │      ·  │     ·  │     ·  │      ·   │      ·  │         ·  │       ·  │            ·  │      ·  │      ·  │           ·  │        ·  │          ·  │     ·     │                   ·  │            ·         │   ·          │   ·          │      ·     │     ·    │       ·   │   ·           │ ·       │  ·      │   ·           │  ·      │       ·    │  ·            │          · │      ·                 │        ·  │     ·  │         ·  │     ·  │     ·  │      ·  │      ·                   │           ·        │        ·     │         ·     │     ·  │    ·                              │  ·      │  ·         │        ·              │    ·          │   ·          │ ·        │  ·       │     ·    │         ·     │        ·     │ ·         │  ·       │  ·       │  ·      │  ·      │  ·         │  ·      │  ·        │   ·      │\n",
       "│                  ·                   │     ·     │         ·        │   ·     │  ·                 │  ·          │        ·        │  ·            │  ·         │  ·             │   ·     │           ·        │            ·        │            ·            │    ·  │     · │     · │     · │    ·   │    ·   │                 ·  │      ·          │                 ·  │                 ·  │              · │           ·            │                  · │     ·  │            ·  │      ·  │      ·   │         ·  │       ·  │     ·    │        ·  │                ·  │       ·  │      ·  │              ·  │         ·  │     ·    │           ·  │       ·  │      ·  │       ·   │     ·  │      ·  │        ·  │           ·  │          ·  │                       ·  │                     ·  │       ·  │     ·  │      ·    │     ·  │      ·  │         ·  │     ·  │     ·  │     ·  │        ·  │        ·  │          ·  │          ·  │           ·  │           ·  │      ·  │      ·  │          ·  │      ·  │           ·  │     ·   │                 ·  │           ·  │            ·  │                  ·  │                   ·  │        ·  │      ·  │     ·  │     ·  │      ·   │      ·  │         ·  │       ·  │            ·  │      ·  │      ·  │           ·  │        ·  │          ·  │     ·     │                   ·  │            ·         │   ·          │   ·          │      ·     │     ·    │       ·   │   ·           │ ·       │  ·      │   ·           │  ·      │       ·    │  ·            │          · │      ·                 │        ·  │     ·  │         ·  │     ·  │     ·  │      ·  │      ·                   │           ·        │        ·     │         ·     │     ·  │    ·                              │  ·      │  ·         │        ·              │    ·          │   ·          │ ·        │  ·       │     ·    │         ·     │        ·     │ ·         │  ·       │  ·       │  ·      │  ·      │  ·         │  ·      │  ·        │   ·      │\n",
       "│                  ·                   │     ·     │         ·        │   ·     │  ·                 │  ·          │        ·        │  ·            │  ·         │  ·             │   ·     │           ·        │            ·        │            ·            │    ·  │     · │     · │     · │    ·   │    ·   │                 ·  │      ·          │                 ·  │                 ·  │              · │           ·            │                  · │     ·  │            ·  │      ·  │      ·   │         ·  │       ·  │     ·    │        ·  │                ·  │       ·  │      ·  │              ·  │         ·  │     ·    │           ·  │       ·  │      ·  │       ·   │     ·  │      ·  │        ·  │           ·  │          ·  │                       ·  │                     ·  │       ·  │     ·  │      ·    │     ·  │      ·  │         ·  │     ·  │     ·  │     ·  │        ·  │        ·  │          ·  │          ·  │           ·  │           ·  │      ·  │      ·  │          ·  │      ·  │           ·  │     ·   │                 ·  │           ·  │            ·  │                  ·  │                   ·  │        ·  │      ·  │     ·  │     ·  │      ·   │      ·  │         ·  │       ·  │            ·  │      ·  │      ·  │           ·  │        ·  │          ·  │     ·     │                   ·  │            ·         │   ·          │   ·          │      ·     │     ·    │       ·   │   ·           │ ·       │  ·      │   ·           │  ·      │       ·    │  ·            │          · │      ·                 │        ·  │     ·  │         ·  │     ·  │     ·  │      ·  │      ·                   │           ·        │        ·     │         ·     │     ·  │    ·                              │  ·      │  ·         │        ·              │    ·          │   ·          │ ·        │  ·       │     ·    │         ·     │        ·     │ ·         │  ·       │  ·       │  ·      │  ·      │  ·         │  ·      │  ·        │   ·      │\n",
       "│ e287f686-956e-48df-af8e-8218d2bc315d │ Mapillary │ 1136139043548581 │ false   │ day                │ false       │ driving surface │ good          │ true       │ front/back     │ clear   │  35.82932653434496 │   139.8672652244568 │ 2019-01-21 02:12:48.317 │  2019 │     1 │    21 │    11 │ 1920.0 │ 1080.0 │    318.34552001953 │ perspective     │  21.84942562750715 │ 12.392898600160844 │            295 │ h9hxtsry8f4kito0o7yefw │                324 │    0.0 │           0.0 │     0.0 │  12410.0 │     4500.0 │ 222515.0 │ 709070.0 │       0.0 │               0.0 │      0.0 │     0.0 │             0.0 │        0.0 │ 385055.0 │      15625.0 │      0.0 │     0.0 │    3780.0 │    0.0 │     0.0 │       0.0 │          0.0 │         0.0 │                      0.0 │                29170.0 │      0.0 │    0.0 │  372750.0 │    0.0 │     0.0 │        0.0 │    0.0 │    0.0 │    0.0 │       0.0 │       0.0 │         0.0 │         0.0 │          0.0 │          0.0 │     0.0 │     0.0 │         0.0 │     0.0 │          0.0 │  8025.0 │            29545.0 │       2775.0 │           0.0 │                 0.0 │             226175.0 │       0.0 │     0.0 │    0.0 │    0.0 │   8045.0 │     0.0 │        0.0 │      0.0 │           0.0 │     0.0 │  9595.0 │          0.0 │       0.0 │         0.0 │ 2039035.0 │                  0.0 │  0.18280706314506617 │ Misato       │ Misato       │ 1392464033 │  35.8303 │  139.8725 │ Japan         │ JP      │ JPN     │ Chiba         │ NULL    │   141913.0 │ Asia          │         30 │ urban centre           │      0.28 │   9.37 │       4.83 │   4.32 │   0.92 │    0.99 │ airport_terminal         │    5.4751307896553 │ 1781291508.0 │  5566359036.0 │    0.0 │ [290680754, 69029263]             │ true    │ 2.0        │ 東京外環自動車道      │ motorway      │ drive        │ 80.0     │ NULL     │ 1223.604 │  5566359036.0 │ 1781291508.0 │ C3        │ NULL     │ yes      │ NULL    │ NULL    │ NULL       │ NULL    │ NULL      │ False    │\n",
       "│ 699656b8-68a7-4b14-9128-d88b37aab880 │ Mapillary │  528442961864211 │ false   │ day                │ false       │ driving surface │ good          │ false      │ front/back     │ cloudy  │  35.83260582269355 │  139.86329555511475 │ 2020-07-28 05:43:58.21  │  2020 │     7 │    28 │    14 │ 4608.0 │ 2592.0 │    313.53570556641 │ perspective     │  26.66048785522452 │ 15.183610164417424 │            187 │ uy80oqx8l8ltxr3e0hfs7f │                124 │    0.0 │           0.0 │     0.0 │ 124044.0 │        0.0 │ 245634.0 │ 106425.0 │       0.0 │               0.0 │      0.0 │     0.0 │             0.0 │        0.0 │ 529722.0 │       1893.0 │      0.0 │     0.0 │   14991.0 │    0.0 │     0.0 │       0.0 │          0.0 │         0.0 │                      0.0 │                76176.0 │      0.0 │    0.0 │ 1080924.0 │    0.0 │     0.0 │    10917.0 │    0.0 │    0.0 │    0.0 │       0.0 │     285.0 │         0.0 │         0.0 │          0.0 │          0.0 │     0.0 │     0.0 │         0.0 │     0.0 │          0.0 │ 45861.0 │             7653.0 │          0.0 │           0.0 │              6564.0 │              16098.0 │       0.0 │     0.0 │    0.0 │    0.0 │   1173.0 │     0.0 │        0.0 │      0.0 │           0.0 │     0.0 │ 44190.0 │          0.0 │       0.0 │         0.0 │ 2312550.0 │ 0.004720762794317961 │  0.46741648829214505 │ Misato       │ Misato       │ 1392464033 │  35.8303 │  139.8725 │ Japan         │ JP      │ JPN     │ Chiba         │ NULL    │   141913.0 │ Asia          │         30 │ urban centre           │      2.09 │   4.56 │       7.89 │   2.11 │   0.52 │    4.66 │ promenade                │  1.240459528330668 │  559397215.0 │  1781291508.0 │    0.0 │ [439262440, 491625693]            │ true    │ 1.0        │ 東京外環自動車道      │ motorway_link │ drive        │ 40.0     │ NULL     │  380.305 │  1781291508.0 │  559397215.0 │ C3        │ NULL     │ yes      │ NULL    │ NULL    │ NULL       │ NULL    │ NULL      │ False    │\n",
       "│ c7c9719c-a4cf-46eb-a1a4-4947cbea70d7 │ Mapillary │  136518518668530 │ false   │ day                │ false       │ cycling surface │ slightly poor │ false      │ side           │ clear   │  49.22555048594256 │   6.990952491760254 │ 2021-08-24 12:58:36     │  2021 │     8 │    24 │    14 │ 3840.0 │ 2160.0 │  118.2270730453186 │ perspective     │  93.42588100768852 │  61.68966507048162 │            355 │ u0x8w1atsYgrpA6FUSoTRn │                393 │    0.0 │           0.0 │  9603.0 │      0.0 │        0.0 │      0.0 │  61146.0 │       0.0 │               0.0 │      0.0 │ 13425.0 │             0.0 │        0.0 │ 746643.0 │          0.0 │    177.0 │     0.0 │    6825.0 │    0.0 │     0.0 │       0.0 │          0.0 │         0.0 │                      0.0 │                    0.0 │      0.0 │    0.0 │   69468.0 │    0.0 │ 13725.0 │  1055325.0 │    0.0 │    0.0 │    0.0 │       0.0 │       0.0 │         0.0 │         0.0 │          0.0 │          0.0 │     0.0 │     0.0 │         0.0 │     0.0 │          0.0 │ 14622.0 │                0.0 │         18.0 │           0.0 │                 0.0 │              16347.0 │  245499.0 │     0.0 │    0.0 │    0.0 │  50148.0 │     0.0 │        0.0 │      0.0 │           0.0 │     0.0 │     0.0 │          0.0 │       0.0 │     26730.0 │ 2329701.0 │   0.4529873146811544 │ 0.029818418758458705 │ Saarbrücken  │ Saarbrucken  │ 1276419711 │  49.2333 │       7.0 │ Germany       │ DE      │ DEU     │ Saarland      │ admin   │   179349.0 │ Europe        │         30 │ urban centre           │      7.36 │   6.29 │        5.9 │   1.16 │    3.6 │    2.19 │ parking_lot              │ 1.0190754612953237 │  178991150.0 │   178991207.0 │    0.0 │ 17276170                          │ false   │ 2          │ Reppersbergstraße     │ residential   │ drive        │ 30       │ NULL     │  171.709 │   178991207.0 │  178991150.0 │ NULL      │ NULL     │ NULL     │ NULL    │ NULL    │ NULL       │ NULL    │ NULL      │ True     │\n",
       "│ 58eb0879-a86e-4d55-a772-18c7d49947f2 │ KartaView │       1148915474 │ false   │ day                │ false       │ driving surface │ good          │ false      │ front/back     │ cloudy  │          47.010664 │           28.843614 │ 2020-10-04 10:55:31     │  2020 │    10 │     4 │    13 │ 2592.0 │ 1512.0 │              34.29 │ perspective     │               NULL │               NULL │            346 │ 3188814                │                260 │    0.0 │           0.0 │ 19334.0 │      0.0 │        0.0 │      0.0 │      0.0 │       0.0 │               0.0 │      0.0 │     0.0 │             0.0 │        0.0 │ 286576.0 │          0.0 │ 170934.0 │     0.0 │  773918.0 │    0.0 │     0.0 │       0.0 │          0.0 │         0.0 │                   1944.0 │                52606.0 │      0.0 │    0.0 │ 1780242.0 │    0.0 │ 12048.0 │   187931.0 │    0.0 │    0.0 │    0.0 │       0.0 │  166055.0 │         0.0 │         0.0 │          0.0 │          0.0 │     0.0 │     0.0 │         0.0 │     0.0 │          0.0 │ 36292.0 │                0.0 │      84536.0 │        1721.0 │                 0.0 │               5676.0 │       0.0 │ 12473.0 │    0.0 │    0.0 │ 135700.0 │     0.0 │        0.0 │      0.0 │           0.0 │     0.0 │     0.0 │          0.0 │       0.0 │     19398.0 │ 3747384.0 │  0.05014991791607158 │  0.47506260367232184 │ Chisinau     │ Chisinau     │ 1498011437 │  47.0228 │   28.8353 │ Moldova       │ MD      │ MDA     │ Chişinău      │ primary │   639000.0 │ Europe        │         30 │ urban centre           │      1.43 │   4.74 │       3.52 │   4.73 │   2.81 │    3.72 │ street                   │  2.553142867428735 │ 8301423478.0 │  8301423486.0 │    0.0 │ [893181848, 893181847]            │ false   │ 4          │ Bulevardul Dacia      │ footway       │ walk         │ 50.0     │ NULL     │   28.728 │  8301423486.0 │ 8301423478.0 │ NULL      │ NULL     │ NULL     │ NULL    │ NULL    │ NULL       │ NULL    │ NULL      │ False    │\n",
       "│ 6f0a9655-063f-41f3-a1c1-e00f605f2e35 │ KartaView │       1180917733 │ false   │ day                │ false       │ driving surface │ good          │ false      │ front/back     │ cloudy  │          47.010737 │           28.838333 │ 2020-03-11 13:38:40     │  2020 │     3 │    11 │    15 │ 2592.0 │ 1512.0 │              41.72 │ perspective     │               NULL │               NULL │             10 │ 3261385                │                 62 │    0.0 │           0.0 │ 27659.0 │      0.0 │        0.0 │      0.0 │   8109.0 │       0.0 │               0.0 │      0.0 │     0.0 │             0.0 │        0.0 │ 729846.0 │          0.0 │  42868.0 │     0.0 │  314057.0 │    0.0 │  4006.0 │       0.0 │          0.0 │         0.0 │                   2404.0 │                91293.0 │      0.0 │    0.0 │ 1425892.0 │    0.0 │ 20682.0 │   926558.0 │    0.0 │    0.0 │    0.0 │       0.0 │    1845.0 │         0.0 │         0.0 │          0.0 │          0.0 │     0.0 │     0.0 │         0.0 │     0.0 │          0.0 │ 12241.0 │                0.0 │      21544.0 │          77.0 │                 0.0 │                  0.0 │       0.0 │     0.0 │    0.0 │    0.0 │ 117439.0 │     0.0 │        0.0 │      0.0 │           0.0 │     0.0 │     0.0 │          0.0 │       0.0 │         0.0 │ 3746520.0 │   0.2473116385338928 │  0.38059105516586056 │ Chisinau     │ Chisinau     │ 1498011437 │  47.0228 │   28.8353 │ Moldova       │ MD      │ MDA     │ Chişinău      │ primary │   639000.0 │ Europe        │         30 │ urban centre           │      3.87 │   4.28 │       1.17 │    8.0 │   5.71 │    1.52 │ street                   │ 0.5759039203133263 │  270272744.0 │ 10665108244.0 │    0.0 │ 161807634                         │ false   │ 2          │ Strada Ismail         │ primary       │ drive        │ 50.0     │ NULL     │  127.781 │ 10665108244.0 │  270272744.0 │ R3        │ NULL     │ NULL     │ NULL    │ NULL    │ NULL       │ NULL    │ NULL      │ True     │\n",
       "│ 8fbcf1ef-8826-413f-ba4f-fef976f3ddef │ KartaView │       1180998525 │ false   │ day                │ false       │ driving surface │ good          │ false      │ front/back     │ cloudy  │          47.010258 │           28.837713 │ 2020-03-11 13:38:37     │  2020 │     3 │    11 │    15 │ 2592.0 │ 1512.0 │              42.92 │ perspective     │               NULL │               NULL │            473 │ 3261369                │                 29 │    0.0 │           0.0 │ 12964.0 │      0.0 │        0.0 │      0.0 │      0.0 │       0.0 │               0.0 │      0.0 │     0.0 │             0.0 │        0.0 │ 680219.0 │          0.0 │  22139.0 │     0.0 │  178654.0 │    0.0 │     0.0 │       0.0 │          0.0 │         0.0 │                   1776.0 │                61923.0 │      0.0 │    0.0 │ 1859851.0 │    0.0 │ 10384.0 │   584543.0 │    0.0 │    0.0 │    0.0 │       0.0 │   24477.0 │         0.0 │         0.0 │          0.0 │          0.0 │     0.0 │     0.0 │         0.0 │     0.0 │          0.0 │ 18650.0 │                0.0 │      33523.0 │           0.0 │                 0.0 │               5893.0 │       0.0 │     0.0 │    0.0 │    0.0 │ 263658.0 │     0.0 │        0.0 │      0.0 │           0.0 │     0.0 │     0.0 │          0.0 │       0.0 │         0.0 │ 3758654.0 │   0.1555192364075012 │  0.49481835784831485 │ Chisinau     │ Chisinau     │ 1498011437 │  47.0228 │   28.8353 │ Moldova       │ MD      │ MDA     │ Chişinău      │ primary │   639000.0 │ Europe        │         30 │ urban centre           │      4.57 │   4.91 │       0.79 │   5.65 │   2.31 │    2.25 │ street                   │ 0.0617213550352655 │  270272744.0 │ 10665108244.0 │    0.0 │ 161807634                         │ false   │ 2          │ Strada Ismail         │ primary       │ drive        │ 50.0     │ NULL     │  127.781 │ 10665108244.0 │  270272744.0 │ R3        │ NULL     │ NULL     │ NULL    │ NULL    │ NULL       │ NULL    │ NULL      │ True     │\n",
       "│ 6002b539-eb85-4d68-b5dd-68529f57e057 │ KartaView │       1180970641 │ false   │ day                │ false       │ driving surface │ good          │ false      │ front/back     │ snowy   │          47.011826 │           28.839842 │ 2020-03-11 13:39:06     │  2020 │     3 │    11 │    15 │ 2592.0 │ 1512.0 │              34.29 │ perspective     │               NULL │               NULL │            186 │ 3261437                │                500 │    0.0 │           0.0 │ 14625.0 │  38864.0 │        0.0 │      0.0 │ 117016.0 │       0.0 │               0.0 │      0.0 │     0.0 │             0.0 │        0.0 │ 528304.0 │          0.0 │  44553.0 │     0.0 │  205794.0 │    0.0 │  2242.0 │       0.0 │          0.0 │         0.0 │                      0.0 │                29404.0 │      0.0 │    0.0 │ 1077436.0 │    0.0 │     0.0 │  1177086.0 │    0.0 │  396.0 │    0.0 │       0.0 │   10691.0 │         0.0 │         0.0 │          0.0 │          0.0 │     0.0 │     0.0 │         0.0 │     0.0 │        680.0 │ 18081.0 │                0.0 │       4061.0 │           0.0 │                 0.0 │               3510.0 │       0.0 │     0.0 │    0.0 │    0.0 │ 590328.0 │     0.0 │        0.0 │      0.0 │           0.0 │     0.0 │     0.0 │          0.0 │       0.0 │         0.0 │ 3863071.0 │  0.30470213982606065 │   0.2789066004740788 │ Chisinau     │ Chisinau     │ 1498011437 │  47.0228 │   28.8353 │ Moldova       │ MD      │ MDA     │ Chişinău      │ primary │   639000.0 │ Europe        │         30 │ urban centre           │      3.13 │   3.05 │       0.78 │   8.77 │   3.68 │    1.19 │ street                   │ 1.3456510309440315 │  662932274.0 │ 10665108242.0 │    0.0 │ 49868159                          │ false   │ 2          │ Strada Ismail         │ primary       │ drive        │ 50.0     │ NULL     │  128.891 │ 10665108242.0 │  662932274.0 │ R3        │ NULL     │ NULL     │ NULL    │ NULL    │ NULL       │ NULL    │ NULL      │ False    │\n",
       "│ fb735de0-078c-440f-bfd4-dcbc4bb139ba │ KartaView │       1181013005 │ false   │ day                │ false       │ driving surface │ good          │ false      │ side           │ cloudy  │          47.012713 │            28.84112 │ 2020-03-11 13:39:45     │  2020 │     3 │    11 │    15 │ 2592.0 │ 1512.0 │              48.65 │ perspective     │               NULL │               NULL │            410 │ 3261437                │                500 │    0.0 │           0.0 │ 25058.0 │  11523.0 │        0.0 │      0.0 │      0.0 │       0.0 │               0.0 │      0.0 │     0.0 │             0.0 │        0.0 │ 887140.0 │          0.0 │  37800.0 │     0.0 │  501739.0 │    0.0 │     0.0 │       0.0 │          0.0 │         0.0 │                  15591.0 │                10499.0 │      0.0 │    0.0 │ 1986628.0 │    0.0 │ 19900.0 │   125662.0 │    0.0 │ 6097.0 │    0.0 │       0.0 │   32676.0 │         0.0 │         0.0 │          0.0 │       2757.0 │     0.0 │     0.0 │         0.0 │     0.0 │          0.0 │ 10347.0 │                0.0 │      59730.0 │        9413.0 │                 0.0 │               4805.0 │       0.0 │     0.0 │    0.0 │    0.0 │  64230.0 │     0.0 │        0.0 │      0.0 │           0.0 │     0.0 │     0.0 │          0.0 │       0.0 │         0.0 │ 3811595.0 │   0.0329683505199267 │   0.5212064765537787 │ Chisinau     │ Chisinau     │ 1498011437 │  47.0228 │   28.8353 │ Moldova       │ MD      │ MDA     │ Chişinău      │ primary │   639000.0 │ Europe        │         30 │ urban centre           │      3.41 │   5.04 │        3.3 │   3.94 │   2.97 │    0.81 │ street                   │ 1.3590434162033056 │ 1415375438.0 │  1415375441.0 │    0.0 │ 127993495                         │ false   │ 2          │ Strada Ismail         │ footway       │ walk         │ 50.0     │ NULL     │     7.54 │  1415375441.0 │ 1415375438.0 │ R3        │ NULL     │ NULL     │ NULL    │ NULL    │ NULL       │ NULL    │ NULL      │ False    │\n",
       "│ a5c6e5be-7ea8-4f62-938c-581054fba9cd │ KartaView │       1180947373 │ false   │ day                │ false       │ driving surface │ good          │ false      │ front/back     │ cloudy  │          47.011662 │           28.839614 │ 2020-03-11 13:38:53     │  2020 │     3 │    11 │    15 │ 2592.0 │ 1512.0 │              18.83 │ perspective     │               NULL │               NULL │             68 │ 3261437                │                500 │    0.0 │           0.0 │ 57373.0 │  34155.0 │        0.0 │      0.0 │  94456.0 │       0.0 │               0.0 │      0.0 │     0.0 │             0.0 │     9245.0 │ 615068.0 │          0.0 │  98121.0 │     0.0 │  417174.0 │    0.0 │  3593.0 │       0.0 │          0.0 │         0.0 │                      0.0 │                41621.0 │      0.0 │    0.0 │ 1095307.0 │    0.0 │     0.0 │  1122394.0 │    0.0 │    0.0 │    0.0 │       0.0 │       0.0 │      8836.0 │         0.0 │          0.0 │          0.0 │     0.0 │  9052.0 │         0.0 │     0.0 │       3110.0 │ 17640.0 │                0.0 │      14703.0 │           0.0 │             24066.0 │               3871.0 │       0.0 │     0.0 │    0.0 │   76.0 │ 156973.0 │     0.0 │        0.0 │      0.0 │           0.0 │     0.0 │     0.0 │          0.0 │       0.0 │         0.0 │ 3826834.0 │  0.29329571128509885 │  0.28621753648054765 │ Chisinau     │ Chisinau     │ 1498011437 │  47.0228 │   28.8353 │ Moldova       │ MD      │ MDA     │ Chişinău      │ primary │   639000.0 │ Europe        │         30 │ urban centre           │      1.54 │   4.78 │       1.53 │   6.43 │   4.82 │    2.11 │ residential_neighborhood │ 1.4730729836876826 │  662932274.0 │ 10665108242.0 │    0.0 │ 49868159                          │ false   │ 2          │ Strada Ismail         │ primary       │ drive        │ 50.0     │ NULL     │  128.891 │ 10665108242.0 │  662932274.0 │ R3        │ NULL     │ NULL     │ NULL    │ NULL    │ NULL       │ NULL    │ NULL      │ False    │\n",
       "│ 070774bc-96ce-459a-aaa2-f439c33230e5 │ KartaView │       1180963029 │ false   │ day                │ false       │ driving surface │ good          │ false      │ front/back     │ cloudy  │          47.016315 │           28.846433 │ 2020-03-11 13:41:54     │  2020 │     3 │    11 │    15 │ 2592.0 │ 1512.0 │              47.49 │ perspective     │               NULL │               NULL │             76 │ 3261485                │                500 │    0.0 │           0.0 │     0.0 │      0.0 │        0.0 │      0.0 │      0.0 │       0.0 │               0.0 │      0.0 │     0.0 │             0.0 │        0.0 │ 777572.0 │          0.0 │      0.0 │     0.0 │  685726.0 │    0.0 │     0.0 │       0.0 │          0.0 │         0.0 │                      0.0 │                32884.0 │      0.0 │    0.0 │ 1753237.0 │    0.0 │     0.0 │    28367.0 │    0.0 │    0.0 │    0.0 │       0.0 │   37326.0 │         0.0 │         0.0 │          0.0 │          0.0 │     0.0 │     0.0 │         0.0 │     0.0 │          0.0 │ 28651.0 │                0.0 │      39543.0 │           0.0 │                 0.0 │               3504.0 │       0.0 │     0.0 │    0.0 │    0.0 │ 381101.0 │     0.0 │        0.0 │      0.0 │           0.0 │     0.0 │     0.0 │          0.0 │       0.0 │         0.0 │ 3767911.0 │ 0.007528574852219174 │  0.46530743427856974 │ Chisinau     │ Chisinau     │ 1498011437 │  47.0228 │   28.8353 │ Moldova       │ MD      │ MDA     │ Chişinău      │ primary │   639000.0 │ Europe        │         30 │ urban centre           │      1.17 │   4.03 │       1.45 │   8.63 │   4.53 │     1.2 │ street                   │  3.681312847701492 │  875666797.0 │  7987563613.0 │    0.0 │ 647057521                         │ true    │ 1          │ Strada Ismail         │ unclassified  │ drive        │ 50.0     │ NULL     │   42.124 │  7987563613.0 │  875666797.0 │ NULL      │ NULL     │ NULL     │ NULL    │ NULL    │ NULL       │ NULL    │ NULL      │ False    │\n",
       "├──────────────────────────────────────┴───────────┴──────────────────┴─────────┴────────────────────┴─────────────┴─────────────────┴───────────────┴────────────┴────────────────┴─────────┴────────────────────┴─────────────────────┴─────────────────────────┴───────┴───────┴───────┴───────┴────────┴────────┴────────────────────┴─────────────────┴────────────────────┴────────────────────┴────────────────┴────────────────────────┴────────────────────┴────────┴───────────────┴─────────┴──────────┴────────────┴──────────┴──────────┴───────────┴───────────────────┴──────────┴─────────┴─────────────────┴────────────┴──────────┴──────────────┴──────────┴─────────┴───────────┴────────┴─────────┴───────────┴──────────────┴─────────────┴──────────────────────────┴────────────────────────┴──────────┴────────┴───────────┴────────┴─────────┴────────────┴────────┴────────┴────────┴───────────┴───────────┴─────────────┴─────────────┴──────────────┴──────────────┴─────────┴─────────┴─────────────┴─────────┴──────────────┴─────────┴────────────────────┴──────────────┴───────────────┴─────────────────────┴──────────────────────┴───────────┴─────────┴────────┴────────┴──────────┴─────────┴────────────┴──────────┴───────────────┴─────────┴─────────┴──────────────┴───────────┴─────────────┴───────────┴──────────────────────┴──────────────────────┴──────────────┴──────────────┴────────────┴──────────┴───────────┴───────────────┴─────────┴─────────┴───────────────┴─────────┴────────────┴───────────────┴────────────┴────────────────────────┴───────────┴────────┴────────────┴────────┴────────┴─────────┴──────────────────────────┴────────────────────┴──────────────┴───────────────┴────────┴───────────────────────────────────┴─────────┴────────────┴───────────────────────┴───────────────┴──────────────┴──────────┴──────────┴──────────┴───────────────┴──────────────┴───────────┴──────────┴──────────┴─────────┴─────────┴────────────┴─────────┴───────────┴──────────┤\n",
       "│ ? rows (>9999 rows, 20 shown)                                                                                                                                                                                                                                                                                                                                                                                                                                                                                                                                                                                                                                                                                                                                                                                                                                                                                                                                                                                                                                                                                                                                                                                                                                                                                                                                                                                                                                                                                                                                                                                                                                                                                                                                                                                                                                                                                                                                                                                                       140 columns │\n",
       "└─────────────────────────────────────────────────────────────────────────────────────────────────────────────────────────────────────────────────────────────────────────────────────────────────────────────────────────────────────────────────────────────────────────────────────────────────────────────────────────────────────────────────────────────────────────────────────────────────────────────────────────────────────────────────────────────────────────────────────────────────────────────────────────────────────────────────────────────────────────────────────────────────────────────────────────────────────────────────────────────────────────────────────────────────────────────────────────────────────────────────────────────────────────────────────────────────────────────────────────────────────────────────────────────────────────────────────────────────────────────────────────────────────────────────────────────────────────────────────────────────────────────────────────────────────────────────────────────────────────────────────────────────────────────────────────────────────────────────────────────────────────────────────────────────────────────────────────────────────────────────────────────────────────────────────────────────────────────────────────────────────────────────────────────────────────────────────────────────────────────────────────────────────────────────────────────────────────────────────────────────────────────────────────────────────────────────────────────────────────────────────────────────────────────────────────────────────────────────────────────────────────────────────────────────────────────────────────────────────────────────────────────────────────────────────────────────────────────────────────────────────────────────────────────────────────────────────────────────────────────────────────────────────────────────────────────────────────────────────────────────────────────────────────────────────────────────┘"
      ]
     },
     "execution_count": 5,
     "metadata": {},
     "output_type": "execute_result"
    }
   ],
   "source": [
    "# Let's inspect the new file to see if the join has worked\n",
    "duckdb.sql(f\"SELECT * FROM '{conf.DATA_DIR}/data/streetscapes.parquet'\")"
   ]
  },
  {
   "cell_type": "markdown",
   "metadata": {},
   "source": [
    "For some usecases it might be more convenient to select certain columns from different files into a single table. This can be achieved in a similar manner to the previous example. Here, we create a dictionary with the file names and columns we want to select. We also need to specify a column that is common to all files to join on. "
   ]
  },
  {
   "cell_type": "code",
   "execution_count": 6,
   "metadata": {},
   "outputs": [
    {
     "data": {
      "application/vnd.jupyter.widget-view+json": {
       "model_id": "f04e3725a74349ad9f7bdedefa7e841e",
       "version_major": 2,
       "version_minor": 0
      },
      "text/plain": [
       "FloatProgress(value=0.0, layout=Layout(width='auto'), style=ProgressStyle(bar_color='black'))"
      ]
     },
     "metadata": {},
     "output_type": "display_data"
    },
    {
     "data": {
      "application/vnd.jupyter.widget-view+json": {
       "model_id": "18d7ff4edff74c4ba45a203304972612",
       "version_major": 2,
       "version_minor": 0
      },
      "text/plain": [
       "FloatProgress(value=0.0, layout=Layout(width='auto'), style=ProgressStyle(bar_color='black'))"
      ]
     },
     "metadata": {},
     "output_type": "display_data"
    },
    {
     "data": {
      "application/vnd.jupyter.widget-view+json": {
       "model_id": "c6da23a792d041f7a112195d4a21d0af",
       "version_major": 2,
       "version_minor": 0
      },
      "text/plain": [
       "FloatProgress(value=0.0, layout=Layout(width='auto'), style=ProgressStyle(bar_color='black'))"
      ]
     },
     "metadata": {},
     "output_type": "display_data"
    },
    {
     "data": {
      "application/vnd.jupyter.widget-view+json": {
       "model_id": "222380c7139148fb834135ef5909c016",
       "version_major": 2,
       "version_minor": 0
      },
      "text/plain": [
       "FloatProgress(value=0.0, layout=Layout(width='auto'), style=ProgressStyle(bar_color='black'))"
      ]
     },
     "metadata": {},
     "output_type": "display_data"
    }
   ],
   "source": [
    "# Create dictionary choosing files and columns\n",
    "selection = {\n",
    "    \"contextual\": ['UUID', 'source', 'orig_id'],\n",
    "    \"osm\": ['UUID', 'road_width', 'type_highway'],\n",
    "    \"simplemaps\": ['UUID', 'city'],\n",
    "    \"metadata_common_attributes\": ['UUID', 'lat', 'lon']\n",
    "}\n",
    "\n",
    "with duckdb.connect(\"duck.db\") as con:\n",
    "    # Load each dataset onto disk from the each file\n",
    "    for file, columns in selection.items():\n",
    "        col_str = ', '.join(columns)\n",
    "        con.sql(f\"CREATE TABLE {file} AS SELECT {col_str} FROM '{conf.DATA_DIR}/data/{file}.parquet'\")\n",
    "\n",
    "    # Perform the joins.\n",
    "    items = list(selection.items())\n",
    "    for i, (file, columns) in enumerate(items[:-1]):\n",
    "        # Join the tables one by one and store intermediate results in separate tables\n",
    "        j = i + 1\n",
    "        target = file if i==0 else f\"step{i}\"\n",
    "        next_file = items[j][0]\n",
    "        con.sql(f\"CREATE TABLE step{j} AS SELECT * FROM {target} JOIN {next_file} USING (UUID)\")\n",
    "\n",
    "    # Finally, we can export the joined table to a new parquet file\n",
    "    con.sql(f\"COPY step{i} TO '{conf.DATA_DIR}/data/combined.parquet' (FORMAT 'parquet', COMPRESSION 'zstd')\")\n",
    "\n",
    "os.remove(\"duck.db\")"
   ]
  },
  {
   "cell_type": "code",
   "execution_count": 7,
   "metadata": {},
   "outputs": [
    {
     "data": {
      "text/plain": [
       "┌──────────────────────────────────────┬───────────┬──────────────────┬────────────┬──────────────┬───────────────────────┐\n",
       "│                 uuid                 │  source   │     orig_id      │ road_width │ type_highway │         city          │\n",
       "│               varchar                │  varchar  │      int64       │  varchar   │   varchar    │        varchar        │\n",
       "├──────────────────────────────────────┼───────────┼──────────────────┼────────────┼──────────────┼───────────────────────┤\n",
       "│ db2aa7fc-4cd8-4c5a-adfe-9a3094e49b7c │ Mapillary │  690934255468488 │ NULL       │ drive        │ Gravatá               │\n",
       "│ 3d13f77b-b367-4a9b-9bde-376b32ab48f3 │ Mapillary │  874060836814600 │ NULL       │ drive        │ Orléans               │\n",
       "│ de872416-ea19-4011-a654-f668756ded4a │ Mapillary │  826229008273339 │ NULL       │ drive        │ Port Orange           │\n",
       "│ 64cb56f4-7f18-4bff-b481-6f732d26e87e │ Mapillary │  160793732662417 │ NULL       │ walk         │ Melbourne             │\n",
       "│ 9590d23f-e2d5-40ea-acb4-ce11c6bf53d2 │ Mapillary │  804453377104871 │ NULL       │ walk         │ Moscow                │\n",
       "│ 534c4c6f-0f62-4841-994f-67ea8d87b66c │ Mapillary │ 2101328000005413 │ NULL       │ drive        │ Bangkok               │\n",
       "│ 0af05887-6efa-480b-bba4-f588b33f4566 │ Mapillary │  311562530419881 │ NULL       │ drive        │ Southfield            │\n",
       "│ d8f7b278-c17c-4cb5-86fa-ada34a726c1c │ Mapillary │  589674252053526 │ NULL       │ drive        │ Kâğıthane             │\n",
       "│ 0373c49b-afa1-420a-8b48-4802006144b5 │ Mapillary │  462172608195338 │ NULL       │ drive        │ San Miguel            │\n",
       "│ 421e3609-162c-4f17-9199-8841a6cc102a │ Mapillary │  863036721088681 │ NULL       │ drive        │ Drobeta-Turnu Severin │\n",
       "│                  ·                   │     ·     │         ·        │  ·         │   ·          │     ·                 │\n",
       "│                  ·                   │     ·     │         ·        │  ·         │   ·          │     ·                 │\n",
       "│                  ·                   │     ·     │         ·        │  ·         │   ·          │     ·                 │\n",
       "│ e4002ab9-6629-4421-b655-e27df9263c80 │ Mapillary │  521822595653186 │ NULL       │ drive        │ Melbourne             │\n",
       "│ b6509cd2-5bfc-439b-96b8-0e8eeb1b8769 │ Mapillary │  902935453609607 │ NULL       │ drive        │ Airdrie               │\n",
       "│ e727f5ed-9d3a-4754-824f-4d8e466dbdfd │ Mapillary │  974011380074443 │ NULL       │ drive        │ Kansas City           │\n",
       "│ e2abe372-788c-4346-ac52-f2299b291bea │ Mapillary │  934838293961181 │ NULL       │ drive        │ Sasagawa              │\n",
       "│ 1c003153-5ffa-4c19-8c35-80faad9763e3 │ Mapillary │  897818134134924 │ NULL       │ drive        │ Sacramento            │\n",
       "│ a02156f2-31dd-4807-a017-70680804e8a4 │ Mapillary │ 2577057735935900 │ NULL       │ drive        │ Bor                   │\n",
       "│ cc6a4539-bdbe-4771-8704-db612221421f │ Mapillary │  282777506959020 │ NULL       │ drive        │ Sacramento            │\n",
       "│ ad2266aa-c7ca-4a7d-9446-4ceefa201e46 │ Mapillary │  758293231509083 │ NULL       │ drive        │ Sacramento            │\n",
       "│ f3f30ff0-3ef4-4847-8406-7da7cdae54f8 │ Mapillary │  915846865645469 │ NULL       │ drive        │ Chūō-ku               │\n",
       "│ efa92db6-71a9-4385-8a48-f49a59a69166 │ Mapillary │ 1907671552767073 │ NULL       │ drive        │ Baranoa               │\n",
       "├──────────────────────────────────────┴───────────┴──────────────────┴────────────┴──────────────┴───────────────────────┤\n",
       "│ ? rows (>9999 rows, 20 shown)                                                                                 6 columns │\n",
       "└─────────────────────────────────────────────────────────────────────────────────────────────────────────────────────────┘"
      ]
     },
     "execution_count": 7,
     "metadata": {},
     "output_type": "execute_result"
    }
   ],
   "source": [
    "# Let's inspect the new file to see if the join has worked\n",
    "duckdb.sql(f\"SELECT * FROM '{conf.DATA_DIR}/data/combined.parquet'\")"
   ]
  },
  {
   "cell_type": "markdown",
   "metadata": {},
   "source": [
    "We are in touch with the developers of the original Open Streetscapes dataset to add these parquet files to the dataset on huggingface."
   ]
  }
 ],
 "metadata": {
  "kernelspec": {
   "display_name": "streetscapes",
   "language": "python",
   "name": "python3"
  },
  "language_info": {
   "codemirror_mode": {
    "name": "ipython",
    "version": 3
   },
   "file_extension": ".py",
   "mimetype": "text/x-python",
   "name": "python",
   "nbconvert_exporter": "python",
   "pygments_lexer": "ipython3",
   "version": "3.12.8"
  }
 },
 "nbformat": 4,
 "nbformat_minor": 2
}
