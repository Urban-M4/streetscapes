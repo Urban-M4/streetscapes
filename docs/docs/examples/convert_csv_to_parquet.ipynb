{
 "cells": [
  {
   "cell_type": "code",
   "execution_count": 1,
   "metadata": {},
   "outputs": [
    {
     "name": "stderr",
     "output_type": "stream",
     "text": [
      "/Users/clairedonnelly/Documents/Urban-M4/test/streetscapes/.venv/lib/python3.11/site-packages/tqdm/auto.py:21: TqdmWarning: IProgress not found. Please update jupyter and ipywidgets. See https://ipywidgets.readthedocs.io/en/stable/user_install.html\n",
      "  from .autonotebook import tqdm as notebook_tqdm\n"
     ]
    }
   ],
   "source": [
    "import os\n",
    "\n",
    "import duckdb\n",
    "\n",
    "from streetscapes import conf"
   ]
  },
  {
   "cell_type": "markdown",
   "metadata": {},
   "source": [
    "# Convert CSV files to parquet and merging them together\n",
    "\n",
    "The CSV files of the original Global Streetscapes dataset add up to 64GB in total. Moreover, data is split in several files which can make it a bit cumbersome to work with. Here, we convert the data to Parquet, which reduces file size and makes it easier to load and manipulate the data. \n",
    "\n",
    "Additionally, we combine columns from several sources into a single dataset that should serve most usecases."
   ]
  },
  {
   "cell_type": "code",
   "execution_count": 2,
   "metadata": {},
   "outputs": [
    {
     "name": "stdout",
     "output_type": "stream",
     "text": [
      "/Users/clairedonnelly/Documents/Urban-M4/streetscapes-data/data/simplemaps.csv\n",
      "/Users/clairedonnelly/Documents/Urban-M4/streetscapes-data/data/perception.csv\n",
      "/Users/clairedonnelly/Documents/Urban-M4/streetscapes-data/data/osm.csv\n",
      "/Users/clairedonnelly/Documents/Urban-M4/streetscapes-data/data/places365.csv\n",
      "/Users/clairedonnelly/Documents/Urban-M4/streetscapes-data/data/segmentation.csv\n",
      "/Users/clairedonnelly/Documents/Urban-M4/streetscapes-data/data/contextual.csv\n",
      "/Users/clairedonnelly/Documents/Urban-M4/streetscapes-data/data/metadata_common_attributes.csv\n",
      "/Users/clairedonnelly/Documents/Urban-M4/streetscapes-data/data/ghsl.csv\n"
     ]
    }
   ],
   "source": [
    "# Convert all csvs in data dir to parquet \n",
    "for file in (conf.DATA_DIR / \"data\").glob(\"*.csv\"):\n",
    "    print(file)\n",
    "    duckdb.sql(f\"\"\"\n",
    "        COPY '{file}'\n",
    "        TO '{file.with_suffix(\".parquet\")}' \n",
    "        (FORMAT 'parquet', COMPRESSION 'zstd')\n",
    "    \"\"\")"
   ]
  },
  {
   "cell_type": "code",
   "execution_count": 3,
   "metadata": {},
   "outputs": [
    {
     "name": "stdout",
     "output_type": "stream",
     "text": [
      "human_readable(csv_size)='13.09 GB', human_readable(parquet_size)='3.39 GB'\n",
      "reduction_factor=3.8614912417240683\n"
     ]
    }
   ],
   "source": [
    "csv_size = sum(file.stat().st_size for file in (conf.DATA_DIR / \"data\").glob(\"*.csv\") if file.is_file())\n",
    "parquet_size = sum(file.stat().st_size for file in (conf.DATA_DIR / \"data\").glob(\"*.parquet\") if file.is_file() and not file.name==\"combined.parquet\")\n",
    "\n",
    "def human_readable(size):\n",
    "    \"\"\"Format byte size in human readable format\"\"\"\n",
    "    order_of_magnitude = size.bit_length() // 10  # Dividing by 10 for base-1024 magnitude\n",
    "    match order_of_magnitude:\n",
    "        case 3:\n",
    "            return f\"{size / 1024**3:.2f} GB\"\n",
    "        case 2:\n",
    "            return f\"{size / 1024**2:.2f} MB\"\n",
    "        case 1:\n",
    "            return f\"{size / 1024:.2f} KB\"\n",
    "        case _:\n",
    "            return f\"{size} bytes\"\n",
    "\n",
    "print(f\"{human_readable(csv_size)=}, {human_readable(parquet_size)=}\")\n",
    "\n",
    "reduction_factor = csv_size/parquet_size\n",
    "print(f\"{reduction_factor=}\")"
   ]
  },
  {
   "cell_type": "markdown",
   "metadata": {},
   "source": [
    " We may want to combine multiple csv files together into a single parquet file. If we use JOIN like above on the full table, we quickly run into memory issues. This is because `duckdb.sql(...)` creates an in-memory database to load the data and keep track of intermediate results. Alternatively, duckdb can create a persistent database on disk using `duckdb.connect('database_filename')`. "
   ]
  },
  {
   "cell_type": "code",
   "execution_count": null,
   "metadata": {},
   "outputs": [
    {
     "name": "stdout",
     "output_type": "stream",
     "text": [
      "human_readable(combined_size)='0.53 GB'\n"
     ]
    }
   ],
   "source": [
    "files = [\n",
    "        \"contextual\",\n",
    "        \"metadata_common_attributes\",\n",
    "        \"segmentation\",\n",
    "        \"simplemaps\",\n",
    "        \"ghsl\",\n",
    "        \"perception\",\n",
    "        \"places365\",\n",
    "        \"osm\",\n",
    "    ]\n",
    "\n",
    "with duckdb.connect(\"duck.db\", config={'threads': 1}) as con:\n",
    "    # Load each dataset onto disk from the each file\n",
    "    for filename in files:\n",
    "        con.sql(f\"CREATE TABLE {filename} AS SELECT * FROM '{conf.DATA_DIR}/data/{filename}.parquet'\")\n",
    "    \n",
    "    # Perform the joins.\n",
    "    for i, filename in enumerate(files[:-1]):\n",
    "        # First we need to copy the content of each file into the database\n",
    "        j = i + 1  \n",
    "        con.sql(f\"CREATE TABLE step{j} AS SELECT * FROM {filename} JOIN {files[j]} USING (UUID, source, orig_id)\")     \n",
    "    \n",
    "    # Finally, we can export the joined table to a new parquet file\n",
    "    con.sql(f\"COPY step{j} TO '{conf.DATA_DIR}/data/combined.parquet' (FORMAT 'parquet', COMPRESSION 'zstd')\")\n",
    "\n",
    "# Remove the database from our filesystem\n",
    "os.remove(\"duck.db\")\n",
    "\n",
    "# Show the combined file size:\n",
    "combined_size = (conf.DATA_DIR / \"data\" / \"combined.parquet\").stat().st_size\n",
    "print(f\"{human_readable(combined_size)=}\")\n"
   ]
  },
  {
   "cell_type": "code",
   "execution_count": 6,
   "metadata": {},
   "outputs": [
    {
     "data": {
      "text/plain": [
       "┌──────────────────────────────────────┬───────────┬──────────────────┬──────────────────────────┬────────────────────┬──────────────┬──────────────┬────────┬──────────────────────────────────────────────────────┬─────────┬────────────┬───────────────────────────┬───────────────┬──────────────┬──────────┬──────────┬────────────────────┬──────────────┬──────────────┬─────────┬──────────────────┬─────────┬─────────┬────────────┬────────────┬─────────┬───────────┬───────────────┐\n",
       "│                 uuid                 │  source   │     orig_id      │          place           │     snap_dist      │      u       │      v       │  key   │                        osmid                         │ oneway  │   lanes    │           name            │    highway    │ type_highway │ maxspeed │ junction │       length       │     from     │      to      │   ref   │      tunnel      │ bridge  │ service │   access   │ road_width │  area   │ est_width │   reversed    │\n",
       "│               varchar                │  varchar  │      int64       │         varchar          │       double       │    double    │    double    │ double │                       varchar                        │ boolean │  varchar   │          varchar          │    varchar    │   varchar    │ varchar  │ varchar  │       double       │    double    │    double    │ varchar │     varchar      │ varchar │ varchar │  varchar   │  varchar   │ boolean │  varchar  │    varchar    │\n",
       "├──────────────────────────────────────┼───────────┼──────────────────┼──────────────────────────┼────────────────────┼──────────────┼──────────────┼────────┼──────────────────────────────────────────────────────┼─────────┼────────────┼───────────────────────────┼───────────────┼──────────────┼──────────┼──────────┼────────────────────┼──────────────┼──────────────┼─────────┼──────────────────┼─────────┼─────────┼────────────┼────────────┼─────────┼───────────┼───────────────┤\n",
       "│ bc5862a5-5e4c-4f74-bdd5-598e140dbb8f │ Mapillary │  941074783267368 │ residential_neighborhood │   7.61670096881124 │  269425518.0 │  269425521.0 │    0.0 │ 1017964492                                           │ true    │ 2          │ Carrera 33                │ tertiary      │ drive        │ NULL     │ NULL     │             62.864 │  269425521.0 │  269425518.0 │ NULL    │ NULL             │ NULL    │ NULL    │ NULL       │ NULL       │ NULL    │ NULL      │ False         │\n",
       "│ 4d445c9a-03e2-4dda-a494-caf907ad1620 │ Mapillary │ 2822175224761380 │ campus                   │  4.063027924682401 │  160503138.0 │ 9945572231.0 │    0.0 │ 1085398478                                           │ false   │ 1          │ Burgstraße                │ footway       │ walk         │ 30       │ NULL     │            118.549 │ 9945572231.0 │  160503138.0 │ NULL    │ NULL             │ NULL    │ NULL    │ NULL       │ 12.2       │ NULL    │ NULL      │ False         │\n",
       "│ 5ce677fe-1f66-4a6e-a162-88ff5d6cd80a │ Mapillary │ 4331166880261832 │ parking_lot              │  5.224565874661516 │ 2682149890.0 │ 7694046906.0 │    0.0 │ [771744361, 1108989117, 771743389]                   │ true    │ 3          │ Jalan Pudu                │ secondary     │ drive        │ NULL     │ NULL     │            110.317 │ 7694046906.0 │ 2682149890.0 │ NULL    │ NULL             │ NULL    │ NULL    │ NULL       │ NULL       │ NULL    │ NULL      │ False         │\n",
       "│ 54fb768e-2864-4ed0-a658-e72f7a66cbc0 │ Mapillary │  808249360075988 │ diner                    │  5.111907394905338 │  247325075.0 │ 1783876445.0 │    0.0 │ 71197419                                             │ true    │ 1          │ Avenue de la Liberté      │ primary       │ drive        │ 50       │ NULL     │            106.098 │  247325075.0 │ 1783876445.0 │ N 3     │ NULL             │ NULL    │ NULL    │ NULL       │ NULL       │ NULL    │ NULL      │ False         │\n",
       "│ 2eab1b65-fc24-4c04-a1cd-8053488d3363 │ Mapillary │  509451426846513 │ alley                    │ 0.8124674085510993 │ 9697092460.0 │ 9697092465.0 │    0.0 │ [1055319657, 1055319661]                             │ false   │ NULL       │ Flores                    │ footway       │ walk         │ NULL     │ NULL     │              4.365 │ 9697092465.0 │ 9697092460.0 │ NULL    │ NULL             │ NULL    │ NULL    │ NULL       │ 1.5        │ NULL    │ NULL      │ [False, True] │\n",
       "│ 68be1ea7-17dd-43e8-8237-9d21420bf7f9 │ Mapillary │  882089209046201 │ residential_neighborhood │ 2.1509348144608693 │  269474274.0 │ 4560540542.0 │    0.0 │ 24803290                                             │ true    │ 2          │ Strada Mihai Eminescu     │ residential   │ drive        │ 50.0     │ NULL     │              9.522 │ 4560540542.0 │  269474274.0 │ NULL    │ NULL             │ NULL    │ NULL    │ NULL       │ NULL       │ NULL    │ NULL      │ False         │\n",
       "│ 3a999761-c4e5-473e-91b9-8718a0e042ef │ Mapillary │  225155698973449 │ plaza                    │  3.687871535911828 │  250921395.0 │  250921396.0 │    0.0 │ 299500104                                            │ true    │ 2          │ Μεγάλου Αλεξάνδρου        │ residential   │ drive        │ 30.0     │ NULL     │             61.632 │  250921395.0 │  250921396.0 │ NULL    │ NULL             │ NULL    │ NULL    │ NULL       │ NULL       │ NULL    │ NULL      │ False         │\n",
       "│ ee6cffdc-02fe-4f25-96d9-7de6e7efb9f2 │ Mapillary │  853232441931152 │ hospital                 │ 0.2556984802407858 │ 5821302440.0 │ 5821325939.0 │    0.0 │ 615620550                                            │ false   │ 2          │ Paul Kruger Street        │ service       │ drive        │ NULL     │ NULL     │            121.497 │ 5821325939.0 │ 5821302440.0 │ NULL    │ NULL             │ NULL    │ NULL    │ no         │ NULL       │ NULL    │ NULL      │ False         │\n",
       "│ 214343a4-c218-4527-93be-9d13b4ac02a0 │ Mapillary │  511432836704455 │ alley                    │               NULL │         NULL │         NULL │   NULL │ NULL                                                 │ NULL    │ NULL       │ NULL                      │ NULL          │ NULL         │ NULL     │ NULL     │               NULL │         NULL │         NULL │ NULL    │ NULL             │ NULL    │ NULL    │ NULL       │ NULL       │ NULL    │ NULL      │ NULL          │\n",
       "│ b3752ebf-5e2e-4465-a99a-6afddc23fddd │ Mapillary │  521768908841477 │ downtown                 │  4.855669782100855 │  654154735.0 │ 2628346479.0 │    0.0 │ 451928555                                            │ true    │ NULL       │ 敦化北路120巷             │ residential   │ drive        │ NULL     │ NULL     │            125.163 │ 2628346479.0 │  654154735.0 │ NULL    │ NULL             │ NULL    │ NULL    │ NULL       │ NULL       │ NULL    │ NULL      │ False         │\n",
       "│                  ·                   │     ·     │         ·        │    ·                     │          ·         │       ·      │       ·      │     ·  │    ·                                                 │  ·      │  ·         │       ·                   │    ·          │   ·          │  ·       │  ·       │               ·    │       ·      │       ·      │  ·      │  ·               │  ·      │  ·      │  ·         │  ·         │  ·      │  ·        │  ·            │\n",
       "│                  ·                   │     ·     │         ·        │    ·                     │          ·         │       ·      │       ·      │     ·  │    ·                                                 │  ·      │  ·         │       ·                   │    ·          │   ·          │  ·       │  ·       │               ·    │       ·      │       ·      │  ·      │  ·               │  ·      │  ·      │  ·         │  ·         │  ·      │  ·        │  ·            │\n",
       "│                  ·                   │     ·     │         ·        │    ·                     │          ·         │       ·      │       ·      │     ·  │    ·                                                 │  ·      │  ·         │       ·                   │    ·          │   ·          │  ·       │  ·       │               ·    │       ·      │       ·      │  ·      │  ·               │  ·      │  ·      │  ·         │  ·         │  ·      │  ·        │  ·            │\n",
       "│ 0d83e58b-ef2e-493c-a3a4-7d6ab0f71951 │ Mapillary │  525724648458967 │ downtown                 │ 2.4447439547044123 │  291374090.0 │ 2791594613.0 │    0.0 │ 6054255                                              │ false   │ NULL       │ C Street Northwest        │ tertiary      │ drive        │ NULL     │ NULL     │ 177.28300000000002 │ 2791594613.0 │  291374090.0 │ NULL    │ NULL             │ NULL    │ NULL    │ NULL       │ NULL       │ NULL    │ NULL      │ True          │\n",
       "│ dc168729-7faf-4a87-89f6-17c4d2c1107f │ Mapillary │  760766018224138 │ promenade                │ 1.0364504848585083 │  315261895.0 │  315265031.0 │    0.0 │ [28682333, 28682342]                                 │ true    │ 1          │ Madrid Río                │ motorway_link │ drive        │ 30       │ NULL     │            328.174 │  315261895.0 │  315265031.0 │ M-30    │ yes              │ yes     │ NULL    │ NULL       │ NULL       │ NULL    │ NULL      │ False         │\n",
       "│ 60b4e121-8738-4f9f-8142-d1874c44d632 │ Mapillary │  881367879428587 │ alley                    │  4.278195913194744 │   32335532.0 │ 3162440664.0 │    0.0 │ 38045410                                             │ true    │ NULL       │ Šv. Ignoto g.             │ residential   │ drive        │ 40       │ NULL     │            222.417 │ 3162440664.0 │   32335532.0 │ NULL    │ NULL             │ NULL    │ NULL    │ NULL       │ NULL       │ NULL    │ NULL      │ False         │\n",
       "│ 50ee041f-5e65-4a26-9a92-ffa1e3dff130 │ Mapillary │ 2961282314086234 │ highway                  │  9.996871504250374 │  895598334.0 │  895611546.0 │    0.0 │ [4749677, 1070833172, 668470043, 668470045, 5072414] │ true    │ ['4', '3'] │ Parkes Way                │ motorway      │ drive        │ 90       │ NULL     │            663.053 │  895611546.0 │  895598334.0 │ NULL    │ yes              │ NULL    │ NULL    │ NULL       │ NULL       │ NULL    │ NULL      │ False         │\n",
       "│ 2249fd00-27ac-483e-b90a-aa8b2a8ae4a0 │ Mapillary │  189045723057791 │ loading_dock             │               NULL │         NULL │         NULL │   NULL │ NULL                                                 │ NULL    │ NULL       │ NULL                      │ NULL          │ NULL         │ NULL     │ NULL     │               NULL │         NULL │         NULL │ NULL    │ NULL             │ NULL    │ NULL    │ NULL       │ NULL       │ NULL    │ NULL      │ NULL          │\n",
       "│ 89824584-c56b-4f1c-9b70-824caa0a7f57 │ Mapillary │  160784159318797 │ village                  │  2.571298114108581 │  269526337.0 │ 1019718405.0 │    0.0 │ 38959504                                             │ true    │ 2          │ Strada Alexei Mateevici   │ primary       │ drive        │ 50.0     │ NULL     │            129.686 │ 1019718405.0 │  269526337.0 │ NULL    │ NULL             │ NULL    │ NULL    │ NULL       │ NULL       │ NULL    │ NULL      │ False         │\n",
       "│ e30e9982-964f-4146-912c-1607b92d2d06 │ Mapillary │ 1124950178415629 │ residential_neighborhood │  2.937683759965545 │ 1812724875.0 │ 2509616653.0 │    0.0 │ 252121040                                            │ false   │ 2          │ Id. Antall József rakpart │ secondary     │ drive        │ 50       │ NULL     │              21.32 │ 2509616653.0 │ 1812724875.0 │ NULL    │ NULL             │ NULL    │ NULL    │ NULL       │ NULL       │ NULL    │ NULL      │ True          │\n",
       "│ e846f394-ff59-49df-8171-e5530eba083c │ Mapillary │  989546778480666 │ courtyard                │  7.799175062877777 │   29194691.0 │   31156706.0 │    0.0 │ 175192743                                            │ false   │ NULL       │ NULL                      │ footway       │ walk         │ NULL     │ NULL     │            208.852 │   31156706.0 │   29194691.0 │ NULL    │ NULL             │ NULL    │ NULL    │ NULL       │ NULL       │ NULL    │ NULL      │ True          │\n",
       "│ f33cb8ef-5f7b-4a14-80cf-19cc1582b110 │ Mapillary │  525647292185115 │ medina                   │ 1.2440620229377806 │ 1733112119.0 │ 1733112147.0 │    0.0 │ 136978888                                            │ true    │ NULL       │ Nineth Street             │ residential   │ drive        │ NULL     │ NULL     │             89.798 │ 1733112119.0 │ 1733112147.0 │ NULL    │ NULL             │ NULL    │ NULL    │ NULL       │ NULL       │ NULL    │ NULL      │ False         │\n",
       "│ 5f48af15-a349-43cc-8235-c355095a0985 │ Mapillary │  280497293715374 │ palace                   │  3.087859152037693 │  586483723.0 │ 6808473441.0 │    0.0 │ 726532411                                            │ false   │ NULL       │ Mariánské náměstí         │ residential   │ drive        │ NULL     │ NULL     │             20.605 │ 6808473441.0 │  586483723.0 │ NULL    │ building_passage │ NULL    │ NULL    │ permissive │ NULL       │ NULL    │ NULL      │ True          │\n",
       "├──────────────────────────────────────┴───────────┴──────────────────┴──────────────────────────┴────────────────────┴──────────────┴──────────────┴────────┴──────────────────────────────────────────────────────┴─────────┴────────────┴───────────────────────────┴───────────────┴──────────────┴──────────┴──────────┴────────────────────┴──────────────┴──────────────┴─────────┴──────────────────┴─────────┴─────────┴────────────┴────────────┴─────────┴───────────┴───────────────┤\n",
       "│ ? rows (>9999 rows, 20 shown)                                                                                                                                                                                                                                                                                                                                                                                                                                                      28 columns │\n",
       "└───────────────────────────────────────────────────────────────────────────────────────────────────────────────────────────────────────────────────────────────────────────────────────────────────────────────────────────────────────────────────────────────────────────────────────────────────────────────────────────────────────────────────────────────────────────────────────────────────────────────────────────────────────────────────────────────────────────────────────────────┘"
      ]
     },
     "execution_count": 6,
     "metadata": {},
     "output_type": "execute_result"
    }
   ],
   "source": [
    "# Let's inspect the new file to see if the join has worked\n",
    "duckdb.sql(f\"SELECT * FROM '{conf.DATA_DIR}/data/combined.parquet'\")"
   ]
  },
  {
   "cell_type": "markdown",
   "metadata": {},
   "source": [
    "For some usecases it might be more convenient to select certain columns from different files into a single table. This can be achieved in a similar manner to the previous example. Here, we create a dictionary with the file names and columns we want to select. We also need to specify a column that is common to all files to join on. "
   ]
  },
  {
   "cell_type": "code",
   "execution_count": null,
   "metadata": {},
   "outputs": [],
   "source": [
    "# Create dictionary choosing files and columns\n",
    "selection = {\n",
    "    \"contextual\": ['UUID', 'source', 'orig_id'],\n",
    "    \"osm\": ['UUID', 'road_width', 'type_highway'],\n",
    "    \"simplemaps\": ['UUID', 'city'],\n",
    "    \"metadata_common_attributes\": ['UUID', 'lat', 'lon']\n",
    "}\n",
    "\n",
    "with duckdb.connect(\"duck.db\", config={'threads': 1}) as con:\n",
    "    # Load each dataset onto disk from the each file\n",
    "    for file, columns in selection.items():\n",
    "        col_str = ', '.join(columns) \n",
    "        con.sql(f\"CREATE TABLE {file} AS SELECT {col_str} FROM '{conf.DATA_DIR}/data/{file}.parquet'\")\n",
    "\n",
    "    # Perform the joins.\n",
    "    items = list(selection.items())\n",
    "    for i, (file, columns) in enumerate(items[:-1]):\n",
    "        # First we need to copy the content of each csv file into the database\n",
    "        j = i + 1\n",
    "        next_file = items[j][0]\n",
    "        con.sql(f\"CREATE TABLE step{j} AS SELECT * FROM {file} JOIN {next_file} USING (UUID)\")     \n",
    "\n",
    "    # Finally, we can export the joined table to a new parquet file\n",
    "    con.sql(f\"COPY step{i} TO '{conf.DATA_DIR}/data/combined.parquet' (FORMAT 'parquet', COMPRESSION 'zstd')\")\n",
    "\n",
    "os.remove(\"duck.db\")"
   ]
  },
  {
   "cell_type": "code",
   "execution_count": null,
   "metadata": {},
   "outputs": [
    {
     "data": {
      "text/plain": [
       "┌──────────────────────────────────────┬────────────┬──────────────┬──────────────┐\n",
       "│                 uuid                 │ road_width │ type_highway │     city     │\n",
       "│               varchar                │  varchar   │   varchar    │   varchar    │\n",
       "├──────────────────────────────────────┼────────────┼──────────────┼──────────────┤\n",
       "│ bc5862a5-5e4c-4f74-bdd5-598e140dbb8f │ NULL       │ drive        │ Bogotá       │\n",
       "│ 4d445c9a-03e2-4dda-a494-caf907ad1620 │ 12.2       │ walk         │ Berlin       │\n",
       "│ 57713c58-62b2-465b-9df3-087b6d970603 │ NULL       │ walk         │ Washington   │\n",
       "│ 5ce677fe-1f66-4a6e-a162-88ff5d6cd80a │ NULL       │ drive        │ Kuala Lumpur │\n",
       "│ 54fb768e-2864-4ed0-a658-e72f7a66cbc0 │ NULL       │ drive        │ Luxembourg   │\n",
       "│ 2eab1b65-fc24-4c04-a1cd-8053488d3363 │ 1.5        │ walk         │ Quito        │\n",
       "│ f6e0af2e-9fd5-48cc-ae0c-4b7f93c2e59c │ NULL       │ walk         │ San José     │\n",
       "│ 68be1ea7-17dd-43e8-8237-9d21420bf7f9 │ NULL       │ drive        │ Chisinau     │\n",
       "│ 3a999761-c4e5-473e-91b9-8718a0e042ef │ NULL       │ drive        │ Athens       │\n",
       "│ ee6cffdc-02fe-4f25-96d9-7de6e7efb9f2 │ NULL       │ drive        │ Pretoria     │\n",
       "│                  ·                   │  ·         │   ·          │  ·           │\n",
       "│                  ·                   │  ·         │   ·          │  ·           │\n",
       "│                  ·                   │  ·         │   ·          │  ·           │\n",
       "│ ccbf8735-9390-485c-80ab-5738ad536af4 │ NULL       │ drive        │ Lima         │\n",
       "│ 1628ad57-618f-459c-b8be-3c5c985d117c │ NULL       │ walk         │ Stockholm    │\n",
       "│ ec4885da-9479-48a9-b535-209466639ab1 │ NULL       │ drive        │ Rabat        │\n",
       "│ 6c323249-12f0-4f22-9cba-7255f6447bd0 │ NULL       │ drive        │ Doha         │\n",
       "│ 3a143bf9-d699-4888-a514-4e6f986e9922 │ NULL       │ drive        │ Dushanbe     │\n",
       "│ 623b8dea-0a22-4c2a-9e83-8e64b1b726f9 │ NULL       │ drive        │ Berlin       │\n",
       "│ d358eee9-8029-4270-a4fb-00a30dd5618a │ NULL       │ drive        │ Taipei       │\n",
       "│ 3b58b6cb-8df0-409b-87e4-ae7a6b3283fa │ 1.5        │ walk         │ Riga         │\n",
       "│ 5b0fac8d-ff82-4bd3-a145-3d64c86ef1e4 │ NULL       │ NULL         │ Kuala Lumpur │\n",
       "│ 412405a7-d286-4448-9274-471c6d691c30 │ NULL       │ drive        │ Chisinau     │\n",
       "├──────────────────────────────────────┴────────────┴──────────────┴──────────────┤\n",
       "│ ? rows (>9999 rows, 20 shown)                                         4 columns │\n",
       "└─────────────────────────────────────────────────────────────────────────────────┘"
      ]
     },
     "execution_count": 8,
     "metadata": {},
     "output_type": "execute_result"
    }
   ],
   "source": [
    "# Let's inspect the new file to see if the join has worked\n",
    "duckdb.sql(f\"SELECT * FROM '{conf.DATA_DIR}/data/combined.parquet'\")"
   ]
  },
  {
   "cell_type": "markdown",
   "metadata": {},
   "source": [
    "We are in touch with the developers of the original Open Streetscapes dataset to add these parquet files to the dataset on huggingface."
   ]
  }
 ],
 "metadata": {
  "kernelspec": {
   "display_name": "venv",
   "language": "python",
   "name": "python3"
  },
  "language_info": {
   "codemirror_mode": {
    "name": "ipython",
    "version": 3
   },
   "file_extension": ".py",
   "mimetype": "text/x-python",
   "name": "python",
   "nbconvert_exporter": "python",
   "pygments_lexer": "ipython3",
   "version": "3.12.3"
  }
 },
 "nbformat": 4,
 "nbformat_minor": 2
}
