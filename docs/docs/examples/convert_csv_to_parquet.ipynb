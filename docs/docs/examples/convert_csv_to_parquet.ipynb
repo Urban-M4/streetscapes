{
 "cells": [
  {
   "cell_type": "code",
   "execution_count": 3,
   "metadata": {},
   "outputs": [],
   "source": [
    "import os\n",
    "\n",
    "import duckdb\n",
    "\n",
    "from streetscapes import conf"
   ]
  },
  {
   "cell_type": "markdown",
   "metadata": {},
   "source": [
    "# Convert CSV files to parquet and merging them together\n",
    "\n",
    "The CSV files of the original Global Streetscapes dataset add up to 64GB in total. Moreover, data is split in several files which can make it a bit cumbersome to work with. Here, we convert the data to Parquet, which reduces file size and makes it easier to load and manipulate the data. \n",
    "\n",
    "Additionally, we combine columns from several sources into a single dataset that should serve most usecases."
   ]
  },
  {
   "cell_type": "code",
   "execution_count": 4,
   "metadata": {},
   "outputs": [
    {
     "name": "stdout",
     "output_type": "stream",
     "text": [
      "simplemaps\n",
      "perception\n",
      "osm\n"
     ]
    },
    {
     "data": {
      "application/vnd.jupyter.widget-view+json": {
       "model_id": "ee0963271d684fa7bdf57bc809d5956a",
       "version_major": 2,
       "version_minor": 0
      },
      "text/plain": [
       "FloatProgress(value=0.0, layout=Layout(width='auto'), style=ProgressStyle(bar_color='black'))"
      ]
     },
     "metadata": {},
     "output_type": "display_data"
    },
    {
     "name": "stdout",
     "output_type": "stream",
     "text": [
      "places365\n",
      "segmentation\n"
     ]
    },
    {
     "data": {
      "application/vnd.jupyter.widget-view+json": {
       "model_id": "a83dd7537fc84eb08d50f03152f008ac",
       "version_major": 2,
       "version_minor": 0
      },
      "text/plain": [
       "FloatProgress(value=0.0, layout=Layout(width='auto'), style=ProgressStyle(bar_color='black'))"
      ]
     },
     "metadata": {},
     "output_type": "display_data"
    },
    {
     "name": "stdout",
     "output_type": "stream",
     "text": [
      "contextual\n",
      "metadata_common_attributes\n"
     ]
    },
    {
     "data": {
      "application/vnd.jupyter.widget-view+json": {
       "model_id": "91504808a2e242ba95886008418680e1",
       "version_major": 2,
       "version_minor": 0
      },
      "text/plain": [
       "FloatProgress(value=0.0, layout=Layout(width='auto'), style=ProgressStyle(bar_color='black'))"
      ]
     },
     "metadata": {},
     "output_type": "display_data"
    },
    {
     "name": "stdout",
     "output_type": "stream",
     "text": [
      "ghsl\n"
     ]
    }
   ],
   "source": [
    "# Convert all csvs in data dir to parquet \n",
    "for file in (conf.DATA_DIR / \"data\").glob(\"*.csv\"):\n",
    "    print(file.stem)\n",
    "    duckdb.sql(f\"\"\"\n",
    "        COPY (SELECT * FROM read_csv_auto('{file}', sample_size=-1))\n",
    "        TO '{file.with_suffix(\".parquet\")}' \n",
    "        (FORMAT 'parquet', COMPRESSION 'zstd')\n",
    "    \"\"\")"
   ]
  },
  {
   "cell_type": "code",
   "execution_count": 5,
   "metadata": {},
   "outputs": [
    {
     "name": "stdout",
     "output_type": "stream",
     "text": [
      "human_readable(csv_size)='13.09 GB', human_readable(parquet_size)='3.39 GB'\n",
      "reduction_factor=3.864586042498455\n"
     ]
    }
   ],
   "source": [
    "csv_size = sum(file.stat().st_size for file in (conf.DATA_DIR / \"data\").glob(\"*.csv\") if file.is_file())\n",
    "parquet_size = sum(file.stat().st_size for file in (conf.DATA_DIR / \"data\").glob(\"*.parquet\") if file.is_file() and file.name not in [\"combined.parquet\", \"streetscapes.parquet\"])\n",
    "\n",
    "def human_readable(size):\n",
    "    \"\"\"Format byte size in human readable format\"\"\"\n",
    "    order_of_magnitude = size.bit_length() // 10  # Dividing by 10 for base-1024 magnitude\n",
    "    match order_of_magnitude:\n",
    "        case 3:\n",
    "            return f\"{size / 1024**3:.2f} GB\"\n",
    "        case 2:\n",
    "            return f\"{size / 1024**2:.2f} MB\"\n",
    "        case 1:\n",
    "            return f\"{size / 1024:.2f} KB\"\n",
    "        case _:\n",
    "            return f\"{size} bytes\"\n",
    "\n",
    "print(f\"{human_readable(csv_size)=}, {human_readable(parquet_size)=}\")\n",
    "\n",
    "reduction_factor = csv_size/parquet_size\n",
    "print(f\"{reduction_factor=}\")"
   ]
  },
  {
   "cell_type": "markdown",
   "metadata": {},
   "source": [
    " We may want to combine multiple csv files together into a single parquet file. If we use JOIN like above on the full table, we quickly run into memory issues. This is because `duckdb.sql(...)` creates an in-memory database to load the data and keep track of intermediate results. Alternatively, duckdb can create a persistent database on disk using `duckdb.connect('database_filename')`. "
   ]
  },
  {
   "cell_type": "code",
   "execution_count": 6,
   "metadata": {},
   "outputs": [
    {
     "data": {
      "application/vnd.jupyter.widget-view+json": {
       "model_id": "ddacc35fd6da412b93d47fa79882f046",
       "version_major": 2,
       "version_minor": 0
      },
      "text/plain": [
       "FloatProgress(value=0.0, layout=Layout(width='auto'), style=ProgressStyle(bar_color='black'))"
      ]
     },
     "metadata": {},
     "output_type": "display_data"
    },
    {
     "data": {
      "application/vnd.jupyter.widget-view+json": {
       "model_id": "463c5609423f4fcea05e58c2b2a821fa",
       "version_major": 2,
       "version_minor": 0
      },
      "text/plain": [
       "FloatProgress(value=0.0, layout=Layout(width='auto'), style=ProgressStyle(bar_color='black'))"
      ]
     },
     "metadata": {},
     "output_type": "display_data"
    },
    {
     "data": {
      "application/vnd.jupyter.widget-view+json": {
       "model_id": "b5d60721e29742f4bf765b3af2d9e12c",
       "version_major": 2,
       "version_minor": 0
      },
      "text/plain": [
       "FloatProgress(value=0.0, layout=Layout(width='auto'), style=ProgressStyle(bar_color='black'))"
      ]
     },
     "metadata": {},
     "output_type": "display_data"
    },
    {
     "data": {
      "application/vnd.jupyter.widget-view+json": {
       "model_id": "91a20c9002ef4c6e9765c110b47e9389",
       "version_major": 2,
       "version_minor": 0
      },
      "text/plain": [
       "FloatProgress(value=0.0, layout=Layout(width='auto'), style=ProgressStyle(bar_color='black'))"
      ]
     },
     "metadata": {},
     "output_type": "display_data"
    },
    {
     "data": {
      "application/vnd.jupyter.widget-view+json": {
       "model_id": "55938ae43bb04cf897f779114a058fb3",
       "version_major": 2,
       "version_minor": 0
      },
      "text/plain": [
       "FloatProgress(value=0.0, layout=Layout(width='auto'), style=ProgressStyle(bar_color='black'))"
      ]
     },
     "metadata": {},
     "output_type": "display_data"
    },
    {
     "data": {
      "application/vnd.jupyter.widget-view+json": {
       "model_id": "6ce3de9e1f974161a4ffaa917e0f474f",
       "version_major": 2,
       "version_minor": 0
      },
      "text/plain": [
       "FloatProgress(value=0.0, layout=Layout(width='auto'), style=ProgressStyle(bar_color='black'))"
      ]
     },
     "metadata": {},
     "output_type": "display_data"
    },
    {
     "data": {
      "application/vnd.jupyter.widget-view+json": {
       "model_id": "4425eb1a93cd4249a2837fedd889b061",
       "version_major": 2,
       "version_minor": 0
      },
      "text/plain": [
       "FloatProgress(value=0.0, layout=Layout(width='auto'), style=ProgressStyle(bar_color='black'))"
      ]
     },
     "metadata": {},
     "output_type": "display_data"
    },
    {
     "data": {
      "application/vnd.jupyter.widget-view+json": {
       "model_id": "4989e6a1b50442b7b302ec3343ab9b95",
       "version_major": 2,
       "version_minor": 0
      },
      "text/plain": [
       "FloatProgress(value=0.0, layout=Layout(width='auto'), style=ProgressStyle(bar_color='black'))"
      ]
     },
     "metadata": {},
     "output_type": "display_data"
    },
    {
     "data": {
      "application/vnd.jupyter.widget-view+json": {
       "model_id": "f8a3531bb4cc4810bc10b09b7899c865",
       "version_major": 2,
       "version_minor": 0
      },
      "text/plain": [
       "FloatProgress(value=0.0, layout=Layout(width='auto'), style=ProgressStyle(bar_color='black'))"
      ]
     },
     "metadata": {},
     "output_type": "display_data"
    },
    {
     "data": {
      "application/vnd.jupyter.widget-view+json": {
       "model_id": "937dedea60824221b9ebd1673e76291a",
       "version_major": 2,
       "version_minor": 0
      },
      "text/plain": [
       "FloatProgress(value=0.0, layout=Layout(width='auto'), style=ProgressStyle(bar_color='black'))"
      ]
     },
     "metadata": {},
     "output_type": "display_data"
    },
    {
     "data": {
      "application/vnd.jupyter.widget-view+json": {
       "model_id": "e4336dc19277468b9a91b93b56686e9d",
       "version_major": 2,
       "version_minor": 0
      },
      "text/plain": [
       "FloatProgress(value=0.0, layout=Layout(width='auto'), style=ProgressStyle(bar_color='black'))"
      ]
     },
     "metadata": {},
     "output_type": "display_data"
    },
    {
     "data": {
      "application/vnd.jupyter.widget-view+json": {
       "model_id": "4a372f2874fc4dbeafe9f6ba3fd6c17b",
       "version_major": 2,
       "version_minor": 0
      },
      "text/plain": [
       "FloatProgress(value=0.0, layout=Layout(width='auto'), style=ProgressStyle(bar_color='black'))"
      ]
     },
     "metadata": {},
     "output_type": "display_data"
    },
    {
     "data": {
      "application/vnd.jupyter.widget-view+json": {
       "model_id": "6c0ef8524f534b2aade2b86a2254ff6e",
       "version_major": 2,
       "version_minor": 0
      },
      "text/plain": [
       "FloatProgress(value=0.0, layout=Layout(width='auto'), style=ProgressStyle(bar_color='black'))"
      ]
     },
     "metadata": {},
     "output_type": "display_data"
    },
    {
     "data": {
      "application/vnd.jupyter.widget-view+json": {
       "model_id": "aaa36169937b4709a0322c9f0a618410",
       "version_major": 2,
       "version_minor": 0
      },
      "text/plain": [
       "FloatProgress(value=0.0, layout=Layout(width='auto'), style=ProgressStyle(bar_color='black'))"
      ]
     },
     "metadata": {},
     "output_type": "display_data"
    },
    {
     "data": {
      "application/vnd.jupyter.widget-view+json": {
       "model_id": "7d3f4e5e796e4eb0ae30635ada9abbaa",
       "version_major": 2,
       "version_minor": 0
      },
      "text/plain": [
       "FloatProgress(value=0.0, layout=Layout(width='auto'), style=ProgressStyle(bar_color='black'))"
      ]
     },
     "metadata": {},
     "output_type": "display_data"
    },
    {
     "data": {
      "application/vnd.jupyter.widget-view+json": {
       "model_id": "814feafdef8b4701aebf5e3c251609ab",
       "version_major": 2,
       "version_minor": 0
      },
      "text/plain": [
       "FloatProgress(value=0.0, layout=Layout(width='auto'), style=ProgressStyle(bar_color='black'))"
      ]
     },
     "metadata": {},
     "output_type": "display_data"
    },
    {
     "name": "stdout",
     "output_type": "stream",
     "text": [
      "human_readable(combined_size)='1.82 GB'\n"
     ]
    }
   ],
   "source": [
    "files = [\n",
    "        \"contextual\",\n",
    "        \"metadata_common_attributes\",\n",
    "        \"segmentation\",\n",
    "        \"simplemaps\",\n",
    "        \"ghsl\",\n",
    "        \"perception\",\n",
    "        \"places365\",\n",
    "        \"osm\",\n",
    "    ]\n",
    "\n",
    "with duckdb.connect(\"duck.db\", config={'threads': 1}) as con:\n",
    "    # Load each dataset onto disk from the each file\n",
    "    for filename in files:\n",
    "        con.sql(f\"CREATE TABLE {filename} AS SELECT * FROM '{conf.DATA_DIR}/data/{filename}.parquet'\")\n",
    "    \n",
    "    # Perform the joins.\n",
    "    for i, filename in enumerate(files[:-1]):\n",
    "        # Join the tables one by one and store intermediate results in separate tables\n",
    "        j = i + 1\n",
    "        target = filename if i==0 else f\"step{i}\"\n",
    "        con.sql(f\"CREATE TABLE step{j} AS SELECT * FROM {target} JOIN {files[j]} USING (UUID, source, orig_id)\")     \n",
    "    \n",
    "    # Finally, we can export the joined table to a new parquet file\n",
    "    con.sql(f\"COPY step{j} TO '{conf.DATA_DIR}/data/streetscapes.parquet' (FORMAT 'parquet', COMPRESSION 'zstd')\")\n",
    "\n",
    "# Remove the database from our filesystem\n",
    "os.remove(\"duck.db\")\n",
    "\n",
    "# Show the combined file size:\n",
    "combined_size = (conf.DATA_DIR / \"data\" / \"streetscapes.parquet\").stat().st_size\n",
    "print(f\"{human_readable(combined_size)=}\")\n"
   ]
  },
  {
   "cell_type": "code",
   "execution_count": 7,
   "metadata": {},
   "outputs": [
    {
     "data": {
      "text/plain": [
       "┌──────────────────────────────────────┬───────────┬──────────────────┬─────────┬────────────────────┬─────────────┬─────────────────┬───────────────┬────────────┬────────────────┬─────────┬─────────────────────┬─────────────────────┬─────────────────────────┬───────┬───────┬───────┬───────┬────────┬────────┬────────────────────┬─────────────────┬────────────────────┬────────────────────┬────────────────┬────────────────────────┬────────────────────┬────────┬───────────────┬──────────┬──────────┬────────────┬──────────┬──────────┬───────────┬───────────────────┬──────────┬─────────┬─────────────────┬────────────┬───────────┬──────────────┬──────────┬──────────┬───────────┬────────┬─────────┬───────────┬──────────────┬─────────────┬──────────────────────────┬────────────────────────┬──────────┬────────┬───────────┬────────┬──────────┬────────────┬────────┬────────┬─────────┬───────────┬───────────┬─────────────┬─────────────┬──────────────┬──────────────┬─────────┬─────────┬─────────────┬─────────┬──────────────┬─────────┬────────────────────┬──────────────┬───────────────┬─────────────────────┬──────────────────────┬───────────┬─────────┬────────┬──────────┬──────────┬─────────┬────────────┬──────────┬───────────────┬─────────┬────────┬──────────────┬───────────┬─────────────┬───────────┬──────────────────────┬─────────────────────┬────────────────────────────────┬────────────────────────────────┬────────────┬──────────┬──────────┬────────────────┬─────────┬─────────┬────────────────────────────────┬─────────┬────────────┬───────────────┬────────────┬────────────────────────┬───────────┬────────┬────────────┬────────┬────────┬─────────┬──────────────────────────┬────────────────────┬──────────────┬───────────────┬────────┬─────────────────────────────────────────────────────────┬─────────┬─────────┬───────────────────────────┬──────────────────────┬──────────────┬──────────┬──────────┬────────────────────┬───────────────┬──────────────┬─────────────┬──────────────────┬──────────┬─────────┬─────────┬────────────┬─────────┬───────────┬───────────────┐\n",
       "│                 uuid                 │  source   │     orig_id      │  glare  │ lighting_condition │ pano_status │    platform     │    quality    │ reflection │ view_direction │ weather │         lat         │         lon         │     datetime_local      │ year  │ month │  day  │ hour  │ width  │ height │      heading       │ projection_type │        hFoV        │        vFoV        │ sequence_index │      sequence_id       │ sequence_img_count │  Bird  │ Ground-Animal │   Curb   │  Fence   │ Guard-Rail │ Barrier  │   Wall   │ Bike-Lane │ Crosswalk---Plain │ Curb-Cut │ Parking │ Pedestrian-Area │ Rail-Track │   Road    │ Service-Lane │ Sidewalk │  Bridge  │ Building  │ Tunnel │ Person  │ Bicyclist │ Motorcyclist │ Other-Rider │ Lane-Marking---Crosswalk │ Lane-Marking---General │ Mountain │  Sand  │    Sky    │  Snow  │ Terrain  │ Vegetation │ Water  │ Banner │  Bench  │ Bike-Rack │ Billboard │ Catch-Basin │ CCTV-Camera │ Fire-Hydrant │ Junction-Box │ Mailbox │ Manhole │ Phone-Booth │ Pothole │ Street-Light │  Pole   │ Traffic-Sign-Frame │ Utility-Pole │ Traffic-Light │ Traffic-Sign-(Back) │ Traffic-Sign-(Front) │ Trash-Can │ Bicycle │  Boat  │   Bus    │   Car    │ Caravan │ Motorcycle │ On-Rails │ Other-Vehicle │ Trailer │ Truck  │ Wheeled-Slow │ Car-Mount │ Ego-Vehicle │   Total   │   green_view_index   │   sky_view_index    │              city              │           city_ascii           │  city_id   │ city_lat │ city_lon │    country     │  iso2   │  iso3   │           admin_name           │ capital │ population │   continent   │ urban_code │       urban_term       │ Beautiful │ Boring │ Depressing │ Lively │  Safe  │ Wealthy │          place           │     snap_dist      │      u       │       v       │  key   │                          osmid                          │ oneway  │  lanes  │           name            │       highway        │ type_highway │ maxspeed │ junction │       length       │     from      │      to      │     ref     │     tunnel_1     │ bridge_1 │ service │ access  │ road_width │  area   │ est_width │   reversed    │\n",
       "│               varchar                │  varchar  │      int64       │ boolean │      varchar       │   boolean   │     varchar     │    varchar    │  boolean   │    varchar     │ varchar │       double        │       double        │        timestamp        │ int64 │ int64 │ int64 │ int64 │ double │ double │       double       │     varchar     │       double       │       double       │     int64      │        varchar         │       int64        │ double │    double     │  double  │  double  │   double   │  double  │  double  │  double   │      double       │  double  │ double  │     double      │   double   │  double   │    double    │  double  │  double  │  double   │ double │ double  │  double   │    double    │   double    │          double          │         double         │  double  │ double │  double   │ double │  double  │   double   │ double │ double │ double  │  double   │  double   │   double    │   double    │    double    │    double    │ double  │ double  │   double    │ double  │    double    │ double  │       double       │    double    │    double     │       double        │        double        │  double   │ double  │ double │  double  │  double  │ double  │   double   │  double  │    double     │ double  │ double │    double    │  double   │   double    │  double   │        double        │       double        │            varchar             │            varchar             │   int64    │  double  │  double  │    varchar     │ varchar │ varchar │            varchar             │ varchar │   double   │    varchar    │   int64    │        varchar         │  double   │ double │   double   │ double │ double │ double  │         varchar          │       double       │    double    │    double     │ double │                         varchar                         │ boolean │ varchar │          varchar          │       varchar        │   varchar    │ varchar  │ varchar  │       double       │    double     │    double    │   varchar   │     varchar      │ varchar  │ varchar │ varchar │  varchar   │ boolean │  varchar  │    varchar    │\n",
       "├──────────────────────────────────────┼───────────┼──────────────────┼─────────┼────────────────────┼─────────────┼─────────────────┼───────────────┼────────────┼────────────────┼─────────┼─────────────────────┼─────────────────────┼─────────────────────────┼───────┼───────┼───────┼───────┼────────┼────────┼────────────────────┼─────────────────┼────────────────────┼────────────────────┼────────────────┼────────────────────────┼────────────────────┼────────┼───────────────┼──────────┼──────────┼────────────┼──────────┼──────────┼───────────┼───────────────────┼──────────┼─────────┼─────────────────┼────────────┼───────────┼──────────────┼──────────┼──────────┼───────────┼────────┼─────────┼───────────┼──────────────┼─────────────┼──────────────────────────┼────────────────────────┼──────────┼────────┼───────────┼────────┼──────────┼────────────┼────────┼────────┼─────────┼───────────┼───────────┼─────────────┼─────────────┼──────────────┼──────────────┼─────────┼─────────┼─────────────┼─────────┼──────────────┼─────────┼────────────────────┼──────────────┼───────────────┼─────────────────────┼──────────────────────┼───────────┼─────────┼────────┼──────────┼──────────┼─────────┼────────────┼──────────┼───────────────┼─────────┼────────┼──────────────┼───────────┼─────────────┼───────────┼──────────────────────┼─────────────────────┼────────────────────────────────┼────────────────────────────────┼────────────┼──────────┼──────────┼────────────────┼─────────┼─────────┼────────────────────────────────┼─────────┼────────────┼───────────────┼────────────┼────────────────────────┼───────────┼────────┼────────────┼────────┼────────┼─────────┼──────────────────────────┼────────────────────┼──────────────┼───────────────┼────────┼─────────────────────────────────────────────────────────┼─────────┼─────────┼───────────────────────────┼──────────────────────┼──────────────┼──────────┼──────────┼────────────────────┼───────────────┼──────────────┼─────────────┼──────────────────┼──────────┼─────────┼─────────┼────────────┼─────────┼───────────┼───────────────┤\n",
       "│ fab85b76-8fe7-433c-9109-dcd99a25a620 │ Mapillary │  963116937824208 │ false   │ day                │ false       │ driving surface │ good          │ true       │ front/back     │ cloudy  │   52.08570355087065 │   8.756672143936157 │ 2020-03-08 09:41:12.244 │  2020 │     3 │     8 │    10 │ 3264.0 │ 2448.0 │    187.45010300031 │ perspective     │ 63.591062482731004 │ 49.871081623742405 │           4160 │ d8lvb5vlsul2tzv13qx9zo │                131 │    0.0 │           0.0 │  11012.0 │  63352.0 │        0.0 │      0.0 │  40556.0 │       0.0 │               0.0 │  34556.0 │     0.0 │             0.0 │        0.0 │ 1006236.0 │          0.0 │ 173916.0 │      0.0 │  407772.0 │    0.0 │     0.0 │       0.0 │          0.0 │         0.0 │                   2408.0 │                24372.0 │      0.0 │    0.0 │  797404.0 │    0.0 │    472.0 │   411028.0 │    0.0 │    0.0 │     0.0 │       0.0 │    8816.0 │       968.0 │         0.0 │          0.0 │       2380.0 │     0.0 │     0.0 │         0.0 │     0.0 │          0.0 │ 41360.0 │                0.0 │          0.0 │        2308.0 │                 0.0 │              11068.0 │       0.0 │     0.0 │    0.0 │      0.0 │   9312.0 │     0.0 │        0.0 │      0.0 │           0.0 │     0.0 │    0.0 │          0.0 │       0.0 │         0.0 │ 3049296.0 │   0.1347943918858648 │  0.2615042947618073 │ Bad Salzuflen                  │ Bad Salzuflen                  │ 1276526163 │  52.0875 │   8.7506 │ Germany        │ DE      │ DEU     │ North Rhine-Westphalia         │ NULL    │    54127.0 │ Europe        │         23 │ dense urban cluster    │      7.11 │   4.99 │       2.51 │   6.36 │   8.64 │    7.01 │ residential_neighborhood │  3.506282374630492 │  273122464.0 │  9087936389.0 │    0.0 │ 293675973                                               │ false   │ NULL    │ Beetstraße                │ secondary            │ drive        │ 50.0     │ NULL     │             63.363 │  9087936389.0 │  273122464.0 │ L 535       │ NULL             │ NULL     │ NULL    │ NULL    │ NULL       │ NULL    │ NULL      │ False         │\n",
       "│ 14da5502-276a-4b0e-ab1b-9969bef7cf3a │ Mapillary │  252609566691643 │ true    │ night              │ false       │ driving surface │ slightly poor │ false      │ front/back     │ clear   │   55.75779934309966 │   37.63690173625946 │ 2021-02-26 15:55:25.029 │  2021 │     2 │    26 │    18 │ 3840.0 │ 2160.0 │    66.778747558594 │ perspective     │  59.09589485389177 │  35.37172803787568 │            146 │ rsq6hj8ix4p0sh8et1n7s8 │                 73 │    0.0 │           0.0 │   8244.0 │      0.0 │        0.0 │      0.0 │      0.0 │       0.0 │               0.0 │      0.0 │     0.0 │             0.0 │     9951.0 │  396207.0 │          0.0 │  31743.0 │      0.0 │  654036.0 │    0.0 │ 27615.0 │       0.0 │          0.0 │         0.0 │                      0.0 │                37494.0 │      0.0 │    0.0 │       0.0 │    0.0 │      0.0 │        0.0 │    0.0 │    0.0 │     0.0 │       0.0 │   30603.0 │         0.0 │         0.0 │          0.0 │          0.0 │     0.0 │     0.0 │         0.0 │     0.0 │       1287.0 │ 10770.0 │                0.0 │          0.0 │        2406.0 │                 0.0 │              16101.0 │       0.0 │     0.0 │    0.0 │ 172695.0 │  94200.0 │     0.0 │        0.0 │      0.0 │           0.0 │     0.0 │    0.0 │          0.0 │       0.0 │    816876.0 │ 2310228.0 │                  0.0 │                 0.0 │ Moscow                         │ Moscow                         │ 1643318494 │  55.7558 │  37.6178 │ Russia         │ RU      │ RUS     │ Moskva                         │ primary │ 17693000.0 │ Europe        │         30 │ urban centre           │      2.36 │   0.66 │       6.36 │    5.9 │   0.56 │    3.78 │ crosswalk                │ 0.6304075242951437 │ 2509793590.0 │  3046774640.0 │    0.0 │ 179949942                                               │ true    │ 3       │ улица Маросейка           │ secondary            │ drive        │ 60       │ NULL     │             11.811 │  2509793590.0 │ 3046774640.0 │ NULL        │ building_passage │ NULL     │ NULL    │ NULL    │ 3.6        │ NULL    │ NULL      │ False         │\n",
       "│ 2fa06463-49f6-4d0c-8fdc-4ebf1754b996 │ Mapillary │  996640940869215 │ false   │ day                │ false       │ walking surface │ good          │ false      │ side           │ clear   │  -37.81942937574276 │  144.96172428131104 │ 2015-03-13 18:41:01     │  2015 │     3 │    14 │     5 │ 3264.0 │ 2448.0 │    231.21154117584 │ perspective     │  65.11284036005786 │  51.17407959502263 │              7 │ lnhAn29zWgb_RUHG4YKHHg │                 28 │    0.0 │           0.0 │      0.0 │      0.0 │        0.0 │      0.0 │      0.0 │       0.0 │               0.0 │      0.0 │     0.0 │             0.0 │        0.0 │   27748.0 │          0.0 │ 987404.0 │ 434116.0 │  958840.0 │    0.0 │ 84256.0 │       0.0 │          0.0 │         0.0 │                      0.0 │               119068.0 │      0.0 │    0.0 │  136228.0 │    0.0 │      0.0 │        0.0 │    0.0 │    0.0 │     0.0 │       0.0 │       0.0 │      1940.0 │         0.0 │          0.0 │          0.0 │     0.0 │     0.0 │         0.0 │     0.0 │          0.0 │ 14828.0 │            38204.0 │      35272.0 │       20284.0 │                 0.0 │             134832.0 │   43920.0 │  3408.0 │    0.0 │      0.0 │   8844.0 │     0.0 │        0.0 │      0.0 │           0.0 │     0.0 │    0.0 │          0.0 │       0.0 │         0.0 │ 3049192.0 │                  0.0 │ 0.04467675371049117 │ Melbourne                      │ Melbourne                      │ 1036533631 │ -37.8136 │ 144.9631 │ Australia      │ AU      │ AUS     │ Victoria                       │ admin   │  4529500.0 │ Oceania       │         30 │ urban centre           │      3.89 │   5.24 │       4.85 │   6.75 │   0.13 │    5.57 │ bridge                   │  9.729833483361508 │  591400647.0 │  8816580551.0 │    0.0 │ 952562523                                               │ false   │ NULL    │ NULL                      │ footway              │ walk         │ NULL     │ NULL     │             48.445 │  8816580551.0 │  591400647.0 │ NULL        │ NULL             │ NULL     │ NULL    │ NULL    │ NULL       │ NULL    │ NULL      │ True          │\n",
       "│ 9cf979a3-4e27-4935-b2cf-6dae1b883ecd │ Mapillary │  938152066725254 │ false   │ day                │ false       │ walking surface │ good          │ false      │ side           │ clear   │    51.8996574559979 │  -2.081683874130249 │ 2018-08-14 16:29:06.077 │  2018 │     8 │    14 │    17 │ 4032.0 │ 3024.0 │    311.78619384766 │ perspective     │  63.98816368898648 │  50.21034339491623 │             51 │ xBEy4w0TRIC6HQg9S6STQQ │                 89 │    0.0 │           0.0 │  11544.0 │ 128652.0 │        0.0 │      0.0 │      0.0 │       0.0 │               0.0 │      0.0 │     0.0 │       1307256.0 │        0.0 │       0.0 │          0.0 │      0.0 │      0.0 │    1284.0 │    0.0 │     0.0 │       0.0 │          0.0 │         0.0 │                      0.0 │                    0.0 │      0.0 │    0.0 │       0.0 │    0.0 │ 128744.0 │  1517548.0 │    0.0 │    0.0 │ 18348.0 │       0.0 │       0.0 │         0.0 │         0.0 │          0.0 │          0.0 │     0.0 │  2540.0 │         0.0 │     0.0 │          0.0 │     0.0 │                0.0 │          0.0 │           0.0 │                 0.0 │                  0.0 │    8564.0 │     0.0 │    0.0 │      0.0 │      0.0 │     0.0 │        0.0 │      0.0 │           0.0 │     0.0 │    0.0 │          0.0 │       0.0 │         0.0 │ 3124480.0 │   0.4856961798443261 │                 0.0 │ Cheltenham                     │ Cheltenham                     │ 1826524974 │     51.9 │  -2.0667 │ United Kingdom │ GB      │ GBR     │ Gloucestershire                │ NULL    │   116447.0 │ Europe        │         30 │ urban centre           │      8.04 │   2.77 │       3.67 │   5.52 │   6.98 │    6.43 │ driveway                 │ 1.8040184802572776 │  259246338.0 │   259246340.0 │    0.0 │ 225711846                                               │ false   │ NULL    │ NULL                      │ cycleway             │ cycle        │ NULL     │ NULL     │             21.721 │   259246340.0 │  259246338.0 │ NULL        │ NULL             │ NULL     │ NULL    │ NULL    │ NULL       │ NULL    │ 2.5       │ True          │\n",
       "│ 7c7c7ad0-6449-4472-b8dc-ea9d35f4ee5f │ Mapillary │  968914137271577 │ true    │ night              │ false       │ driving surface │ good          │ false      │ front/back     │ clear   │   35.83417148285915 │   139.8620617389679 │ 2019-11-30 08:11:51.035 │  2019 │    11 │    30 │    17 │ 4032.0 │ 3024.0 │     137.1037902832 │ perspective     │  62.50159599051087 │  48.94298090127179 │            914 │ u97shrgqj94ie02l2lnisb │                 72 │    0.0 │           0.0 │    276.0 │  26040.0 │    24608.0 │ 185396.0 │      0.0 │       0.0 │               0.0 │      0.0 │     0.0 │             0.0 │        0.0 │  461808.0 │       7452.0 │      0.0 │      0.0 │  110520.0 │    0.0 │     0.0 │       0.0 │          0.0 │         0.0 │                      0.0 │               108896.0 │      0.0 │    0.0 │ 1929616.0 │    0.0 │      0.0 │    28500.0 │    0.0 │    0.0 │     0.0 │       0.0 │       0.0 │         0.0 │         0.0 │          0.0 │          0.0 │     0.0 │     0.0 │         0.0 │     0.0 │       4532.0 │ 22864.0 │            20980.0 │          0.0 │           0.0 │                 0.0 │              87396.0 │       0.0 │     0.0 │    0.0 │      0.0 │      0.0 │     0.0 │        0.0 │      0.0 │           0.0 │     0.0 │    0.0 │          0.0 │       0.0 │     20696.0 │ 3039580.0 │  0.00937629540923417 │  0.6348298120135019 │ Misato                         │ Misato                         │ 1392464033 │  35.8303 │ 139.8725 │ Japan          │ JP      │ JPN     │ Chiba                          │ NULL    │   141913.0 │ Asia          │         30 │ urban centre           │      1.87 │   3.03 │       4.78 │   4.44 │   2.05 │    3.85 │ highway                  │ 1.1931563428986651 │  559388355.0 │  1547174200.0 │    0.0 │ 43992604                                                │ true    │ 1.0     │ 三郷中央入口              │ motorway_link        │ drive        │ 40.0     │ NULL     │ 337.60599999999994 │  1547174200.0 │  559388355.0 │ NULL        │ NULL             │ yes      │ NULL    │ NULL    │ NULL       │ NULL    │ NULL      │ False         │\n",
       "│ 4fd8d540-1ca2-4cad-a140-3b86cc1bc140 │ Mapillary │ 3467878853439192 │ false   │ day                │ false       │ walking surface │ good          │ false      │ front/back     │ clear   │  52.364037324921725 │    4.88167405128479 │ 2022-05-03 12:44:39.355 │  2022 │     5 │     3 │    14 │ 5184.0 │ 3888.0 │ 132.93717092413863 │ perspective     │  73.67389613328571 │ 58.656851552871984 │            390 │ y8tk3uIrfVAa4NcGUipHhl │                458 │    0.0 │           0.0 │  40504.0 │      0.0 │        0.0 │      0.0 │      0.0 │       0.0 │               0.0 │      0.0 │     0.0 │             0.0 │    39868.0 │  350212.0 │          0.0 │ 440468.0 │      0.0 │ 1576500.0 │    0.0 │ 54632.0 │   19636.0 │          0.0 │         0.0 │                  15700.0 │                52348.0 │      0.0 │    0.0 │  263024.0 │    0.0 │      0.0 │    45296.0 │    0.0 │    0.0 │     0.0 │       0.0 │   16144.0 │         0.0 │         0.0 │          0.0 │          0.0 │     0.0 │     0.0 │         0.0 │     0.0 │          0.0 │ 11216.0 │                0.0 │          0.0 │           0.0 │                 0.0 │               4928.0 │    7644.0 │ 27308.0 │    0.0 │      0.0 │      0.0 │     0.0 │        0.0 │  30576.0 │           0.0 │     0.0 │    0.0 │          0.0 │       0.0 │         0.0 │ 2996004.0 │ 0.015118804914813197 │  0.0877916050846394 │ Amsterdam                      │ Amsterdam                      │ 1528355309 │  52.3667 │   4.8833 │ Netherlands    │ NL      │ NLD     │ Noord-Holland                  │ primary │   862965.0 │ Europe        │         30 │ urban centre           │      7.33 │   3.26 │       4.22 │   7.26 │   4.79 │     8.9 │ street                   │ 2.1301687890070853 │ 5821402520.0 │  5830440707.0 │    0.0 │ 446017010                                               │ true    │ 2       │ Marnixstraat              │ cycleway             │ cycle        │ 50       │ NULL     │            180.147 │  5821402520.0 │ 5830440707.0 │ NULL        │ NULL             │ NULL     │ NULL    │ NULL    │ NULL       │ NULL    │ NULL      │ False         │\n",
       "│ affed3dc-a9b7-4f5b-8b88-99fad7ee581e │ Mapillary │  466390187982909 │ false   │ day                │ false       │ walking surface │ good          │ false      │ front/back     │ clear   │   48.86143275444522 │  2.3529893159866333 │ 2021-02-26 12:57:34.126 │  2021 │     2 │    26 │    13 │ 4000.0 │ 3000.0 │    139.32403564453 │ perspective     │  67.70341421815965 │  53.41046236793627 │             20 │ 9j8ua3g8ma0yhzeilf1ihq │                 82 │    0.0 │           0.0 │   3072.0 │  23408.0 │        0.0 │      0.0 │      0.0 │       0.0 │               0.0 │  19284.0 │     0.0 │             0.0 │        0.0 │  230272.0 │          0.0 │ 232492.0 │      0.0 │ 1294184.0 │    0.0 │ 64984.0 │       0.0 │          0.0 │         0.0 │                  57864.0 │                85428.0 │      0.0 │    0.0 │  392848.0 │    0.0 │      0.0 │        0.0 │    0.0 │    0.0 │     0.0 │       0.0 │   74772.0 │         0.0 │         0.0 │          0.0 │          0.0 │     0.0 │    40.0 │         0.0 │     0.0 │       1340.0 │ 28084.0 │                0.0 │          0.0 │        1844.0 │                 0.0 │             109592.0 │       0.0 │     0.0 │    0.0 │    908.0 │ 417772.0 │     0.0 │     3704.0 │      0.0 │           0.0 │     0.0 │ 3424.0 │       1500.0 │       0.0 │         0.0 │ 3046816.0 │                  0.0 │ 0.12893722495877663 │ Paris                          │ Paris                          │ 1250015082 │  48.8566 │   2.3522 │ France         │ FR      │ FRA     │ Île-de-France                  │ primary │ 11027000.0 │ Europe        │         30 │ urban centre           │      2.19 │   2.54 │       4.06 │   6.26 │    1.6 │    7.38 │ downtown                 │    5.6054361932824 │ 8841333258.0 │ 10213050013.0 │    0.0 │ [955254541, 277517274, 277517275, 277517276, 277517277] │ false   │ NULL    │ Rue Rambuteau             │ ['footway', 'steps'] │ walk         │ NULL     │ NULL     │ 54.711000000000006 │ 10213050013.0 │ 8841333258.0 │ NULL        │ NULL             │ NULL     │ NULL    │ NULL    │ NULL       │ NULL    │ NULL      │ [False, True] │\n",
       "│ d12c6ff6-2cb0-408b-aa57-d711ee5c7484 │ Mapillary │  314316000472497 │ false   │ day                │ false       │ walking surface │ good          │ false      │ front/back     │ clear   │   35.69454125917031 │   139.7045624256134 │ 2021-08-26 00:54:51.221 │  2021 │     8 │    26 │     9 │ 1024.0 │  768.0 │              187.0 │ perspective     │   63.7353115062072 │  49.99425940381731 │            131 │ beGlaofPgrm7sZuSB1LyKW │                393 │    0.0 │           0.0 │  29250.0 │  28306.0 │        0.0 │      0.0 │      0.0 │       0.0 │               0.0 │      0.0 │     0.0 │          2940.0 │        0.0 │  335374.0 │          0.0 │   1226.0 │      0.0 │   17342.0 │    0.0 │     0.0 │       0.0 │          0.0 │         0.0 │                      0.0 │                    0.0 │      0.0 │    0.0 │       0.0 │    0.0 │   5246.0 │   340748.0 │    0.0 │    0.0 │     0.0 │       0.0 │       0.0 │         0.0 │         0.0 │          0.0 │          0.0 │     0.0 │     0.0 │         0.0 │     0.0 │          0.0 │ 10766.0 │                0.0 │          0.0 │           0.0 │                 0.0 │                  0.0 │       0.0 │     0.0 │    0.0 │      0.0 │      0.0 │     0.0 │        0.0 │      0.0 │           0.0 │     0.0 │    0.0 │          0.0 │       0.0 │         0.0 │  771198.0 │  0.44184243216398383 │                 0.0 │ Shinjuku                       │ Shinjuku                       │ 1392536374 │     35.7 │ 139.7167 │ Japan          │ JP      │ JPN     │ Tōkyō                          │ NULL    │   346115.0 │ Asia          │         30 │ urban centre           │      7.33 │    2.1 │       2.98 │   6.96 │   6.99 │    5.55 │ driveway                 │ 0.1070495365275402 │ 1582744937.0 │  1582744939.0 │    1.0 │ 154999907                                               │ false   │ NULL    │ 四季の路                  │ footway              │ walk         │ NULL     │ NULL     │             51.951 │  1582744939.0 │ 1582744937.0 │ NULL        │ NULL             │ NULL     │ NULL    │ NULL    │ NULL       │ NULL    │ NULL      │ False         │\n",
       "│ 12892794-6f2e-47bb-a014-913de22f958a │ Mapillary │  810951286492795 │ false   │ day                │ false       │ driving surface │ slightly poor │ false      │ front/back     │ cloudy  │   42.45308541941273 │   -76.5018904209137 │ 2017-11-19 14:47:19.342 │  2017 │    11 │    19 │     9 │ 4032.0 │ 3024.0 │    34.576965332031 │ perspective     │  61.85056236500166 │  48.39022808927877 │            564 │ 6yr6xr4XitzGTWGwcn4AoA │                234 │    0.0 │           0.0 │      0.0 │  49216.0 │    77116.0 │      0.0 │      0.0 │       0.0 │               0.0 │      0.0 │     0.0 │             0.0 │        0.0 │  520760.0 │      28176.0 │      0.0 │      0.0 │   25656.0 │    0.0 │     0.0 │       0.0 │          0.0 │         0.0 │                      0.0 │                41624.0 │    364.0 │    0.0 │ 1582952.0 │    0.0 │  68356.0 │   615520.0 │    0.0 │    0.0 │     0.0 │       0.0 │       0.0 │         0.0 │         0.0 │          0.0 │          0.0 │     0.0 │     0.0 │         0.0 │     0.0 │          0.0 │  1572.0 │                0.0 │       6016.0 │           0.0 │              4792.0 │                  0.0 │       0.0 │     0.0 │    0.0 │      0.0 │  36132.0 │     0.0 │        0.0 │      0.0 │           0.0 │     0.0 │    0.0 │          0.0 │   54680.0 │         0.0 │ 3112932.0 │  0.19772998574976902 │  0.5085083773111652 │ Ithaca                         │ Ithaca                         │ 1840000442 │  42.4442 │ -76.5032 │ United States  │ US      │ USA     │ New York                       │ NULL    │    55137.0 │ North America │         21 │ suburban or peri-urban │      5.48 │   2.89 │       3.21 │   6.69 │   3.14 │    1.44 │ highway                  │  4.024032130253475 │  213431769.0 │   213434884.0 │    0.0 │ [33137632, 20184922, 33137630]                          │ true    │ 2       │ State Highway 13 (Scenic) │ motorway             │ drive        │ 55 mph   │ NULL     │ 1203.9419999999998 │   213434884.0 │  213431769.0 │ NY 13;NY 34 │ NULL             │ yes      │ NULL    │ NULL    │ NULL       │ NULL    │ NULL      │ False         │\n",
       "│ 6882d0f9-d2f8-4196-b85a-525a3e9e8bc8 │ Mapillary │  515255152950948 │ false   │ day                │ false       │ driving surface │ good          │ false      │ front/back     │ clear   │  32.189995805418434 │   34.89450931549072 │ 2020-08-22 13:33:43.044 │  2020 │     8 │    22 │    16 │ 4032.0 │ 3024.0 │    69.949251084538 │ perspective     │   71.1258168151987 │  56.40159485400012 │            111 │ hg63evhdhf5lo0xjxhxwsq │                164 │    0.0 │           0.0 │  95648.0 │  56984.0 │        0.0 │      0.0 │   1300.0 │       0.0 │               0.0 │      0.0 │     0.0 │             0.0 │        0.0 │  645440.0 │          0.0 │  77692.0 │  23692.0 │       0.0 │    0.0 │     0.0 │       0.0 │          0.0 │         0.0 │                      0.0 │               130784.0 │      0.0 │    0.0 │  683876.0 │    0.0 │   6376.0 │  1000064.0 │    0.0 │    0.0 │     0.0 │       0.0 │       0.0 │         0.0 │         0.0 │          0.0 │          0.0 │     0.0 │     0.0 │         0.0 │     0.0 │          0.0 │  6440.0 │                0.0 │          0.0 │         428.0 │                 0.0 │              13100.0 │       0.0 │     0.0 │    0.0 │      0.0 │  12528.0 │     0.0 │        0.0 │      0.0 │           0.0 │     0.0 │    0.0 │          0.0 │       0.0 │    276916.0 │ 3031268.0 │   0.3299160615293666 │  0.2256072376312487 │ Kefar Sava                     │ Kefar Sava                     │ 1376008883 │  32.1858 │  34.9077 │ Israel         │ IL      │ ISR     │ Central                        │ NULL    │   100800.0 │ Asia          │         30 │ urban centre           │      7.23 │   4.58 │       3.45 │   8.69 │   5.32 │    6.83 │ residential_neighborhood │  2.839062576301685 │ 1282761038.0 │  1310374578.0 │    0.0 │ 112977901                                               │ false   │ NULL    │ יאיר רוזנבלום             │ residential          │ drive        │ NULL     │ NULL     │ 34.876999999999995 │  1310374578.0 │ 1282761038.0 │ NULL        │ NULL             │ NULL     │ NULL    │ NULL    │ NULL       │ NULL    │ NULL      │ False         │\n",
       "│                  ·                   │     ·     │         ·        │   ·     │  ·                 │   ·         │        ·        │  ·            │   ·        │  ·             │   ·     │           ·         │           ·         │          ·              │    ·  │     · │     · │     · │    ·   │    ·   │           ·        │      ·          │           ·        │          ·         │             ·  │           ·            │                 ·  │     ·  │            ·  │      ·   │     ·    │         ·  │       ·  │      ·   │        ·  │                ·  │       ·  │      ·  │              ·  │         ·  │      ·    │           ·  │      ·   │       ·  │        ·  │     ·  │      ·  │        ·  │           ·  │          ·  │                       ·  │                     ·  │       ·  │     ·  │      ·    │     ·  │      ·   │       ·    │     ·  │     ·  │      ·  │        ·  │        ·  │          ·  │          ·  │           ·  │           ·  │      ·  │      ·  │          ·  │      ·  │           ·  │     ·   │                 ·  │           ·  │            ·  │                  ·  │                  ·   │        ·  │      ·  │     ·  │       ·  │     ·    │      ·  │         ·  │       ·  │            ·  │      ·  │     ·  │           ·  │        ·  │        ·    │     ·     │            ·         │           ·         │   ·                            │   ·                            │      ·     │     ·    │     ·    │   ·            │ ·       │  ·      │    ·                           │  ·      │       ·    │  ·            │          · │      ·                 │        ·  │     ·  │         ·  │     ·  │     ·  │      ·  │      ·                   │          ·         │       ·      │        ·      │     ·  │     ·                                                   │  ·      │ ·       │    ·                      │    ·                 │   ·          │  ·       │  ·       │                ·   │        ·      │       ·      │  ·          │  ·               │  ·       │  ·      │  ·      │  ·         │  ·      │  ·        │   ·           │\n",
       "│                  ·                   │     ·     │         ·        │   ·     │  ·                 │   ·         │        ·        │  ·            │   ·        │  ·             │   ·     │           ·         │           ·         │          ·              │    ·  │     · │     · │     · │    ·   │    ·   │           ·        │      ·          │           ·        │          ·         │             ·  │           ·            │                 ·  │     ·  │            ·  │      ·   │     ·    │         ·  │       ·  │      ·   │        ·  │                ·  │       ·  │      ·  │              ·  │         ·  │      ·    │           ·  │      ·   │       ·  │        ·  │     ·  │      ·  │        ·  │           ·  │          ·  │                       ·  │                     ·  │       ·  │     ·  │      ·    │     ·  │      ·   │       ·    │     ·  │     ·  │      ·  │        ·  │        ·  │          ·  │          ·  │           ·  │           ·  │      ·  │      ·  │          ·  │      ·  │           ·  │     ·   │                 ·  │           ·  │            ·  │                  ·  │                  ·   │        ·  │      ·  │     ·  │       ·  │     ·    │      ·  │         ·  │       ·  │            ·  │      ·  │     ·  │           ·  │        ·  │        ·    │     ·     │            ·         │           ·         │   ·                            │   ·                            │      ·     │     ·    │     ·    │   ·            │ ·       │  ·      │    ·                           │  ·      │       ·    │  ·            │          · │      ·                 │        ·  │     ·  │         ·  │     ·  │     ·  │      ·  │      ·                   │          ·         │       ·      │        ·      │     ·  │     ·                                                   │  ·      │ ·       │    ·                      │    ·                 │   ·          │  ·       │  ·       │                ·   │        ·      │       ·      │  ·          │  ·               │  ·       │  ·      │  ·      │  ·         │  ·      │  ·        │   ·           │\n",
       "│                  ·                   │     ·     │         ·        │   ·     │  ·                 │   ·         │        ·        │  ·            │   ·        │  ·             │   ·     │           ·         │           ·         │          ·              │    ·  │     · │     · │     · │    ·   │    ·   │           ·        │      ·          │           ·        │          ·         │             ·  │           ·            │                 ·  │     ·  │            ·  │      ·   │     ·    │         ·  │       ·  │      ·   │        ·  │                ·  │       ·  │      ·  │              ·  │         ·  │      ·    │           ·  │      ·   │       ·  │        ·  │     ·  │      ·  │        ·  │           ·  │          ·  │                       ·  │                     ·  │       ·  │     ·  │      ·    │     ·  │      ·   │       ·    │     ·  │     ·  │      ·  │        ·  │        ·  │          ·  │          ·  │           ·  │           ·  │      ·  │      ·  │          ·  │      ·  │           ·  │     ·   │                 ·  │           ·  │            ·  │                  ·  │                  ·   │        ·  │      ·  │     ·  │       ·  │     ·    │      ·  │         ·  │       ·  │            ·  │      ·  │     ·  │           ·  │        ·  │        ·    │     ·     │            ·         │           ·         │   ·                            │   ·                            │      ·     │     ·    │     ·    │   ·            │ ·       │  ·      │    ·                           │  ·      │       ·    │  ·            │          · │      ·                 │        ·  │     ·  │         ·  │     ·  │     ·  │      ·  │      ·                   │          ·         │       ·      │        ·      │     ·  │     ·                                                   │  ·      │ ·       │    ·                      │    ·                 │   ·          │  ·       │  ·       │                ·   │        ·      │       ·      │  ·          │  ·               │  ·       │  ·      │  ·      │  ·         │  ·      │  ·        │   ·           │\n",
       "│ 09284f8d-509c-4eed-b440-b56f6b1a0978 │ Mapillary │  465358148076106 │ false   │ day                │ false       │ driving surface │ good          │ false      │ side           │ cloudy  │  -33.50547028382857 │  -70.76063275337219 │ 2016-09-16 16:40:56     │  2016 │     9 │    16 │    13 │ 1920.0 │ 1080.0 │    129.82245921633 │ perspective     │  86.16221151735299 │  55.49146611618014 │            372 │ CDpU17inYh8KfR0AScy0fw │                180 │    0.0 │           0.0 │   3155.0 │ 145835.0 │        0.0 │      0.0 │  23995.0 │       0.0 │               0.0 │      0.0 │     0.0 │             0.0 │        0.0 │  376955.0 │          0.0 │   2065.0 │      0.0 │   86935.0 │    0.0 │     0.0 │       0.0 │          0.0 │         0.0 │                      0.0 │                    0.0 │      0.0 │    0.0 │  493425.0 │    0.0 │  11030.0 │   299760.0 │    0.0 │    0.0 │     0.0 │       0.0 │       0.0 │         0.0 │         0.0 │          0.0 │          0.0 │     0.0 │     0.0 │         0.0 │     0.0 │          0.0 │  5345.0 │                0.0 │      24185.0 │           0.0 │                 0.0 │               2950.0 │       0.0 │     0.0 │    0.0 │      0.0 │ 542260.0 │     0.0 │        0.0 │      0.0 │           0.0 │     0.0 │    0.0 │          0.0 │       0.0 │     23420.0 │ 2041315.0 │  0.14684651805331367 │  0.2417191859169212 │ Maipú                          │ Maipu                          │ 1152583016 │ -33.5167 │ -70.7667 │ Chile          │ CL      │ CHL     │ Región Metropolitana           │ NULL    │   521627.0 │ South America │         30 │ urban centre           │      3.36 │   4.12 │        4.5 │   7.36 │   3.92 │    7.09 │ parking_lot              │  6.480170778619205 │  444162551.0 │   444184599.0 │    0.0 │ 278751176                                               │ true    │ 2       │ Libertad                  │ tertiary             │ drive        │ NULL     │ NULL     │             89.992 │   444184599.0 │  444162551.0 │ NULL        │ NULL             │ NULL     │ NULL    │ NULL    │ NULL       │ NULL    │ NULL      │ False         │\n",
       "│ 94b58bea-c893-4572-89fb-2dd0571b307d │ Mapillary │ 5595184313887791 │ false   │ day                │ false       │ driving surface │ slightly poor │ false      │ front/back     │ clear   │   43.99970682197954 │  -79.45321083068848 │ 2018-08-20 21:10:48.335 │  2018 │     8 │    20 │    17 │ 1920.0 │ 1080.0 │    56.970748901367 │ NULL            │  64.01076641616699 │  38.73952406980271 │            224 │ klekeibnb2goync0b79ayy │                173 │    0.0 │           0.0 │  69060.0 │      0.0 │     3035.0 │      0.0 │      0.0 │   21285.0 │               0.0 │      0.0 │     0.0 │             0.0 │        0.0 │  552960.0 │          0.0 │   2595.0 │  16145.0 │   20910.0 │    0.0 │     0.0 │       0.0 │          0.0 │         0.0 │                      0.0 │                32065.0 │      0.0 │    0.0 │  220565.0 │    0.0 │ 353780.0 │   407175.0 │    0.0 │    0.0 │     0.0 │       0.0 │    1865.0 │         0.0 │         0.0 │          0.0 │          0.0 │     0.0 │     0.0 │         0.0 │     0.0 │        140.0 │ 24680.0 │                0.0 │       6030.0 │           0.0 │                 0.0 │               6145.0 │       0.0 │     0.0 │    0.0 │      0.0 │   7675.0 │     0.0 │        0.0 │      0.0 │           0.0 │     0.0 │    0.0 │          0.0 │       0.0 │    281530.0 │ 2027640.0 │  0.20081227436823104 │  0.1087791718451007 │ Aurora                         │ Aurora                         │ 1124085034 │     44.0 │ -79.4667 │ Canada         │ CA      │ CAN     │ Ontario                        │ NULL    │    55445.0 │ North America │         30 │ urban centre           │      3.89 │   2.99 │       5.05 │   4.19 │   4.91 │    1.86 │ highway                  │  4.092823256451673 │  252535300.0 │  7515177571.0 │    0.0 │ 318033028                                               │ false   │ 2       │ Mary Street               │ residential          │ drive        │ 40.0     │ NULL     │            258.118 │  7515177571.0 │  252535300.0 │ NULL        │ NULL             │ NULL     │ NULL    │ NULL    │ NULL       │ NULL    │ NULL      │ True          │\n",
       "│ 4fa5651f-b3d0-4367-b787-abb4dd3d797f │ Mapillary │  537427744298500 │ false   │ day                │ false       │ driving surface │ good          │ true       │ front/back     │ cloudy  │ -0.2454106456389695 │  -79.18374538421631 │ 2017-10-30 16:34:50     │  2017 │    10 │    30 │    11 │ 1920.0 │ 1080.0 │    89.884161401154 │ perspective     │  85.89786409441423 │  55.27339497487476 │            151 │ DyfKzs53nSjk1GbUx2JlIQ │                356 │    0.0 │           0.0 │  19775.0 │  17980.0 │        0.0 │      0.0 │  64735.0 │       0.0 │               0.0 │      0.0 │     0.0 │             0.0 │    10050.0 │  141115.0 │          0.0 │  68310.0 │      0.0 │   29545.0 │    0.0 │  1415.0 │       0.0 │       1015.0 │         0.0 │                      0.0 │                10545.0 │      0.0 │    0.0 │  480605.0 │    0.0 │   2550.0 │   325825.0 │    0.0 │    0.0 │     0.0 │       0.0 │    2630.0 │         0.0 │         0.0 │          0.0 │          0.0 │     0.0 │     0.0 │         0.0 │     0.0 │          0.0 │  8870.0 │                0.0 │       1455.0 │           0.0 │                60.0 │               4595.0 │       0.0 │     0.0 │    0.0 │      0.0 │  74660.0 │     0.0 │      380.0 │      0.0 │        1000.0 │     0.0 │    0.0 │          0.0 │       0.0 │    760040.0 │ 2027155.0 │  0.16073018590093013 │  0.2370834987951094 │ Santo Domingo de los Colorados │ Santo Domingo de los Colorados │ 1218148017 │  -0.2542 │ -79.1719 │ Ecuador        │ EC      │ ECU     │ Santo Domingo de los Tsáchilas │ admin   │   270875.0 │ South America │         30 │ urban centre           │      1.02 │   4.55 │       7.43 │    2.6 │   1.94 │    6.73 │ highway                  │ 0.4782967427910282 │ 1783705896.0 │  1843406571.0 │    0.0 │ [550946012, 550946013, 550946014]                       │ false   │ 4       │ Avenida Abraham Calazacón │ secondary            │ drive        │ 50       │ NULL     │ 472.00999999999993 │  1843406571.0 │ 1783705896.0 │ NULL        │ NULL             │ NULL     │ NULL    │ NULL    │ NULL       │ NULL    │ NULL      │ True          │\n",
       "│ 532dbc1a-c95d-4031-95d9-200b89e95824 │ Mapillary │ 5533014463436234 │ false   │ day                │ false       │ driving surface │ good          │ true       │ front/back     │ cloudy  │   41.07127942934679 │  28.980104327201843 │ 2019-06-18 06:20:37.729 │  2019 │     6 │    18 │     9 │ 3840.0 │ 2160.0 │    317.39378647577 │ fisheye         │  91.93822710181632 │  60.38663485772342 │            219 │ lqb6zx7jcit2p5zgx8myht │                123 │    0.0 │           0.0 │   9561.0 │  46470.0 │        0.0 │  32643.0 │   2076.0 │       0.0 │               0.0 │      0.0 │     0.0 │             0.0 │        0.0 │  292134.0 │          0.0 │      0.0 │      0.0 │  119808.0 │    0.0 │   879.0 │       0.0 │       1563.0 │         0.0 │                      0.0 │                    0.0 │      0.0 │    0.0 │ 1025952.0 │    0.0 │      0.0 │   317730.0 │    0.0 │ 3099.0 │     0.0 │       0.0 │   12069.0 │         0.0 │         0.0 │          0.0 │          0.0 │     0.0 │     0.0 │         0.0 │     0.0 │        846.0 │ 24003.0 │                0.0 │       3789.0 │           0.0 │                 0.0 │               8379.0 │       0.0 │     0.0 │    0.0 │    303.0 │  75705.0 │     0.0 │       96.0 │      0.0 │           0.0 │     0.0 │ 4416.0 │          0.0 │       0.0 │    180924.0 │ 2162445.0 │  0.14693090460104188 │  0.4744407372210623 │ Kâğıthane                      │ Kagithane                      │ 1792526380 │  41.0719 │  28.9664 │ Turkey         │ TR      │ TUR     │ İstanbul                       │ NULL    │   437026.0 │ Asia          │         30 │ urban centre           │      5.25 │   2.28 │       6.49 │   5.35 │   2.89 │    4.78 │ parking_lot              │  4.992514299760415 │ 3305496312.0 │  9652648620.0 │    0.0 │ 1064649170                                              │ true    │ NULL    │ Vatan Caddesi             │ primary_link         │ drive        │ NULL     │ NULL     │             52.477 │  9652648620.0 │ 3305496312.0 │ NULL        │ NULL             │ NULL     │ NULL    │ NULL    │ NULL       │ NULL    │ NULL      │ False         │\n",
       "│ 76d626f1-76f4-4903-bb54-4fa3fcdd2502 │ Mapillary │ 1340438986352862 │ false   │ dusk/dawn          │ false       │ driving surface │ slightly poor │ true       │ front/back     │ rainy   │   55.75229619788689 │   37.62447237968445 │ 2019-12-12 06:01:50.023 │  2019 │    12 │    12 │     9 │ 3840.0 │ 2160.0 │    256.49756073101 │ perspective     │  95.30265960906377 │  63.35958693585384 │             11 │ ii41i4m57ifhl7j306ye36 │                 32 │    0.0 │           0.0 │  10488.0 │   4746.0 │        0.0 │      0.0 │  43293.0 │       0.0 │               0.0 │      0.0 │     0.0 │             0.0 │        0.0 │   81699.0 │          0.0 │  65151.0 │      0.0 │  325245.0 │    0.0 │     0.0 │       0.0 │          0.0 │         0.0 │                   1125.0 │                  477.0 │      0.0 │    0.0 │  330405.0 │    0.0 │      0.0 │   158949.0 │    0.0 │    0.0 │     0.0 │       0.0 │    6474.0 │         0.0 │         0.0 │          0.0 │          0.0 │     0.0 │     0.0 │         0.0 │     0.0 │          0.0 │ 37446.0 │                0.0 │       1872.0 │         945.0 │              3564.0 │              21600.0 │    4830.0 │     0.0 │    0.0 │   2100.0 │  39504.0 │     0.0 │        0.0 │      0.0 │           0.0 │     0.0 │   63.0 │          0.0 │    2130.0 │   1141473.0 │ 2283579.0 │  0.06960521181881599 │ 0.14468735261622218 │ Moscow                         │ Moscow                         │ 1643318494 │  55.7558 │  37.6178 │ Russia         │ RU      │ RUS     │ Moskva                         │ primary │ 17693000.0 │ Europe        │         30 │ urban centre           │      2.36 │   1.16 │        5.4 │   7.45 │   5.72 │    5.94 │ street                   │ 1.3260059431508788 │ 5138643344.0 │  5152834224.0 │    0.0 │ 530705752                                               │ false   │ 2       │ улица Варварка            │ footway              │ walk         │ 30       │ NULL     │              7.106 │  5152834224.0 │ 5138643344.0 │ NULL        │ yes              │ NULL     │ NULL    │ NULL    │ NULL       │ NULL    │ NULL      │ False         │\n",
       "│ 78e38952-2012-4e1c-93a1-57b038827b3c │ Mapillary │  536823617564231 │ false   │ day                │ false       │ driving surface │ good          │ false      │ front/back     │ rainy   │    55.7630210283821 │   37.63514220714569 │ 2021-04-26 02:16:48.699 │  2021 │     4 │    26 │     5 │ 3840.0 │ 2160.0 │    214.56498718262 │ perspective     │ 59.692081903031976 │  35.77469215612341 │            104 │ mczq048ghjpf1h4a8x7ejp │                 51 │    0.0 │           0.0 │  39510.0 │      0.0 │        0.0 │      0.0 │      0.0 │       0.0 │               0.0 │   5505.0 │     0.0 │             0.0 │        0.0 │  217326.0 │          0.0 │ 124092.0 │      0.0 │  867513.0 │    0.0 │  7032.0 │       0.0 │          0.0 │         0.0 │                   4482.0 │                 4569.0 │      0.0 │    0.0 │   70248.0 │    0.0 │      0.0 │        0.0 │    0.0 │    0.0 │     0.0 │       0.0 │   19476.0 │         0.0 │         0.0 │          0.0 │          0.0 │     0.0 │     0.0 │         0.0 │     0.0 │          0.0 │ 31404.0 │                0.0 │          0.0 │           0.0 │                 0.0 │               1815.0 │       0.0 │     0.0 │    0.0 │      0.0 │   1392.0 │     0.0 │        0.0 │      0.0 │           0.0 │     0.0 │    0.0 │          0.0 │       0.0 │    940332.0 │ 2334696.0 │                  0.0 │ 0.03008871390536498 │ Moscow                         │ Moscow                         │ 1643318494 │  55.7558 │  37.6178 │ Russia         │ RU      │ RUS     │ Moskva                         │ primary │ 17693000.0 │ Europe        │         30 │ urban centre           │      5.78 │   1.19 │       7.69 │   8.16 │   6.04 │    4.04 │ street                   │ 2.8715347757805056 │ 1866421269.0 │  2293454530.0 │    0.0 │ 243438172                                               │ false   │ 2       │ Мясницкая улица           │ footway              │ walk         │ RU:urban │ NULL     │             23.903 │  2293454530.0 │ 1866421269.0 │ NULL        │ building_passage │ NULL     │ NULL    │ NULL    │ 3.5        │ NULL    │ NULL      │ True          │\n",
       "│ 790bf608-58a6-4f3a-90e5-ab72d09eb16e │ Mapillary │  181692517055286 │ false   │ day                │ false       │ driving surface │ good          │ false      │ side           │ clear   │  25.669901382885527 │ -100.30282616615295 │ 2020-02-27 17:08:15.59  │  2020 │     2 │    27 │    11 │ 3840.0 │ 2160.0 │    182.95411385817 │ fisheye         │  94.02284400558943 │   62.2176397518268 │             43 │ hnjxzau4m4gx76pzi1xvgf │                112 │    0.0 │           0.0 │ 121155.0 │ 733287.0 │        0.0 │      0.0 │  23883.0 │       0.0 │               0.0 │      0.0 │     0.0 │             0.0 │        0.0 │  340365.0 │          0.0 │ 119100.0 │      0.0 │   51147.0 │    0.0 │     0.0 │       0.0 │          0.0 │         0.0 │                      0.0 │                    0.0 │      0.0 │    0.0 │  515337.0 │    0.0 │   7212.0 │   174498.0 │    0.0 │    0.0 │     0.0 │       0.0 │       0.0 │         0.0 │         0.0 │          0.0 │          0.0 │     0.0 │     0.0 │         0.0 │     0.0 │          0.0 │ 31806.0 │                0.0 │      86856.0 │           0.0 │                 0.0 │              11274.0 │       0.0 │     0.0 │    0.0 │      0.0 │  13614.0 │     0.0 │        0.0 │      0.0 │           0.0 │     0.0 │    0.0 │          0.0 │       0.0 │         0.0 │ 2229534.0 │  0.07826657947355815 │ 0.23114112635196413 │ Monterrey                      │ Monterrey                      │ 1484559591 │  25.6667 │   -100.3 │ Mexico         │ MX      │ MEX     │ Nuevo León                     │ admin   │  1135512.0 │ North America │         21 │ suburban or peri-urban │       4.2 │   6.57 │       7.12 │   2.67 │    2.6 │    1.92 │ plaza                    │ 0.9996344937098076 │  932348867.0 │   932348869.0 │    0.0 │ 206301492                                               │ true    │ NULL    │ Calle Juan Ignacio Ramón  │ residential          │ drive        │ NULL     │ NULL     │            127.891 │   932348867.0 │  932348869.0 │ NULL        │ NULL             │ NULL     │ NULL    │ NULL    │ NULL       │ NULL    │ NULL      │ False         │\n",
       "│ 1cddd0c5-1e4a-4484-b920-e6bad393f080 │ Mapillary │  942164439661232 │ false   │ day                │ false       │ driving surface │ good          │ false      │ front/back     │ cloudy  │  35.832692804624344 │  139.86320972442627 │ 2021-06-17 03:01:28.02  │  2021 │     6 │    17 │    12 │ 3840.0 │ 2160.0 │  312.7346496582031 │ perspective     │   71.1706665541015 │  43.84884990294299 │             81 │ iBlITxHdKUWZbGc65X0uVC │                117 │    0.0 │           0.0 │      0.0 │  12690.0 │    19317.0 │ 175893.0 │ 164673.0 │       0.0 │               0.0 │      0.0 │     0.0 │             0.0 │        0.0 │  369849.0 │       1266.0 │      0.0 │  18549.0 │   12507.0 │    0.0 │     0.0 │       0.0 │          0.0 │         0.0 │                      0.0 │                77091.0 │      0.0 │    0.0 │ 1317273.0 │    0.0 │   1740.0 │    14862.0 │    0.0 │    0.0 │     0.0 │       0.0 │       0.0 │         0.0 │         0.0 │          0.0 │          0.0 │     0.0 │     0.0 │         0.0 │     0.0 │        963.0 │ 26799.0 │                0.0 │          0.0 │           0.0 │              5277.0 │              49668.0 │       0.0 │     0.0 │    0.0 │      0.0 │  26034.0 │     0.0 │        0.0 │      0.0 │           0.0 │     0.0 │ 8748.0 │          0.0 │       0.0 │         0.0 │ 2303199.0 │ 0.006452764177129288 │  0.5719319086192726 │ Misato                         │ Misato                         │ 1392464033 │  35.8303 │ 139.8725 │ Japan          │ JP      │ JPN     │ Chiba                          │ NULL    │   141913.0 │ Asia          │         30 │ urban centre           │      5.59 │   4.44 │       8.46 │   2.56 │   2.82 │    2.68 │ highway                  │ 0.4556128540946994 │  559397215.0 │  1781291508.0 │    0.0 │ [439262440, 491625693]                                  │ true    │ 1.0     │ 東京外環自動車道          │ motorway_link        │ drive        │ 40.0     │ NULL     │            380.305 │  1781291508.0 │  559397215.0 │ C3          │ NULL             │ yes      │ NULL    │ NULL    │ NULL       │ NULL    │ NULL      │ False         │\n",
       "│ 2041a263-fb01-4519-bbb2-e0d27c8d3471 │ Mapillary │ 1151717238659896 │ true    │ night              │ false       │ driving surface │ slightly poor │ true       │ front/back     │ clear   │   55.76089621885862 │   37.62717604637146 │ 2019-12-22 19:30:49.989 │  2019 │    12 │    22 │    22 │ 3840.0 │ 2160.0 │     26.79239205174 │ fisheye         │   95.6129421926535 │  63.63853173426198 │              0 │ eek3bb10wff9fam4lv1kjh │                 66 │    0.0 │           0.0 │      0.0 │      0.0 │        0.0 │      0.0 │      0.0 │       0.0 │               0.0 │      0.0 │     0.0 │             0.0 │        0.0 │  355566.0 │          0.0 │  19164.0 │      0.0 │  885723.0 │    0.0 │  1497.0 │       0.0 │          0.0 │         0.0 │                   7635.0 │                21297.0 │      0.0 │    0.0 │  138252.0 │    0.0 │      0.0 │        0.0 │    0.0 │    0.0 │     0.0 │       0.0 │   33513.0 │         0.0 │         0.0 │          0.0 │          0.0 │     0.0 │     0.0 │         0.0 │     0.0 │       5286.0 │  6027.0 │                0.0 │          0.0 │        2676.0 │                 0.0 │                297.0 │       0.0 │     0.0 │    0.0 │      0.0 │   6618.0 │     0.0 │        0.0 │      0.0 │           0.0 │     0.0 │    0.0 │          0.0 │       0.0 │    781581.0 │ 2265132.0 │                  0.0 │ 0.06103485359793601 │ Moscow                         │ Moscow                         │ 1643318494 │  55.7558 │  37.6178 │ Russia         │ RU      │ RUS     │ Moskva                         │ primary │ 17693000.0 │ Europe        │         30 │ urban centre           │      5.22 │   0.91 │       4.18 │   3.72 │   6.47 │    5.83 │ airport_terminal         │  3.239176215713849 │ 1475286211.0 │  1475286217.0 │    0.0 │ 88442561                                                │ false   │ 2       │ улица Большая Лубянка     │ footway              │ walk         │ RU:urban │ NULL     │            106.627 │  1475286217.0 │ 1475286211.0 │ NULL        │ NULL             │ NULL     │ NULL    │ NULL    │ NULL       │ NULL    │ NULL      │ True          │\n",
       "│ 5dbd6da8-890e-4ad0-b8dd-1026d12e72d0 │ Mapillary │  923377301539050 │ false   │ day                │ false       │ driving surface │ good          │ false      │ front/back     │ cloudy  │  -23.21059976540644 │  -47.52167344093323 │ 2020-12-25 12:59:45.189 │  2020 │    12 │    25 │     9 │ 3840.0 │ 2160.0 │    295.00028323312 │ fisheye         │  93.57415398181912 │  61.82052768158832 │             79 │ z4xwjexspr8sdedgmd4sn4 │                120 │    0.0 │           0.0 │  18186.0 │   3195.0 │        0.0 │      0.0 │   7278.0 │       0.0 │               0.0 │   3753.0 │     0.0 │             0.0 │        0.0 │  159897.0 │          0.0 │  34248.0 │      0.0 │  655461.0 │    0.0 │   639.0 │       0.0 │          0.0 │         0.0 │                  61704.0 │                 3474.0 │      0.0 │    0.0 │ 1027674.0 │    0.0 │      0.0 │    45492.0 │    0.0 │    0.0 │     0.0 │       0.0 │   36348.0 │         0.0 │         0.0 │          0.0 │          0.0 │     0.0 │     0.0 │         0.0 │     0.0 │          0.0 │ 16482.0 │                0.0 │       8079.0 │           0.0 │                 0.0 │               1311.0 │       0.0 │     0.0 │    0.0 │      0.0 │      0.0 │     0.0 │        0.0 │      0.0 │           0.0 │     0.0 │    0.0 │          0.0 │       0.0 │    234192.0 │ 2317413.0 │  0.01963051040103771 │ 0.44345742429165624 │ Porto Feliz                    │ Porto Feliz                    │ 1076231459 │  -23.215 │ -47.5239 │ Brazil         │ BR      │ BRA     │ São Paulo                      │ NULL    │    51928.0 │ South America │         23 │ dense urban cluster    │       2.9 │   4.63 │       7.56 │   5.76 │   5.11 │    0.98 │ medina                   │ 1.3705099519970274 │ 1930901162.0 │  4282862504.0 │    0.0 │ 198117366                                               │ true    │ NULL    │ Rua Candido Motta         │ tertiary             │ drive        │ NULL     │ NULL     │             51.909 │  1930901162.0 │ 4282862504.0 │ NULL        │ NULL             │ NULL     │ NULL    │ NULL    │ NULL       │ NULL    │ NULL      │ False         │\n",
       "├──────────────────────────────────────┴───────────┴──────────────────┴─────────┴────────────────────┴─────────────┴─────────────────┴───────────────┴────────────┴────────────────┴─────────┴─────────────────────┴─────────────────────┴─────────────────────────┴───────┴───────┴───────┴───────┴────────┴────────┴────────────────────┴─────────────────┴────────────────────┴────────────────────┴────────────────┴────────────────────────┴────────────────────┴────────┴───────────────┴──────────┴──────────┴────────────┴──────────┴──────────┴───────────┴───────────────────┴──────────┴─────────┴─────────────────┴────────────┴───────────┴──────────────┴──────────┴──────────┴───────────┴────────┴─────────┴───────────┴──────────────┴─────────────┴──────────────────────────┴────────────────────────┴──────────┴────────┴───────────┴────────┴──────────┴────────────┴────────┴────────┴─────────┴───────────┴───────────┴─────────────┴─────────────┴──────────────┴──────────────┴─────────┴─────────┴─────────────┴─────────┴──────────────┴─────────┴────────────────────┴──────────────┴───────────────┴─────────────────────┴──────────────────────┴───────────┴─────────┴────────┴──────────┴──────────┴─────────┴────────────┴──────────┴───────────────┴─────────┴────────┴──────────────┴───────────┴─────────────┴───────────┴──────────────────────┴─────────────────────┴────────────────────────────────┴────────────────────────────────┴────────────┴──────────┴──────────┴────────────────┴─────────┴─────────┴────────────────────────────────┴─────────┴────────────┴───────────────┴────────────┴────────────────────────┴───────────┴────────┴────────────┴────────┴────────┴─────────┴──────────────────────────┴────────────────────┴──────────────┴───────────────┴────────┴─────────────────────────────────────────────────────────┴─────────┴─────────┴───────────────────────────┴──────────────────────┴──────────────┴──────────┴──────────┴────────────────────┴───────────────┴──────────────┴─────────────┴──────────────────┴──────────┴─────────┴─────────┴────────────┴─────────┴───────────┴───────────────┤\n",
       "│ ? rows (>9999 rows, 20 shown)                                                                                                                                                                                                                                                                                                                                                                                                                                                                                                                                                                                                                                                                                                                                                                                                                                                                                                                                                                                                                                                                                                                                                                                                                                                                                                                                                                                                                                                                                                                                                                                                                                                                                                                                                                                                                                                                                                                                                                                                                                                                                                                         140 columns │\n",
       "└───────────────────────────────────────────────────────────────────────────────────────────────────────────────────────────────────────────────────────────────────────────────────────────────────────────────────────────────────────────────────────────────────────────────────────────────────────────────────────────────────────────────────────────────────────────────────────────────────────────────────────────────────────────────────────────────────────────────────────────────────────────────────────────────────────────────────────────────────────────────────────────────────────────────────────────────────────────────────────────────────────────────────────────────────────────────────────────────────────────────────────────────────────────────────────────────────────────────────────────────────────────────────────────────────────────────────────────────────────────────────────────────────────────────────────────────────────────────────────────────────────────────────────────────────────────────────────────────────────────────────────────────────────────────────────────────────────────────────────────────────────────────────────────────────────────────────────────────────────────────────────────────────────────────────────────────────────────────────────────────────────────────────────────────────────────────────────────────────────────────────────────────────────────────────────────────────────────────────────────────────────────────────────────────────────────────────────────────────────────────────────────────────────────────────────────────────────────────────────────────────────────────────────────────────────────────────────────────────────────────────────────────────────────────────────────────────────────────────────────────────────────────────────────────────────────────────────────────────────────────────────────────────────────────────────────────────────────────────────────────────────────────────────────────────────────────────────────────────────────────────────────────────────────────────────────────────────────────────────────────────┘"
      ]
     },
     "execution_count": 7,
     "metadata": {},
     "output_type": "execute_result"
    }
   ],
   "source": [
    "# Let's inspect the new file to see if the join has worked\n",
    "duckdb.sql(f\"SELECT * FROM '{conf.DATA_DIR}/data/streetscapes.parquet'\")"
   ]
  },
  {
   "cell_type": "markdown",
   "metadata": {},
   "source": [
    "For some usecases it might be more convenient to select certain columns from different files into a single table. This can be achieved in a similar manner to the previous example. Here, we create a dictionary with the file names and columns we want to select. We also need to specify a column that is common to all files to join on. "
   ]
  },
  {
   "cell_type": "code",
   "execution_count": 8,
   "metadata": {},
   "outputs": [
    {
     "data": {
      "application/vnd.jupyter.widget-view+json": {
       "model_id": "95300cf701d94751beef686069467bdc",
       "version_major": 2,
       "version_minor": 0
      },
      "text/plain": [
       "FloatProgress(value=0.0, layout=Layout(width='auto'), style=ProgressStyle(bar_color='black'))"
      ]
     },
     "metadata": {},
     "output_type": "display_data"
    },
    {
     "data": {
      "application/vnd.jupyter.widget-view+json": {
       "model_id": "a6fc10b8370147a7bbd115e02620a465",
       "version_major": 2,
       "version_minor": 0
      },
      "text/plain": [
       "FloatProgress(value=0.0, layout=Layout(width='auto'), style=ProgressStyle(bar_color='black'))"
      ]
     },
     "metadata": {},
     "output_type": "display_data"
    },
    {
     "data": {
      "application/vnd.jupyter.widget-view+json": {
       "model_id": "19722e5afc22436e88d30e88b0818523",
       "version_major": 2,
       "version_minor": 0
      },
      "text/plain": [
       "FloatProgress(value=0.0, layout=Layout(width='auto'), style=ProgressStyle(bar_color='black'))"
      ]
     },
     "metadata": {},
     "output_type": "display_data"
    },
    {
     "data": {
      "application/vnd.jupyter.widget-view+json": {
       "model_id": "221e7eea11bb46f1b16c5edc1afe895e",
       "version_major": 2,
       "version_minor": 0
      },
      "text/plain": [
       "FloatProgress(value=0.0, layout=Layout(width='auto'), style=ProgressStyle(bar_color='black'))"
      ]
     },
     "metadata": {},
     "output_type": "display_data"
    },
    {
     "data": {
      "application/vnd.jupyter.widget-view+json": {
       "model_id": "461723150a314dd6837e158d1574435c",
       "version_major": 2,
       "version_minor": 0
      },
      "text/plain": [
       "FloatProgress(value=0.0, layout=Layout(width='auto'), style=ProgressStyle(bar_color='black'))"
      ]
     },
     "metadata": {},
     "output_type": "display_data"
    },
    {
     "data": {
      "application/vnd.jupyter.widget-view+json": {
       "model_id": "69d05ad854dc4ddcbf524416be498b6c",
       "version_major": 2,
       "version_minor": 0
      },
      "text/plain": [
       "FloatProgress(value=0.0, layout=Layout(width='auto'), style=ProgressStyle(bar_color='black'))"
      ]
     },
     "metadata": {},
     "output_type": "display_data"
    },
    {
     "data": {
      "application/vnd.jupyter.widget-view+json": {
       "model_id": "42ca8be70a6248ddb5f7efd2f16de8f0",
       "version_major": 2,
       "version_minor": 0
      },
      "text/plain": [
       "FloatProgress(value=0.0, layout=Layout(width='auto'), style=ProgressStyle(bar_color='black'))"
      ]
     },
     "metadata": {},
     "output_type": "display_data"
    },
    {
     "data": {
      "application/vnd.jupyter.widget-view+json": {
       "model_id": "3413cbaaf4f4423d8d6615170ea9d9fe",
       "version_major": 2,
       "version_minor": 0
      },
      "text/plain": [
       "FloatProgress(value=0.0, layout=Layout(width='auto'), style=ProgressStyle(bar_color='black'))"
      ]
     },
     "metadata": {},
     "output_type": "display_data"
    }
   ],
   "source": [
    "# Create dictionary choosing files and columns\n",
    "selection = {\n",
    "    \"contextual\": ['UUID', 'source', 'orig_id'],\n",
    "    \"osm\": ['UUID', 'road_width', 'type_highway'],\n",
    "    \"simplemaps\": ['UUID', 'city'],\n",
    "    \"metadata_common_attributes\": ['UUID', 'lat', 'lon']\n",
    "}\n",
    "\n",
    "with duckdb.connect(\"duck.db\", config={'threads': 1}) as con:\n",
    "    # Load each dataset onto disk from the each file\n",
    "    for file, columns in selection.items():\n",
    "        col_str = ', '.join(columns) \n",
    "        con.sql(f\"CREATE TABLE {file} AS SELECT {col_str} FROM '{conf.DATA_DIR}/data/{file}.parquet'\")\n",
    "\n",
    "    # Perform the joins.\n",
    "    items = list(selection.items())\n",
    "    for i, (file, columns) in enumerate(items[:-1]):\n",
    "        # Join the tables one by one and store intermediate results in separate tables\n",
    "        j = i + 1\n",
    "        target = file if i==0 else f\"step{i}\"\n",
    "        next_file = items[j][0]\n",
    "        con.sql(f\"CREATE TABLE step{j} AS SELECT * FROM {target} JOIN {next_file} USING (UUID)\")     \n",
    "\n",
    "    # Finally, we can export the joined table to a new parquet file\n",
    "    con.sql(f\"COPY step{i} TO '{conf.DATA_DIR}/data/combined.parquet' (FORMAT 'parquet', COMPRESSION 'zstd')\")\n",
    "\n",
    "os.remove(\"duck.db\")"
   ]
  },
  {
   "cell_type": "code",
   "execution_count": 9,
   "metadata": {},
   "outputs": [
    {
     "data": {
      "text/plain": [
       "┌──────────────────────────────────────┬───────────┬──────────────────┬────────────┬──────────────┬──────────────┐\n",
       "│                 uuid                 │  source   │     orig_id      │ road_width │ type_highway │     city     │\n",
       "│               varchar                │  varchar  │      int64       │  varchar   │   varchar    │   varchar    │\n",
       "├──────────────────────────────────────┼───────────┼──────────────────┼────────────┼──────────────┼──────────────┤\n",
       "│ bc5862a5-5e4c-4f74-bdd5-598e140dbb8f │ Mapillary │  941074783267368 │ NULL       │ drive        │ Bogotá       │\n",
       "│ 4d445c9a-03e2-4dda-a494-caf907ad1620 │ Mapillary │ 2822175224761380 │ 12.2       │ walk         │ Berlin       │\n",
       "│ 57713c58-62b2-465b-9df3-087b6d970603 │ Mapillary │  387731282398462 │ NULL       │ walk         │ Washington   │\n",
       "│ 5ce677fe-1f66-4a6e-a162-88ff5d6cd80a │ Mapillary │ 4331166880261832 │ NULL       │ drive        │ Kuala Lumpur │\n",
       "│ 54fb768e-2864-4ed0-a658-e72f7a66cbc0 │ Mapillary │  808249360075988 │ NULL       │ drive        │ Luxembourg   │\n",
       "│ 2eab1b65-fc24-4c04-a1cd-8053488d3363 │ Mapillary │  509451426846513 │ 1.5        │ walk         │ Quito        │\n",
       "│ f6e0af2e-9fd5-48cc-ae0c-4b7f93c2e59c │ Mapillary │  812250723021100 │ NULL       │ walk         │ San José     │\n",
       "│ 68be1ea7-17dd-43e8-8237-9d21420bf7f9 │ Mapillary │  882089209046201 │ NULL       │ drive        │ Chisinau     │\n",
       "│ 3a999761-c4e5-473e-91b9-8718a0e042ef │ Mapillary │  225155698973449 │ NULL       │ drive        │ Athens       │\n",
       "│ ee6cffdc-02fe-4f25-96d9-7de6e7efb9f2 │ Mapillary │  853232441931152 │ NULL       │ drive        │ Pretoria     │\n",
       "│                  ·                   │     ·     │         ·        │  ·         │   ·          │  ·           │\n",
       "│                  ·                   │     ·     │         ·        │  ·         │   ·          │  ·           │\n",
       "│                  ·                   │     ·     │         ·        │  ·         │   ·          │  ·           │\n",
       "│ ccbf8735-9390-485c-80ab-5738ad536af4 │ Mapillary │  289968889470878 │ NULL       │ drive        │ Lima         │\n",
       "│ 1628ad57-618f-459c-b8be-3c5c985d117c │ Mapillary │  314850844066578 │ NULL       │ walk         │ Stockholm    │\n",
       "│ ec4885da-9479-48a9-b535-209466639ab1 │ Mapillary │ 3893013857487720 │ NULL       │ drive        │ Rabat        │\n",
       "│ 6c323249-12f0-4f22-9cba-7255f6447bd0 │ Mapillary │  298363169013359 │ NULL       │ drive        │ Doha         │\n",
       "│ 3a143bf9-d699-4888-a514-4e6f986e9922 │ Mapillary │ 5431888820215523 │ NULL       │ drive        │ Dushanbe     │\n",
       "│ 623b8dea-0a22-4c2a-9e83-8e64b1b726f9 │ Mapillary │  827663171199611 │ NULL       │ drive        │ Berlin       │\n",
       "│ d358eee9-8029-4270-a4fb-00a30dd5618a │ Mapillary │ 1263166274113421 │ NULL       │ drive        │ Taipei       │\n",
       "│ 3b58b6cb-8df0-409b-87e4-ae7a6b3283fa │ Mapillary │ 1721547711372505 │ 1.5        │ walk         │ Riga         │\n",
       "│ 5b0fac8d-ff82-4bd3-a145-3d64c86ef1e4 │ Mapillary │  476410333436610 │ NULL       │ NULL         │ Kuala Lumpur │\n",
       "│ 412405a7-d286-4448-9274-471c6d691c30 │ Mapillary │  472018337394268 │ NULL       │ drive        │ Chisinau     │\n",
       "├──────────────────────────────────────┴───────────┴──────────────────┴────────────┴──────────────┴──────────────┤\n",
       "│ ? rows (>9999 rows, 20 shown)                                                                        6 columns │\n",
       "└────────────────────────────────────────────────────────────────────────────────────────────────────────────────┘"
      ]
     },
     "execution_count": 9,
     "metadata": {},
     "output_type": "execute_result"
    }
   ],
   "source": [
    "# Let's inspect the new file to see if the join has worked\n",
    "duckdb.sql(f\"SELECT * FROM '{conf.DATA_DIR}/data/combined.parquet'\")"
   ]
  },
  {
   "cell_type": "markdown",
   "metadata": {},
   "source": [
    "We are in touch with the developers of the original Open Streetscapes dataset to add these parquet files to the dataset on huggingface."
   ]
  }
 ],
 "metadata": {
  "kernelspec": {
   "display_name": ".venv",
   "language": "python",
   "name": "python3"
  },
  "language_info": {
   "codemirror_mode": {
    "name": "ipython",
    "version": 3
   },
   "file_extension": ".py",
   "mimetype": "text/x-python",
   "name": "python",
   "nbconvert_exporter": "python",
   "pygments_lexer": "ipython3",
   "version": "3.13.0"
  }
 },
 "nbformat": 4,
 "nbformat_minor": 2
}
