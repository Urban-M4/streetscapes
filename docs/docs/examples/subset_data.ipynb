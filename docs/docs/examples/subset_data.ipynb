{
 "cells": [
  {
   "cell_type": "markdown",
   "metadata": {},
   "source": [
    "## Create a subset of global-streetscapes dataset"
   ]
  },
  {
   "cell_type": "code",
   "execution_count": 1,
   "metadata": {},
   "outputs": [],
   "source": [
    "# --------------------------------------\n",
    "import warnings\n",
    "\n",
    "warnings.filterwarnings(\"ignore\")\n",
    "\n",
    "# --------------------------------------\n",
    "import ibis\n",
    "ibis.options.interactive = True\n",
    "\n",
    "# --------------------------------------\n",
    "import streetscapes as scs"
   ]
  },
  {
   "cell_type": "markdown",
   "metadata": {},
   "source": [
    "### Create or load the subset"
   ]
  },
  {
   "cell_type": "code",
   "execution_count": null,
   "metadata": {},
   "outputs": [],
   "source": [
    "# Directory containing CSV files\n",
    "data_dir = scs.conf.CSV_DIR\n",
    "\n",
    "# Directory containing Parquet files\n",
    "parquet_dir = scs.conf.PARQUET_DIR\n",
    "\n",
    "# Name of the subset to create\n",
    "subset = \"amsterdam_side\""
   ]
  },
  {
   "cell_type": "markdown",
   "metadata": {},
   "source": [
    "Load the entire dataset. We are going to progressively extract subsets from it below."
   ]
  },
  {
   "cell_type": "code",
   "execution_count": null,
   "metadata": {},
   "outputs": [],
   "source": [
    "df_all = scs.load_subset()"
   ]
  },
  {
   "cell_type": "markdown",
   "metadata": {},
   "source": [
    "### Subset dataset\n",
    "\n",
    "In this case we are choosing images of Amsterdam, during the day with a viewing direction from the side. First, we filter by city."
   ]
  },
  {
   "cell_type": "code",
   "execution_count": null,
   "metadata": {},
   "outputs": [],
   "source": [
    "df_ams = df_all[df_all[\"city\"] == \"Amsterdam\"]"
   ]
  },
  {
   "cell_type": "markdown",
   "metadata": {},
   "source": [
    "Show a data excerpt."
   ]
  },
  {
   "cell_type": "code",
   "execution_count": null,
   "metadata": {},
   "outputs": [],
   "source": [
    "df_ams.head()"
   ]
  },
  {
   "cell_type": "markdown",
   "metadata": {},
   "source": [
    "Filter the remainder by lighting condition. First, we check what options there are in the data."
   ]
  },
  {
   "cell_type": "code",
   "execution_count": null,
   "metadata": {},
   "outputs": [],
   "source": [
    "df_ams[[\"lighting_condition\"]].distinct()"
   ]
  },
  {
   "cell_type": "markdown",
   "metadata": {},
   "source": [
    "Filter by lighting condition (here, we use `day`)."
   ]
  },
  {
   "cell_type": "code",
   "execution_count": null,
   "metadata": {},
   "outputs": [],
   "source": [
    "df_day = df_ams[df_ams[\"lighting_condition\"] == \"day\"]\n",
    "df_day.columns"
   ]
  },
  {
   "cell_type": "markdown",
   "metadata": {},
   "source": [
    "Finally, filter by view direction (we use `side` here)."
   ]
  },
  {
   "cell_type": "code",
   "execution_count": null,
   "metadata": {},
   "outputs": [],
   "source": [
    "df_side = df_day[df_day[\"view_direction\"] == \"side\"]\n",
    "df_side.columns"
   ]
  },
  {
   "cell_type": "markdown",
   "metadata": {},
   "source": [
    "Check how many rows are left after filtering."
   ]
  },
  {
   "cell_type": "code",
   "execution_count": null,
   "metadata": {},
   "outputs": [],
   "source": [
    "df_side.count()"
   ]
  },
  {
   "cell_type": "markdown",
   "metadata": {},
   "source": [
    "### Create dataframe to download images\n",
    "\n",
    "Only keep the information needed to download the images and save to a csv file. "
   ]
  },
  {
   "cell_type": "code",
   "execution_count": null,
   "metadata": {},
   "outputs": [],
   "source": [
    "df_to_download = df_side[[\"uuid\", \"source\", \"orig_id\"]]\n",
    "df_to_download.head()"
   ]
  },
  {
   "cell_type": "code",
   "execution_count": null,
   "metadata": {},
   "outputs": [],
   "source": [
    "df_to_download.to_parquet(parquet_dir / f\"{subset}.parquet\")"
   ]
  },
  {
   "cell_type": "code",
   "execution_count": null,
   "metadata": {},
   "outputs": [],
   "source": [
    "df_ams = ibis.read_parquet(parquet_dir / f\"{subset}.parquet\")"
   ]
  },
  {
   "cell_type": "code",
   "execution_count": null,
   "metadata": {},
   "outputs": [],
   "source": [
    "df_ams.head()"
   ]
  },
  {
   "cell_type": "markdown",
   "metadata": {},
   "source": [
    "We can achieve the same outcome by using a Streetscapes function. For now, we can specify basic conditions using the `operator` module, such as `equal to` (`operator.eq`), `greater / less than` (`operator.gt` / `operator.lt`) and so forth. A missing operator is implicitly interpreted as `operator.eq`. We are working on more sophisticated filtering options."
   ]
  },
  {
   "cell_type": "code",
   "execution_count": null,
   "metadata": {},
   "outputs": [],
   "source": [
    "# Define the criteria for creating the subset\n",
    "criteria = {\n",
    "    \"city\": \"Amsterdam\", # Equivalent to \"city\": (operator.eq, \"Amsterdam\")\n",
    "    \"view_direction\": \"side\",\n",
    "    \"lighting_condition\": \"day\",\n",
    "}\n",
    "\n",
    "# Define the columns to keep in the subset\n",
    "columns = [\"uuid\", \"source\", \"orig_id\", \"lat\", \"lon\"]\n",
    "\n",
    "# Create or load the subset\n",
    "df_city = scs.load_subset(\n",
    "    subset,\n",
    "    criteria=criteria,\n",
    "    columns=columns,\n",
    "    recreate=True,\n",
    "    save=False,\n",
    ")"
   ]
  },
  {
   "cell_type": "markdown",
   "metadata": {},
   "source": [
    "Make sure that the number of columns match what we obtained above."
   ]
  },
  {
   "cell_type": "code",
   "execution_count": null,
   "metadata": {},
   "outputs": [],
   "source": [
    "df_city.count()"
   ]
  },
  {
   "cell_type": "markdown",
   "metadata": {},
   "source": [
    "Show a data excerpt."
   ]
  },
  {
   "cell_type": "code",
   "execution_count": null,
   "metadata": {},
   "outputs": [],
   "source": [
    "df_city.head()"
   ]
  }
 ],
 "metadata": {
  "kernelspec": {
   "display_name": "streetscapes",
   "language": "python",
   "name": "python3"
  },
  "language_info": {
   "codemirror_mode": {
    "name": "ipython",
    "version": 3
   },
   "file_extension": ".py",
   "mimetype": "text/x-python",
   "name": "python",
   "nbconvert_exporter": "python",
   "pygments_lexer": "ipython3",
   "version": "3.12.8"
  }
 },
 "nbformat": 4,
 "nbformat_minor": 2
}
