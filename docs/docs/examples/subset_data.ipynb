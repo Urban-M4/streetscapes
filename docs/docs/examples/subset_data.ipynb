{
 "cells": [
  {
   "cell_type": "markdown",
   "metadata": {},
   "source": [
    "## Create a subset of global-streetscapes dataset"
   ]
  },
  {
   "cell_type": "code",
   "execution_count": 3,
   "metadata": {},
   "outputs": [],
   "source": [
    "# --------------------------------------\n",
    "import warnings\n",
    "\n",
    "warnings.filterwarnings(\"ignore\")\n",
    "\n",
    "# --------------------------------------\n",
    "import streetscapes as scs"
   ]
  },
  {
   "cell_type": "markdown",
   "metadata": {},
   "source": [
    "### Load dataset"
   ]
  },
  {
   "cell_type": "code",
   "execution_count": 4,
   "metadata": {},
   "outputs": [],
   "source": [
    "# Directory containing CSV files\n",
    "data_dir = scs.conf.DATA_DIR / \"data\"\n",
    "\n",
    "# Directory containing Parquet files\n",
    "parquet_dir = data_dir / \"parquet\""
   ]
  },
  {
   "cell_type": "code",
   "execution_count": 5,
   "metadata": {},
   "outputs": [
    {
     "name": "stdout",
     "output_type": "stream",
     "text": [
      "\u001b[35mStreetscapes\u001b[0m | \u001b[36m2025-02-19@15:33:45\u001b[0m | \u001b[1mLoading 'Amsterdam.parquet'...\u001b[0m\n"
     ]
    }
   ],
   "source": [
    "df_city = scs.load_city_subset(\"Amsterdam\")"
   ]
  },
  {
   "cell_type": "code",
   "execution_count": 9,
   "metadata": {},
   "outputs": [
    {
     "data": {
      "text/html": [
       "<div>\n",
       "<style scoped>\n",
       "    .dataframe tbody tr th:only-of-type {\n",
       "        vertical-align: middle;\n",
       "    }\n",
       "\n",
       "    .dataframe tbody tr th {\n",
       "        vertical-align: top;\n",
       "    }\n",
       "\n",
       "    .dataframe thead th {\n",
       "        text-align: right;\n",
       "    }\n",
       "</style>\n",
       "<table border=\"1\" class=\"dataframe\">\n",
       "  <thead>\n",
       "    <tr style=\"text-align: right;\">\n",
       "      <th></th>\n",
       "      <th>uuid</th>\n",
       "      <th>source</th>\n",
       "      <th>orig_id</th>\n",
       "      <th>lat</th>\n",
       "      <th>lon</th>\n",
       "      <th>datetime_local</th>\n",
       "      <th>year</th>\n",
       "      <th>month</th>\n",
       "      <th>day</th>\n",
       "      <th>hour</th>\n",
       "      <th>...</th>\n",
       "      <th>city_id</th>\n",
       "      <th>city_lat</th>\n",
       "      <th>city_lon</th>\n",
       "      <th>country</th>\n",
       "      <th>iso2</th>\n",
       "      <th>iso3</th>\n",
       "      <th>admin_name</th>\n",
       "      <th>capital</th>\n",
       "      <th>population</th>\n",
       "      <th>continent</th>\n",
       "    </tr>\n",
       "  </thead>\n",
       "  <tbody>\n",
       "    <tr>\n",
       "      <th>1889009</th>\n",
       "      <td>19c6e51e-fe64-4756-895d-7758889dbbd1</td>\n",
       "      <td>Mapillary</td>\n",
       "      <td>793569314897389</td>\n",
       "      <td>52.367188</td>\n",
       "      <td>4.893492</td>\n",
       "      <td>2020-09-20 12:43:12+02:00</td>\n",
       "      <td>2020</td>\n",
       "      <td>9</td>\n",
       "      <td>20</td>\n",
       "      <td>12</td>\n",
       "      <td>...</td>\n",
       "      <td>1528355309</td>\n",
       "      <td>52.3667</td>\n",
       "      <td>4.8833</td>\n",
       "      <td>Netherlands</td>\n",
       "      <td>NL</td>\n",
       "      <td>NLD</td>\n",
       "      <td>Noord-Holland</td>\n",
       "      <td>primary</td>\n",
       "      <td>862965.0</td>\n",
       "      <td>Europe</td>\n",
       "    </tr>\n",
       "    <tr>\n",
       "      <th>1889010</th>\n",
       "      <td>580ce8e7-fbdb-45e6-971b-6d5b6523d0ef</td>\n",
       "      <td>Mapillary</td>\n",
       "      <td>500509417737025</td>\n",
       "      <td>52.373929</td>\n",
       "      <td>4.884667</td>\n",
       "      <td>2020-09-21 18:50:13+02:00</td>\n",
       "      <td>2020</td>\n",
       "      <td>9</td>\n",
       "      <td>21</td>\n",
       "      <td>18</td>\n",
       "      <td>...</td>\n",
       "      <td>1528355309</td>\n",
       "      <td>52.3667</td>\n",
       "      <td>4.8833</td>\n",
       "      <td>Netherlands</td>\n",
       "      <td>NL</td>\n",
       "      <td>NLD</td>\n",
       "      <td>Noord-Holland</td>\n",
       "      <td>primary</td>\n",
       "      <td>862965.0</td>\n",
       "      <td>Europe</td>\n",
       "    </tr>\n",
       "    <tr>\n",
       "      <th>1889011</th>\n",
       "      <td>db31e5bc-5180-4320-b267-04ba3da0a980</td>\n",
       "      <td>Mapillary</td>\n",
       "      <td>299548784985576</td>\n",
       "      <td>52.366510</td>\n",
       "      <td>4.882237</td>\n",
       "      <td>2016-08-16 09:28:19.737000+02:00</td>\n",
       "      <td>2016</td>\n",
       "      <td>8</td>\n",
       "      <td>16</td>\n",
       "      <td>9</td>\n",
       "      <td>...</td>\n",
       "      <td>1528355309</td>\n",
       "      <td>52.3667</td>\n",
       "      <td>4.8833</td>\n",
       "      <td>Netherlands</td>\n",
       "      <td>NL</td>\n",
       "      <td>NLD</td>\n",
       "      <td>Noord-Holland</td>\n",
       "      <td>primary</td>\n",
       "      <td>862965.0</td>\n",
       "      <td>Europe</td>\n",
       "    </tr>\n",
       "    <tr>\n",
       "      <th>1889012</th>\n",
       "      <td>642298a7-563e-4650-b308-5e4371238b84</td>\n",
       "      <td>Mapillary</td>\n",
       "      <td>300520878202732</td>\n",
       "      <td>52.367038</td>\n",
       "      <td>4.890080</td>\n",
       "      <td>2017-03-02 17:26:02+01:00</td>\n",
       "      <td>2017</td>\n",
       "      <td>3</td>\n",
       "      <td>2</td>\n",
       "      <td>17</td>\n",
       "      <td>...</td>\n",
       "      <td>1528355309</td>\n",
       "      <td>52.3667</td>\n",
       "      <td>4.8833</td>\n",
       "      <td>Netherlands</td>\n",
       "      <td>NL</td>\n",
       "      <td>NLD</td>\n",
       "      <td>Noord-Holland</td>\n",
       "      <td>primary</td>\n",
       "      <td>862965.0</td>\n",
       "      <td>Europe</td>\n",
       "    </tr>\n",
       "    <tr>\n",
       "      <th>1889013</th>\n",
       "      <td>32eeddbe-c4f0-4ac1-aff0-a0d19d258ae5</td>\n",
       "      <td>Mapillary</td>\n",
       "      <td>416737606538178</td>\n",
       "      <td>52.369855</td>\n",
       "      <td>4.892274</td>\n",
       "      <td>2022-05-03 15:48:18.941000+02:00</td>\n",
       "      <td>2022</td>\n",
       "      <td>5</td>\n",
       "      <td>3</td>\n",
       "      <td>15</td>\n",
       "      <td>...</td>\n",
       "      <td>1528355309</td>\n",
       "      <td>52.3667</td>\n",
       "      <td>4.8833</td>\n",
       "      <td>Netherlands</td>\n",
       "      <td>NL</td>\n",
       "      <td>NLD</td>\n",
       "      <td>Noord-Holland</td>\n",
       "      <td>primary</td>\n",
       "      <td>862965.0</td>\n",
       "      <td>Europe</td>\n",
       "    </tr>\n",
       "  </tbody>\n",
       "</table>\n",
       "<p>5 rows × 107 columns</p>\n",
       "</div>"
      ],
      "text/plain": [
       "                                         uuid     source          orig_id  \\\n",
       "1889009  19c6e51e-fe64-4756-895d-7758889dbbd1  Mapillary  793569314897389   \n",
       "1889010  580ce8e7-fbdb-45e6-971b-6d5b6523d0ef  Mapillary  500509417737025   \n",
       "1889011  db31e5bc-5180-4320-b267-04ba3da0a980  Mapillary  299548784985576   \n",
       "1889012  642298a7-563e-4650-b308-5e4371238b84  Mapillary  300520878202732   \n",
       "1889013  32eeddbe-c4f0-4ac1-aff0-a0d19d258ae5  Mapillary  416737606538178   \n",
       "\n",
       "               lat       lon                    datetime_local  year  month  \\\n",
       "1889009  52.367188  4.893492         2020-09-20 12:43:12+02:00  2020      9   \n",
       "1889010  52.373929  4.884667         2020-09-21 18:50:13+02:00  2020      9   \n",
       "1889011  52.366510  4.882237  2016-08-16 09:28:19.737000+02:00  2016      8   \n",
       "1889012  52.367038  4.890080         2017-03-02 17:26:02+01:00  2017      3   \n",
       "1889013  52.369855  4.892274  2022-05-03 15:48:18.941000+02:00  2022      5   \n",
       "\n",
       "         day  hour  ...     city_id  city_lat  city_lon      country  iso2  \\\n",
       "1889009   20    12  ...  1528355309   52.3667    4.8833  Netherlands    NL   \n",
       "1889010   21    18  ...  1528355309   52.3667    4.8833  Netherlands    NL   \n",
       "1889011   16     9  ...  1528355309   52.3667    4.8833  Netherlands    NL   \n",
       "1889012    2    17  ...  1528355309   52.3667    4.8833  Netherlands    NL   \n",
       "1889013    3    15  ...  1528355309   52.3667    4.8833  Netherlands    NL   \n",
       "\n",
       "         iso3     admin_name  capital  population continent  \n",
       "1889009   NLD  Noord-Holland  primary    862965.0    Europe  \n",
       "1889010   NLD  Noord-Holland  primary    862965.0    Europe  \n",
       "1889011   NLD  Noord-Holland  primary    862965.0    Europe  \n",
       "1889012   NLD  Noord-Holland  primary    862965.0    Europe  \n",
       "1889013   NLD  Noord-Holland  primary    862965.0    Europe  \n",
       "\n",
       "[5 rows x 107 columns]"
      ]
     },
     "execution_count": 9,
     "metadata": {},
     "output_type": "execute_result"
    }
   ],
   "source": [
    "df_city.head()"
   ]
  },
  {
   "cell_type": "markdown",
   "metadata": {},
   "source": [
    "### Subset dataset\n",
    "\n",
    "In this case we are choosing images of Amsterdam, during the day with a viewing direction from the side. "
   ]
  },
  {
   "cell_type": "code",
   "execution_count": 10,
   "metadata": {},
   "outputs": [
    {
     "data": {
      "text/plain": [
       "array(['day', 'dusk/dawn', 'night'], dtype=object)"
      ]
     },
     "execution_count": 10,
     "metadata": {},
     "output_type": "execute_result"
    }
   ],
   "source": [
    "df_city[\"lighting_condition\"].unique()"
   ]
  },
  {
   "cell_type": "code",
   "execution_count": 11,
   "metadata": {},
   "outputs": [
    {
     "data": {
      "text/plain": [
       "Index(['uuid', 'source', 'orig_id', 'lat', 'lon', 'datetime_local', 'year',\n",
       "       'month', 'day', 'hour',\n",
       "       ...\n",
       "       'city_id', 'city_lat', 'city_lon', 'country', 'iso2', 'iso3',\n",
       "       'admin_name', 'capital', 'population', 'continent'],\n",
       "      dtype='object', length=107)"
      ]
     },
     "execution_count": 11,
     "metadata": {},
     "output_type": "execute_result"
    }
   ],
   "source": [
    "df_day = df_city[df_city[\"lighting_condition\"] == \"day\"]\n",
    "df_day.columns"
   ]
  },
  {
   "cell_type": "code",
   "execution_count": 12,
   "metadata": {},
   "outputs": [
    {
     "data": {
      "text/plain": [
       "Index(['uuid', 'source', 'orig_id', 'lat', 'lon', 'datetime_local', 'year',\n",
       "       'month', 'day', 'hour',\n",
       "       ...\n",
       "       'city_id', 'city_lat', 'city_lon', 'country', 'iso2', 'iso3',\n",
       "       'admin_name', 'capital', 'population', 'continent'],\n",
       "      dtype='object', length=107)"
      ]
     },
     "execution_count": 12,
     "metadata": {},
     "output_type": "execute_result"
    }
   ],
   "source": [
    "df_side = df_day[df_day[\"view_direction\"] == \"side\"]\n",
    "df_side.columns"
   ]
  },
  {
   "cell_type": "markdown",
   "metadata": {},
   "source": [
    "### Create dataframe to download images\n",
    "\n",
    "Only keep the information needed to download the images and save to a csv file. "
   ]
  },
  {
   "cell_type": "code",
   "execution_count": 13,
   "metadata": {},
   "outputs": [
    {
     "data": {
      "text/html": [
       "<div>\n",
       "<style scoped>\n",
       "    .dataframe tbody tr th:only-of-type {\n",
       "        vertical-align: middle;\n",
       "    }\n",
       "\n",
       "    .dataframe tbody tr th {\n",
       "        vertical-align: top;\n",
       "    }\n",
       "\n",
       "    .dataframe thead th {\n",
       "        text-align: right;\n",
       "    }\n",
       "</style>\n",
       "<table border=\"1\" class=\"dataframe\">\n",
       "  <thead>\n",
       "    <tr style=\"text-align: right;\">\n",
       "      <th></th>\n",
       "      <th>uuid</th>\n",
       "      <th>source</th>\n",
       "      <th>orig_id</th>\n",
       "    </tr>\n",
       "  </thead>\n",
       "  <tbody>\n",
       "    <tr>\n",
       "      <th>1889019</th>\n",
       "      <td>87e77845-fe9c-4f16-882a-322274a26898</td>\n",
       "      <td>Mapillary</td>\n",
       "      <td>121662616604750</td>\n",
       "    </tr>\n",
       "    <tr>\n",
       "      <th>1889044</th>\n",
       "      <td>432c6ac2-b3e2-4c9c-80d8-042734fda977</td>\n",
       "      <td>Mapillary</td>\n",
       "      <td>1362561054167230</td>\n",
       "    </tr>\n",
       "    <tr>\n",
       "      <th>1889051</th>\n",
       "      <td>3885f9ae-6309-41de-9597-2fbb2422ef03</td>\n",
       "      <td>Mapillary</td>\n",
       "      <td>4008620072553616</td>\n",
       "    </tr>\n",
       "    <tr>\n",
       "      <th>1889054</th>\n",
       "      <td>4881ef63-b976-4b9c-8984-6a15fe6611f6</td>\n",
       "      <td>Mapillary</td>\n",
       "      <td>896123137843326</td>\n",
       "    </tr>\n",
       "    <tr>\n",
       "      <th>1889055</th>\n",
       "      <td>0f0e1a48-b264-41a6-bbf9-e5053cc47302</td>\n",
       "      <td>Mapillary</td>\n",
       "      <td>981213842624869</td>\n",
       "    </tr>\n",
       "  </tbody>\n",
       "</table>\n",
       "</div>"
      ],
      "text/plain": [
       "                                         uuid     source           orig_id\n",
       "1889019  87e77845-fe9c-4f16-882a-322274a26898  Mapillary   121662616604750\n",
       "1889044  432c6ac2-b3e2-4c9c-80d8-042734fda977  Mapillary  1362561054167230\n",
       "1889051  3885f9ae-6309-41de-9597-2fbb2422ef03  Mapillary  4008620072553616\n",
       "1889054  4881ef63-b976-4b9c-8984-6a15fe6611f6  Mapillary   896123137843326\n",
       "1889055  0f0e1a48-b264-41a6-bbf9-e5053cc47302  Mapillary   981213842624869"
      ]
     },
     "execution_count": 13,
     "metadata": {},
     "output_type": "execute_result"
    }
   ],
   "source": [
    "df_to_download = df_side[[\"uuid\", \"source\", \"orig_id\"]]\n",
    "df_to_download.head()"
   ]
  },
  {
   "cell_type": "code",
   "execution_count": 14,
   "metadata": {},
   "outputs": [],
   "source": [
    "df_to_download.to_csv(data_dir / \"amsterdam_side.csv\")"
   ]
  },
  {
   "cell_type": "code",
   "execution_count": 15,
   "metadata": {},
   "outputs": [],
   "source": [
    "df_to_download.to_parquet(parquet_dir / \"amsterdam_side.parquet\")"
   ]
  }
 ],
 "metadata": {
  "kernelspec": {
   "display_name": "streetscapes",
   "language": "python",
   "name": "python3"
  },
  "language_info": {
   "codemirror_mode": {
    "name": "ipython",
    "version": 3
   },
   "file_extension": ".py",
   "mimetype": "text/x-python",
   "name": "python",
   "nbconvert_exporter": "python",
   "pygments_lexer": "ipython3",
   "version": "3.12.8"
  }
 },
 "nbformat": 4,
 "nbformat_minor": 2
}
