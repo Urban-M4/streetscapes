{
 "cells": [
  {
   "cell_type": "markdown",
   "metadata": {},
   "source": [
    "## Create a subset of global-streetscapes dataset"
   ]
  },
  {
   "cell_type": "code",
   "execution_count": 41,
   "metadata": {},
   "outputs": [],
   "source": [
    "# --------------------------------------\n",
    "import warnings\n",
    "\n",
    "warnings.filterwarnings(\"ignore\")\n",
    "\n",
    "# --------------------------------------\n",
    "from streetscapes import conf\n",
    "from streetscapes.functions import load_city_subset"
   ]
  },
  {
   "cell_type": "markdown",
   "metadata": {},
   "source": [
    "### Load dataset"
   ]
  },
  {
   "cell_type": "code",
   "execution_count": 42,
   "metadata": {},
   "outputs": [
    {
     "name": "stdout",
     "output_type": "stream",
     "text": [
      "\u001b[35mStreetscapes\u001b[0m | \u001b[36m2025-02-20@11:58:15\u001b[0m | \u001b[1mLoading 'Amsterdam.parquet'...\u001b[0m\n"
     ]
    }
   ],
   "source": [
    "df_city = load_city_subset(\"Amsterdam\")"
   ]
  },
  {
   "cell_type": "code",
   "execution_count": 43,
   "metadata": {},
   "outputs": [
    {
     "data": {
      "text/html": [
       "<div>\n",
       "<style scoped>\n",
       "    .dataframe tbody tr th:only-of-type {\n",
       "        vertical-align: middle;\n",
       "    }\n",
       "\n",
       "    .dataframe tbody tr th {\n",
       "        vertical-align: top;\n",
       "    }\n",
       "\n",
       "    .dataframe thead th {\n",
       "        text-align: right;\n",
       "    }\n",
       "</style>\n",
       "<table border=\"1\" class=\"dataframe\">\n",
       "  <thead>\n",
       "    <tr style=\"text-align: right;\">\n",
       "      <th></th>\n",
       "      <th>uuid</th>\n",
       "      <th>source</th>\n",
       "      <th>orig_id</th>\n",
       "      <th>glare</th>\n",
       "      <th>lighting_condition</th>\n",
       "      <th>pano_status</th>\n",
       "      <th>platform</th>\n",
       "      <th>quality</th>\n",
       "      <th>reflection</th>\n",
       "      <th>view_direction</th>\n",
       "      <th>...</th>\n",
       "      <th>to</th>\n",
       "      <th>ref</th>\n",
       "      <th>tunnel_1</th>\n",
       "      <th>bridge_1</th>\n",
       "      <th>service</th>\n",
       "      <th>access</th>\n",
       "      <th>road_width</th>\n",
       "      <th>area</th>\n",
       "      <th>est_width</th>\n",
       "      <th>reversed</th>\n",
       "    </tr>\n",
       "  </thead>\n",
       "  <tbody>\n",
       "    <tr>\n",
       "      <th>13920</th>\n",
       "      <td>99d8019f-38bc-48ba-b9de-870790cce291</td>\n",
       "      <td>Mapillary</td>\n",
       "      <td>295335152124602</td>\n",
       "      <td>False</td>\n",
       "      <td>day</td>\n",
       "      <td>False</td>\n",
       "      <td>walking surface</td>\n",
       "      <td>good</td>\n",
       "      <td>False</td>\n",
       "      <td>front/back</td>\n",
       "      <td>...</td>\n",
       "      <td>4.636747e+07</td>\n",
       "      <td>None</td>\n",
       "      <td>None</td>\n",
       "      <td>None</td>\n",
       "      <td>None</td>\n",
       "      <td>None</td>\n",
       "      <td>None</td>\n",
       "      <td>None</td>\n",
       "      <td>None</td>\n",
       "      <td>True</td>\n",
       "    </tr>\n",
       "    <tr>\n",
       "      <th>14030</th>\n",
       "      <td>7aa5b791-7d8a-41b1-9e6e-c5a15313ee67</td>\n",
       "      <td>Mapillary</td>\n",
       "      <td>826691848265754</td>\n",
       "      <td>False</td>\n",
       "      <td>day</td>\n",
       "      <td>True</td>\n",
       "      <td>cycling surface</td>\n",
       "      <td>good</td>\n",
       "      <td>False</td>\n",
       "      <td>None</td>\n",
       "      <td>...</td>\n",
       "      <td>1.307719e+09</td>\n",
       "      <td>None</td>\n",
       "      <td>building_passage</td>\n",
       "      <td>None</td>\n",
       "      <td>None</td>\n",
       "      <td>no</td>\n",
       "      <td>1.25</td>\n",
       "      <td>None</td>\n",
       "      <td>None</td>\n",
       "      <td>False</td>\n",
       "    </tr>\n",
       "    <tr>\n",
       "      <th>14219</th>\n",
       "      <td>2df73a61-742d-494b-9ea4-ce52e8ad74e0</td>\n",
       "      <td>Mapillary</td>\n",
       "      <td>975351706501580</td>\n",
       "      <td>False</td>\n",
       "      <td>day</td>\n",
       "      <td>False</td>\n",
       "      <td>walking surface</td>\n",
       "      <td>good</td>\n",
       "      <td>False</td>\n",
       "      <td>front/back</td>\n",
       "      <td>...</td>\n",
       "      <td>8.036447e+09</td>\n",
       "      <td>None</td>\n",
       "      <td>None</td>\n",
       "      <td>None</td>\n",
       "      <td>None</td>\n",
       "      <td>None</td>\n",
       "      <td>None</td>\n",
       "      <td>None</td>\n",
       "      <td>None</td>\n",
       "      <td>False</td>\n",
       "    </tr>\n",
       "    <tr>\n",
       "      <th>14631</th>\n",
       "      <td>5168b863-e938-4ccf-acee-d52ca075cee4</td>\n",
       "      <td>Mapillary</td>\n",
       "      <td>1170489873417401</td>\n",
       "      <td>False</td>\n",
       "      <td>day</td>\n",
       "      <td>True</td>\n",
       "      <td>cycling surface</td>\n",
       "      <td>good</td>\n",
       "      <td>False</td>\n",
       "      <td>None</td>\n",
       "      <td>...</td>\n",
       "      <td>4.637916e+07</td>\n",
       "      <td>None</td>\n",
       "      <td>None</td>\n",
       "      <td>None</td>\n",
       "      <td>None</td>\n",
       "      <td>None</td>\n",
       "      <td>None</td>\n",
       "      <td>None</td>\n",
       "      <td>None</td>\n",
       "      <td>True</td>\n",
       "    </tr>\n",
       "    <tr>\n",
       "      <th>14791</th>\n",
       "      <td>30fe8123-bd44-4d12-ab6f-f088815ece32</td>\n",
       "      <td>Mapillary</td>\n",
       "      <td>304360741085605</td>\n",
       "      <td>False</td>\n",
       "      <td>day</td>\n",
       "      <td>True</td>\n",
       "      <td>driving surface</td>\n",
       "      <td>good</td>\n",
       "      <td>False</td>\n",
       "      <td>None</td>\n",
       "      <td>...</td>\n",
       "      <td>4.634793e+07</td>\n",
       "      <td>None</td>\n",
       "      <td>None</td>\n",
       "      <td>None</td>\n",
       "      <td>None</td>\n",
       "      <td>None</td>\n",
       "      <td>None</td>\n",
       "      <td>None</td>\n",
       "      <td>None</td>\n",
       "      <td>False</td>\n",
       "    </tr>\n",
       "  </tbody>\n",
       "</table>\n",
       "<p>5 rows × 140 columns</p>\n",
       "</div>"
      ],
      "text/plain": [
       "                                       uuid     source           orig_id  \\\n",
       "13920  99d8019f-38bc-48ba-b9de-870790cce291  Mapillary   295335152124602   \n",
       "14030  7aa5b791-7d8a-41b1-9e6e-c5a15313ee67  Mapillary   826691848265754   \n",
       "14219  2df73a61-742d-494b-9ea4-ce52e8ad74e0  Mapillary   975351706501580   \n",
       "14631  5168b863-e938-4ccf-acee-d52ca075cee4  Mapillary  1170489873417401   \n",
       "14791  30fe8123-bd44-4d12-ab6f-f088815ece32  Mapillary   304360741085605   \n",
       "\n",
       "       glare lighting_condition  pano_status         platform quality  \\\n",
       "13920  False                day        False  walking surface    good   \n",
       "14030  False                day         True  cycling surface    good   \n",
       "14219  False                day        False  walking surface    good   \n",
       "14631  False                day         True  cycling surface    good   \n",
       "14791  False                day         True  driving surface    good   \n",
       "\n",
       "       reflection view_direction  ...            to   ref          tunnel_1  \\\n",
       "13920       False     front/back  ...  4.636747e+07  None              None   \n",
       "14030       False           None  ...  1.307719e+09  None  building_passage   \n",
       "14219       False     front/back  ...  8.036447e+09  None              None   \n",
       "14631       False           None  ...  4.637916e+07  None              None   \n",
       "14791       False           None  ...  4.634793e+07  None              None   \n",
       "\n",
       "      bridge_1  service  access  road_width  area  est_width  reversed  \n",
       "13920     None     None    None        None  None       None      True  \n",
       "14030     None     None      no        1.25  None       None     False  \n",
       "14219     None     None    None        None  None       None     False  \n",
       "14631     None     None    None        None  None       None      True  \n",
       "14791     None     None    None        None  None       None     False  \n",
       "\n",
       "[5 rows x 140 columns]"
      ]
     },
     "execution_count": 43,
     "metadata": {},
     "output_type": "execute_result"
    }
   ],
   "source": [
    "df_city.head()"
   ]
  },
  {
   "cell_type": "markdown",
   "metadata": {},
   "source": [
    "### Subset dataset\n",
    "\n",
    "In this case we are choosing images of Amsterdam, during the day with a viewing direction from the side. "
   ]
  },
  {
   "cell_type": "code",
   "execution_count": 44,
   "metadata": {},
   "outputs": [
    {
     "data": {
      "text/plain": [
       "array(['day', 'dusk/dawn', 'night'], dtype=object)"
      ]
     },
     "execution_count": 44,
     "metadata": {},
     "output_type": "execute_result"
    }
   ],
   "source": [
    "df_city[\"lighting_condition\"].unique()"
   ]
  },
  {
   "cell_type": "code",
   "execution_count": 45,
   "metadata": {},
   "outputs": [
    {
     "data": {
      "text/plain": [
       "Index(['uuid', 'source', 'orig_id', 'glare', 'lighting_condition',\n",
       "       'pano_status', 'platform', 'quality', 'reflection', 'view_direction',\n",
       "       ...\n",
       "       'to', 'ref', 'tunnel_1', 'bridge_1', 'service', 'access', 'road_width',\n",
       "       'area', 'est_width', 'reversed'],\n",
       "      dtype='object', length=140)"
      ]
     },
     "execution_count": 45,
     "metadata": {},
     "output_type": "execute_result"
    }
   ],
   "source": [
    "df_day = df_city[df_city[\"lighting_condition\"] == \"day\"]\n",
    "df_day.columns"
   ]
  },
  {
   "cell_type": "code",
   "execution_count": 46,
   "metadata": {},
   "outputs": [
    {
     "data": {
      "text/plain": [
       "Index(['uuid', 'source', 'orig_id', 'glare', 'lighting_condition',\n",
       "       'pano_status', 'platform', 'quality', 'reflection', 'view_direction',\n",
       "       ...\n",
       "       'to', 'ref', 'tunnel_1', 'bridge_1', 'service', 'access', 'road_width',\n",
       "       'area', 'est_width', 'reversed'],\n",
       "      dtype='object', length=140)"
      ]
     },
     "execution_count": 46,
     "metadata": {},
     "output_type": "execute_result"
    }
   ],
   "source": [
    "df_side = df_day[df_day[\"view_direction\"] == \"side\"]\n",
    "df_side.columns"
   ]
  },
  {
   "cell_type": "markdown",
   "metadata": {},
   "source": [
    "### Create dataframe to download images\n",
    "\n",
    "Only keep the information needed to download the images and save to a csv file. "
   ]
  },
  {
   "cell_type": "code",
   "execution_count": 47,
   "metadata": {},
   "outputs": [
    {
     "data": {
      "text/html": [
       "<div>\n",
       "<style scoped>\n",
       "    .dataframe tbody tr th:only-of-type {\n",
       "        vertical-align: middle;\n",
       "    }\n",
       "\n",
       "    .dataframe tbody tr th {\n",
       "        vertical-align: top;\n",
       "    }\n",
       "\n",
       "    .dataframe thead th {\n",
       "        text-align: right;\n",
       "    }\n",
       "</style>\n",
       "<table border=\"1\" class=\"dataframe\">\n",
       "  <thead>\n",
       "    <tr style=\"text-align: right;\">\n",
       "      <th></th>\n",
       "      <th>uuid</th>\n",
       "      <th>source</th>\n",
       "      <th>orig_id</th>\n",
       "    </tr>\n",
       "  </thead>\n",
       "  <tbody>\n",
       "    <tr>\n",
       "      <th>14924</th>\n",
       "      <td>b3cf1852-0b91-49b8-b0c1-d520f729c2f1</td>\n",
       "      <td>Mapillary</td>\n",
       "      <td>469797594077540</td>\n",
       "    </tr>\n",
       "    <tr>\n",
       "      <th>15107</th>\n",
       "      <td>75df3b51-d8f7-43f6-bb7d-a6398d1f0a5d</td>\n",
       "      <td>Mapillary</td>\n",
       "      <td>383338319993255</td>\n",
       "    </tr>\n",
       "    <tr>\n",
       "      <th>15890</th>\n",
       "      <td>6b7e9737-7394-4f73-b4d1-8dbb4d1b7c12</td>\n",
       "      <td>Mapillary</td>\n",
       "      <td>1096261547548171</td>\n",
       "    </tr>\n",
       "    <tr>\n",
       "      <th>16386</th>\n",
       "      <td>92c524e8-bfa3-4a9e-ab01-996bca4f3556</td>\n",
       "      <td>Mapillary</td>\n",
       "      <td>1173473299835694</td>\n",
       "    </tr>\n",
       "    <tr>\n",
       "      <th>18404</th>\n",
       "      <td>1569de6b-7b20-4611-a031-1d6cc53ead8a</td>\n",
       "      <td>Mapillary</td>\n",
       "      <td>1033394290580893</td>\n",
       "    </tr>\n",
       "  </tbody>\n",
       "</table>\n",
       "</div>"
      ],
      "text/plain": [
       "                                       uuid     source           orig_id\n",
       "14924  b3cf1852-0b91-49b8-b0c1-d520f729c2f1  Mapillary   469797594077540\n",
       "15107  75df3b51-d8f7-43f6-bb7d-a6398d1f0a5d  Mapillary   383338319993255\n",
       "15890  6b7e9737-7394-4f73-b4d1-8dbb4d1b7c12  Mapillary  1096261547548171\n",
       "16386  92c524e8-bfa3-4a9e-ab01-996bca4f3556  Mapillary  1173473299835694\n",
       "18404  1569de6b-7b20-4611-a031-1d6cc53ead8a  Mapillary  1033394290580893"
      ]
     },
     "execution_count": 47,
     "metadata": {},
     "output_type": "execute_result"
    }
   ],
   "source": [
    "df_to_download = df_side[[\"uuid\", \"source\", \"orig_id\"]]\n",
    "df_to_download.head()"
   ]
  },
  {
   "cell_type": "code",
   "execution_count": 48,
   "metadata": {},
   "outputs": [],
   "source": [
    "parquet_dir = conf.DATA_DIR / \"data/parquet\"\n",
    "df_to_download.to_parquet(parquet_dir / \"amsterdam_side.parquet\")"
   ]
  }
 ],
 "metadata": {
  "kernelspec": {
   "display_name": ".venv",
   "language": "python",
   "name": "python3"
  },
  "language_info": {
   "codemirror_mode": {
    "name": "ipython",
    "version": 3
   },
   "file_extension": ".py",
   "mimetype": "text/x-python",
   "name": "python",
   "nbconvert_exporter": "python",
   "pygments_lexer": "ipython3",
   "version": "3.13.0"
  }
 },
 "nbformat": 4,
 "nbformat_minor": 2
}
