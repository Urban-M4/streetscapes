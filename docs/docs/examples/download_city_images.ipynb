{
 "cells": [
  {
   "cell_type": "markdown",
   "metadata": {},
   "source": [
    "# Mapillary images for a specific city\n",
    "\n",
    "<span style=\"color:red;\">Note:</span> Please ensure that you have set up the `MAPILLARY_TOKEN` environment variable (cf. README.md)."
   ]
  },
  {
   "cell_type": "code",
   "execution_count": 1,
   "metadata": {},
   "outputs": [],
   "source": [
    "# --------------------------------------\n",
    "import warnings\n",
    "\n",
    "warnings.filterwarnings(\"ignore\")\n",
    "\n",
    "# --------------------------------------\n",
    "import pandas as pd\n",
    "\n",
    "# --------------------------------------\n",
    "import streetscapes as scs"
   ]
  },
  {
   "cell_type": "markdown",
   "metadata": {},
   "source": [
    "# Setup"
   ]
  },
  {
   "cell_type": "code",
   "execution_count": null,
   "metadata": {},
   "outputs": [],
   "source": [
    "# Image resolution (only used for Mapillary)\n",
    "resolution = 2048  # Or 1024\n",
    "\n",
    "# Destination directory\n",
    "image_dir = scs.mkdir(scs.conf.IMAGE_DIR)\n"
   ]
  },
  {
   "cell_type": "markdown",
   "metadata": {},
   "source": [
    "### Sample size\n",
    "\n",
    "Set the following to an integer value (e.g., 100) if you would like to download only a subset of the images."
   ]
  },
  {
   "cell_type": "code",
   "execution_count": null,
   "metadata": {},
   "outputs": [],
   "source": [
    "sample = None"
   ]
  },
  {
   "cell_type": "markdown",
   "metadata": {},
   "source": [
    "Get the points for side views of buildings in Amsterdam.\n",
    "\n",
    "NOTE: Make sure that the CSV file exists (it can be created by running `subset_data.ipynb` first)."
   ]
  },
  {
   "cell_type": "code",
   "execution_count": null,
   "metadata": {},
   "outputs": [],
   "source": [
    "city = pd.read_csv(scs.conf.CSV_DIR / \"amsterdam_side.csv\")"
   ]
  },
  {
   "cell_type": "code",
   "execution_count": 4,
   "metadata": {},
   "outputs": [
    {
     "data": {
      "text/html": [
       "<div>\n",
       "<style scoped>\n",
       "    .dataframe tbody tr th:only-of-type {\n",
       "        vertical-align: middle;\n",
       "    }\n",
       "\n",
       "    .dataframe tbody tr th {\n",
       "        vertical-align: top;\n",
       "    }\n",
       "\n",
       "    .dataframe thead th {\n",
       "        text-align: right;\n",
       "    }\n",
       "</style>\n",
       "<table border=\"1\" class=\"dataframe\">\n",
       "  <thead>\n",
       "    <tr style=\"text-align: right;\">\n",
       "      <th></th>\n",
       "      <th>uuid</th>\n",
       "      <th>source</th>\n",
       "      <th>orig_id</th>\n",
       "    </tr>\n",
       "  </thead>\n",
       "  <tbody>\n",
       "    <tr>\n",
       "      <th>14924</th>\n",
       "      <td>b3cf1852-0b91-49b8-b0c1-d520f729c2f1</td>\n",
       "      <td>Mapillary</td>\n",
       "      <td>469797594077540</td>\n",
       "    </tr>\n",
       "    <tr>\n",
       "      <th>15107</th>\n",
       "      <td>75df3b51-d8f7-43f6-bb7d-a6398d1f0a5d</td>\n",
       "      <td>Mapillary</td>\n",
       "      <td>383338319993255</td>\n",
       "    </tr>\n",
       "    <tr>\n",
       "      <th>15890</th>\n",
       "      <td>6b7e9737-7394-4f73-b4d1-8dbb4d1b7c12</td>\n",
       "      <td>Mapillary</td>\n",
       "      <td>1096261547548171</td>\n",
       "    </tr>\n",
       "    <tr>\n",
       "      <th>16386</th>\n",
       "      <td>92c524e8-bfa3-4a9e-ab01-996bca4f3556</td>\n",
       "      <td>Mapillary</td>\n",
       "      <td>1173473299835694</td>\n",
       "    </tr>\n",
       "    <tr>\n",
       "      <th>18404</th>\n",
       "      <td>1569de6b-7b20-4611-a031-1d6cc53ead8a</td>\n",
       "      <td>Mapillary</td>\n",
       "      <td>1033394290580893</td>\n",
       "    </tr>\n",
       "    <tr>\n",
       "      <th>...</th>\n",
       "      <td>...</td>\n",
       "      <td>...</td>\n",
       "      <td>...</td>\n",
       "    </tr>\n",
       "    <tr>\n",
       "      <th>9824237</th>\n",
       "      <td>28f7ca92-93f7-4e82-84f5-afa7a5583f41</td>\n",
       "      <td>Mapillary</td>\n",
       "      <td>544282346966025</td>\n",
       "    </tr>\n",
       "    <tr>\n",
       "      <th>9824478</th>\n",
       "      <td>26b8661b-d0ba-45ff-8d83-6452c0feb182</td>\n",
       "      <td>Mapillary</td>\n",
       "      <td>207079134340376</td>\n",
       "    </tr>\n",
       "    <tr>\n",
       "      <th>9824717</th>\n",
       "      <td>6a94b588-2a18-41a6-8248-0618c8019f15</td>\n",
       "      <td>Mapillary</td>\n",
       "      <td>515273743475512</td>\n",
       "    </tr>\n",
       "    <tr>\n",
       "      <th>9824783</th>\n",
       "      <td>e8e5f39a-f654-4d38-b702-87bcc56ab462</td>\n",
       "      <td>Mapillary</td>\n",
       "      <td>328324588732227</td>\n",
       "    </tr>\n",
       "    <tr>\n",
       "      <th>9825399</th>\n",
       "      <td>a434c20a-fb00-4aa8-95d5-3267fd36d839</td>\n",
       "      <td>Mapillary</td>\n",
       "      <td>820621975790019</td>\n",
       "    </tr>\n",
       "  </tbody>\n",
       "</table>\n",
       "<p>3728 rows × 3 columns</p>\n",
       "</div>"
      ],
      "text/plain": [
       "                                         uuid     source           orig_id\n",
       "14924    b3cf1852-0b91-49b8-b0c1-d520f729c2f1  Mapillary   469797594077540\n",
       "15107    75df3b51-d8f7-43f6-bb7d-a6398d1f0a5d  Mapillary   383338319993255\n",
       "15890    6b7e9737-7394-4f73-b4d1-8dbb4d1b7c12  Mapillary  1096261547548171\n",
       "16386    92c524e8-bfa3-4a9e-ab01-996bca4f3556  Mapillary  1173473299835694\n",
       "18404    1569de6b-7b20-4611-a031-1d6cc53ead8a  Mapillary  1033394290580893\n",
       "...                                       ...        ...               ...\n",
       "9824237  28f7ca92-93f7-4e82-84f5-afa7a5583f41  Mapillary   544282346966025\n",
       "9824478  26b8661b-d0ba-45ff-8d83-6452c0feb182  Mapillary   207079134340376\n",
       "9824717  6a94b588-2a18-41a6-8248-0618c8019f15  Mapillary   515273743475512\n",
       "9824783  e8e5f39a-f654-4d38-b702-87bcc56ab462  Mapillary   328324588732227\n",
       "9825399  a434c20a-fb00-4aa8-95d5-3267fd36d839  Mapillary   820621975790019\n",
       "\n",
       "[3728 rows x 3 columns]"
      ]
     },
     "execution_count": 4,
     "metadata": {},
     "output_type": "execute_result"
    }
   ],
   "source": [
    "city"
   ]
  },
  {
   "cell_type": "code",
   "execution_count": 5,
   "metadata": {},
   "outputs": [],
   "source": [
    "if len(city) == 0:\n",
    "    raise ValueError(\"Empty dataset\")"
   ]
  },
  {
   "cell_type": "markdown",
   "metadata": {},
   "source": [
    "Iterate over all the records and download the images"
   ]
  },
  {
   "cell_type": "code",
   "execution_count": null,
   "metadata": {},
   "outputs": [
    {
     "name": "stdout",
     "output_type": "stream",
     "text": [
      "\u001b[35mStreetscapes\u001b[0m | \u001b[36m2025-02-10@10:45:18\u001b[0m | \u001b[1mDownloading 3473 images from Mapillary into 'images'...\u001b[0m\n"
     ]
    },
    {
     "name": "stderr",
     "output_type": "stream",
     "text": [
      "Download progress: 100%|██████████| 3473/3473 [11:34<00:00,  5.00it/s]"
     ]
    },
    {
     "name": "stdout",
     "output_type": "stream",
     "text": [
      "\u001b[35mStreetscapes\u001b[0m | \u001b[36m2025-02-10@10:56:52\u001b[0m | \u001b[1mDownloading 298 images from KartaView into 'images'...\u001b[0m\n"
     ]
    },
    {
     "name": "stderr",
     "output_type": "stream",
     "text": [
      "\n",
      "Download progress: 100%|██████████| 298/298 [02:55<00:00,  1.70it/s]\n"
     ]
    }
   ],
   "source": [
    "image_paths = scs.download_images(city, image_dir, resolution, sample)"
   ]
  }
 ],
 "metadata": {
  "kernelspec": {
   "display_name": ".venv",
   "language": "python",
   "name": "python3"
  },
  "language_info": {
   "codemirror_mode": {
    "name": "ipython",
    "version": 3
   },
   "file_extension": ".py",
   "mimetype": "text/x-python",
   "name": "python",
   "nbconvert_exporter": "python",
   "pygments_lexer": "ipython3",
   "version": "3.12.8"
  }
 },
 "nbformat": 4,
 "nbformat_minor": 2
}
