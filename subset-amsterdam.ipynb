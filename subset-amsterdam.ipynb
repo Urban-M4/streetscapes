{
 "cells": [
  {
   "cell_type": "code",
   "execution_count": 1,
   "metadata": {},
   "outputs": [],
   "source": [
    "import pandas as pd"
   ]
  },
  {
   "cell_type": "code",
   "execution_count": 2,
   "metadata": {},
   "outputs": [],
   "source": [
    "df_all = pd.read_parquet(\n",
    "    \"../streetscapes-data/streetscapes-data.parquet\"\n",
    ")"
   ]
  },
  {
   "cell_type": "code",
   "execution_count": 3,
   "metadata": {},
   "outputs": [
    {
     "data": {
      "text/html": [
       "<div>\n",
       "<style scoped>\n",
       "    .dataframe tbody tr th:only-of-type {\n",
       "        vertical-align: middle;\n",
       "    }\n",
       "\n",
       "    .dataframe tbody tr th {\n",
       "        vertical-align: top;\n",
       "    }\n",
       "\n",
       "    .dataframe thead th {\n",
       "        text-align: right;\n",
       "    }\n",
       "</style>\n",
       "<table border=\"1\" class=\"dataframe\">\n",
       "  <thead>\n",
       "    <tr style=\"text-align: right;\">\n",
       "      <th></th>\n",
       "      <th>uuid</th>\n",
       "      <th>source</th>\n",
       "      <th>orig_id</th>\n",
       "      <th>city</th>\n",
       "      <th>city_ascii</th>\n",
       "      <th>city_id</th>\n",
       "      <th>city_lat</th>\n",
       "      <th>city_lon</th>\n",
       "      <th>country</th>\n",
       "      <th>iso2</th>\n",
       "      <th>...</th>\n",
       "      <th>hour</th>\n",
       "      <th>width</th>\n",
       "      <th>height</th>\n",
       "      <th>heading</th>\n",
       "      <th>projection_type</th>\n",
       "      <th>hFoV</th>\n",
       "      <th>vFoV</th>\n",
       "      <th>sequence_index</th>\n",
       "      <th>sequence_id</th>\n",
       "      <th>sequence_img_count</th>\n",
       "    </tr>\n",
       "  </thead>\n",
       "  <tbody>\n",
       "    <tr>\n",
       "      <th>0</th>\n",
       "      <td>d3cca4a7-7994-47ff-9749-7df8ca7228e3</td>\n",
       "      <td>Mapillary</td>\n",
       "      <td>412070930384924</td>\n",
       "      <td>Urasoe</td>\n",
       "      <td>Urasoe</td>\n",
       "      <td>1392003314</td>\n",
       "      <td>26.2458</td>\n",
       "      <td>127.7219</td>\n",
       "      <td>Japan</td>\n",
       "      <td>JP</td>\n",
       "      <td>...</td>\n",
       "      <td>16</td>\n",
       "      <td>4032.0</td>\n",
       "      <td>3024.0</td>\n",
       "      <td>167.199291</td>\n",
       "      <td>perspective</td>\n",
       "      <td>62.869449</td>\n",
       "      <td>49.255913</td>\n",
       "      <td>162</td>\n",
       "      <td>64fWKYwo1QbyUl0jZmuBOF</td>\n",
       "      <td>158</td>\n",
       "    </tr>\n",
       "    <tr>\n",
       "      <th>1</th>\n",
       "      <td>33f474ab-496e-41a7-86a6-08fad8fe6638</td>\n",
       "      <td>Mapillary</td>\n",
       "      <td>897137344568478</td>\n",
       "      <td>Urasoe</td>\n",
       "      <td>Urasoe</td>\n",
       "      <td>1392003314</td>\n",
       "      <td>26.2458</td>\n",
       "      <td>127.7219</td>\n",
       "      <td>Japan</td>\n",
       "      <td>JP</td>\n",
       "      <td>...</td>\n",
       "      <td>11</td>\n",
       "      <td>4032.0</td>\n",
       "      <td>3024.0</td>\n",
       "      <td>22.705686</td>\n",
       "      <td>perspective</td>\n",
       "      <td>55.150854</td>\n",
       "      <td>42.778674</td>\n",
       "      <td>77</td>\n",
       "      <td>PEOixVS4MCXw9ZD7kd1uF2</td>\n",
       "      <td>230</td>\n",
       "    </tr>\n",
       "    <tr>\n",
       "      <th>2</th>\n",
       "      <td>0da8bf8d-bf34-4d94-aa51-2a7a3c880f6b</td>\n",
       "      <td>Mapillary</td>\n",
       "      <td>266236242103987</td>\n",
       "      <td>Urasoe</td>\n",
       "      <td>Urasoe</td>\n",
       "      <td>1392003314</td>\n",
       "      <td>26.2458</td>\n",
       "      <td>127.7219</td>\n",
       "      <td>Japan</td>\n",
       "      <td>JP</td>\n",
       "      <td>...</td>\n",
       "      <td>10</td>\n",
       "      <td>4032.0</td>\n",
       "      <td>3024.0</td>\n",
       "      <td>38.106650</td>\n",
       "      <td>perspective</td>\n",
       "      <td>60.709414</td>\n",
       "      <td>47.424640</td>\n",
       "      <td>138</td>\n",
       "      <td>qc2h9ZIeNtUoDbBy6wdizl</td>\n",
       "      <td>206</td>\n",
       "    </tr>\n",
       "    <tr>\n",
       "      <th>3</th>\n",
       "      <td>23c0aa2e-573b-4a3f-a65b-fb8f7349725b</td>\n",
       "      <td>Mapillary</td>\n",
       "      <td>646336503014104</td>\n",
       "      <td>Urasoe</td>\n",
       "      <td>Urasoe</td>\n",
       "      <td>1392003314</td>\n",
       "      <td>26.2458</td>\n",
       "      <td>127.7219</td>\n",
       "      <td>Japan</td>\n",
       "      <td>JP</td>\n",
       "      <td>...</td>\n",
       "      <td>10</td>\n",
       "      <td>4032.0</td>\n",
       "      <td>3024.0</td>\n",
       "      <td>55.659558</td>\n",
       "      <td>perspective</td>\n",
       "      <td>64.148411</td>\n",
       "      <td>50.347400</td>\n",
       "      <td>61</td>\n",
       "      <td>zH6VgUcYoibQ8907ytedxT</td>\n",
       "      <td>32</td>\n",
       "    </tr>\n",
       "    <tr>\n",
       "      <th>4</th>\n",
       "      <td>4f47ba8e-8437-4213-9721-8336b02ea703</td>\n",
       "      <td>Mapillary</td>\n",
       "      <td>404485487755735</td>\n",
       "      <td>Urasoe</td>\n",
       "      <td>Urasoe</td>\n",
       "      <td>1392003314</td>\n",
       "      <td>26.2458</td>\n",
       "      <td>127.7219</td>\n",
       "      <td>Japan</td>\n",
       "      <td>JP</td>\n",
       "      <td>...</td>\n",
       "      <td>11</td>\n",
       "      <td>4032.0</td>\n",
       "      <td>3024.0</td>\n",
       "      <td>20.061962</td>\n",
       "      <td>perspective</td>\n",
       "      <td>55.150854</td>\n",
       "      <td>42.778674</td>\n",
       "      <td>142</td>\n",
       "      <td>PEOixVS4MCXw9ZD7kd1uF2</td>\n",
       "      <td>230</td>\n",
       "    </tr>\n",
       "  </tbody>\n",
       "</table>\n",
       "<p>5 rows × 107 columns</p>\n",
       "</div>"
      ],
      "text/plain": [
       "                                   uuid     source          orig_id    city  \\\n",
       "0  d3cca4a7-7994-47ff-9749-7df8ca7228e3  Mapillary  412070930384924  Urasoe   \n",
       "1  33f474ab-496e-41a7-86a6-08fad8fe6638  Mapillary  897137344568478  Urasoe   \n",
       "2  0da8bf8d-bf34-4d94-aa51-2a7a3c880f6b  Mapillary  266236242103987  Urasoe   \n",
       "3  23c0aa2e-573b-4a3f-a65b-fb8f7349725b  Mapillary  646336503014104  Urasoe   \n",
       "4  4f47ba8e-8437-4213-9721-8336b02ea703  Mapillary  404485487755735  Urasoe   \n",
       "\n",
       "  city_ascii     city_id  city_lat  city_lon country iso2  ... hour   width  \\\n",
       "0     Urasoe  1392003314   26.2458  127.7219   Japan   JP  ...   16  4032.0   \n",
       "1     Urasoe  1392003314   26.2458  127.7219   Japan   JP  ...   11  4032.0   \n",
       "2     Urasoe  1392003314   26.2458  127.7219   Japan   JP  ...   10  4032.0   \n",
       "3     Urasoe  1392003314   26.2458  127.7219   Japan   JP  ...   10  4032.0   \n",
       "4     Urasoe  1392003314   26.2458  127.7219   Japan   JP  ...   11  4032.0   \n",
       "\n",
       "   height     heading projection_type       hFoV       vFoV  sequence_index  \\\n",
       "0  3024.0  167.199291     perspective  62.869449  49.255913             162   \n",
       "1  3024.0   22.705686     perspective  55.150854  42.778674              77   \n",
       "2  3024.0   38.106650     perspective  60.709414  47.424640             138   \n",
       "3  3024.0   55.659558     perspective  64.148411  50.347400              61   \n",
       "4  3024.0   20.061962     perspective  55.150854  42.778674             142   \n",
       "\n",
       "              sequence_id  sequence_img_count  \n",
       "0  64fWKYwo1QbyUl0jZmuBOF                 158  \n",
       "1  PEOixVS4MCXw9ZD7kd1uF2                 230  \n",
       "2  qc2h9ZIeNtUoDbBy6wdizl                 206  \n",
       "3  zH6VgUcYoibQ8907ytedxT                  32  \n",
       "4  PEOixVS4MCXw9ZD7kd1uF2                 230  \n",
       "\n",
       "[5 rows x 107 columns]"
      ]
     },
     "execution_count": 3,
     "metadata": {},
     "output_type": "execute_result"
    }
   ],
   "source": [
    "df_all.head()"
   ]
  },
  {
   "cell_type": "code",
   "execution_count": 4,
   "metadata": {},
   "outputs": [],
   "source": [
    "df_city = df_all[df_all[\"city\"] == \"Amsterdam\"]"
   ]
  },
  {
   "cell_type": "code",
   "execution_count": 5,
   "metadata": {},
   "outputs": [
    {
     "data": {
      "text/plain": [
       "array(['day', 'dusk/dawn', 'night', None], dtype=object)"
      ]
     },
     "execution_count": 5,
     "metadata": {},
     "output_type": "execute_result"
    }
   ],
   "source": [
    "\n",
    "df_city[\"lighting_condition\"].unique()"
   ]
  },
  {
   "cell_type": "code",
   "execution_count": 6,
   "metadata": {},
   "outputs": [
    {
     "data": {
      "text/plain": [
       "Index(['uuid', 'source', 'orig_id', 'city', 'city_ascii', 'city_id',\n",
       "       'city_lat', 'city_lon', 'country', 'iso2',\n",
       "       ...\n",
       "       'hour', 'width', 'height', 'heading', 'projection_type', 'hFoV', 'vFoV',\n",
       "       'sequence_index', 'sequence_id', 'sequence_img_count'],\n",
       "      dtype='object', length=107)"
      ]
     },
     "execution_count": 6,
     "metadata": {},
     "output_type": "execute_result"
    }
   ],
   "source": [
    "df_day = df_city[df_city[\"lighting_condition\"] == \"day\"]\n",
    "df_day.columns"
   ]
  },
  {
   "cell_type": "code",
   "execution_count": 7,
   "metadata": {},
   "outputs": [
    {
     "data": {
      "text/plain": [
       "Index(['uuid', 'source', 'orig_id', 'city', 'city_ascii', 'city_id',\n",
       "       'city_lat', 'city_lon', 'country', 'iso2',\n",
       "       ...\n",
       "       'hour', 'width', 'height', 'heading', 'projection_type', 'hFoV', 'vFoV',\n",
       "       'sequence_index', 'sequence_id', 'sequence_img_count'],\n",
       "      dtype='object', length=107)"
      ]
     },
     "execution_count": 7,
     "metadata": {},
     "output_type": "execute_result"
    }
   ],
   "source": [
    "df_side = df_day[df_day[\"view_direction\"] == \"side\"]\n",
    "df_side.columns"
   ]
  },
  {
   "cell_type": "code",
   "execution_count": 8,
   "metadata": {},
   "outputs": [],
   "source": [
    "df_to_download = df_side[[\"uuid\", \"source\", \"orig_id\"]]"
   ]
  },
  {
   "cell_type": "code",
   "execution_count": 9,
   "metadata": {},
   "outputs": [],
   "source": [
    "df_to_download.to_csv(\"../ams_side.csv\")"
   ]
  }
 ],
 "metadata": {
  "kernelspec": {
   "display_name": ".venv",
   "language": "python",
   "name": "python3"
  },
  "language_info": {
   "codemirror_mode": {
    "name": "ipython",
    "version": 3
   },
   "file_extension": ".py",
   "mimetype": "text/x-python",
   "name": "python",
   "nbconvert_exporter": "python",
   "pygments_lexer": "ipython3",
   "version": "3.12.6"
  }
 },
 "nbformat": 4,
 "nbformat_minor": 2
}
