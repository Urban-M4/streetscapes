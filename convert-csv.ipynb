{
 "cells": [
  {
   "cell_type": "code",
   "execution_count": 33,
   "metadata": {},
   "outputs": [],
   "source": [
    "import pandas as pd\n",
    "import xarray as xr\n",
    "from pathlib import Path"
   ]
  },
  {
   "cell_type": "code",
   "execution_count": 34,
   "metadata": {},
   "outputs": [],
   "source": [
    "path = Path(\"/Users/clairedonnelly/Documents/Urban-M4/streetscapes-data\")\n",
    "file_paths = path.glob('*.csv')"
   ]
  },
  {
   "cell_type": "code",
   "execution_count": 35,
   "metadata": {},
   "outputs": [
    {
     "name": "stderr",
     "output_type": "stream",
     "text": [
      "/var/folders/6t/yn2bzknj4md_3s6cr6vl8h8c0000gn/T/ipykernel_71826/1221093661.py:3: DtypeWarning: Columns (12) have mixed types. Specify dtype option on import or set low_memory=False.\n",
      "  df = pd.read_csv(f,  dtype={'sequence_id': str})\n",
      "/var/folders/6t/yn2bzknj4md_3s6cr6vl8h8c0000gn/T/ipykernel_71826/1221093661.py:3: DtypeWarning: Columns (5,9) have mixed types. Specify dtype option on import or set low_memory=False.\n",
      "  df = pd.read_csv(f,  dtype={'sequence_id': str})\n"
     ]
    }
   ],
   "source": [
    "dfs = []\n",
    "for f in file_paths:\n",
    "    df = pd.read_csv(f, dtype={'sequence_id': str})\n",
    "    dfs.append(df)\n",
    "    new_f = f.with_suffix(\".parquet\")\n",
    "    df.to_parquet(new_f, compression='gzip')\n"
   ]
  },
  {
   "cell_type": "code",
   "execution_count": 42,
   "metadata": {},
   "outputs": [
    {
     "name": "stderr",
     "output_type": "stream",
     "text": [
      "/var/folders/6t/yn2bzknj4md_3s6cr6vl8h8c0000gn/T/ipykernel_71826/1525461506.py:3: UserWarning: You are merging on int and float columns where the float values are not equal to their int representation.\n",
      "  df_merged = reduce(lambda  left,right: pd.merge(left,right,on=[\"uuid\", \"source\", \"orig_id\"],\n"
     ]
    }
   ],
   "source": [
    "from functools import reduce \n",
    "\n",
    "df_merged = reduce(lambda  left,right: pd.merge(left,right,on=[\"uuid\", \"source\", \"orig_id\"],\n",
    "                                            how='left'), dfs)"
   ]
  },
  {
   "cell_type": "code",
   "execution_count": 46,
   "metadata": {},
   "outputs": [
    {
     "data": {
      "text/plain": [
       "Index(['uuid', 'source', 'orig_id', 'city', 'city_ascii', 'city_id',\n",
       "       'city_lat', 'city_lon', 'country', 'iso2',\n",
       "       ...\n",
       "       'hour', 'width', 'height', 'heading', 'projection_type', 'hFoV', 'vFoV',\n",
       "       'sequence_index', 'sequence_id', 'sequence_img_count'],\n",
       "      dtype='object', length=107)"
      ]
     },
     "execution_count": 46,
     "metadata": {},
     "output_type": "execute_result"
    }
   ],
   "source": [
    "df_merged.columns"
   ]
  },
  {
   "cell_type": "code",
   "execution_count": 48,
   "metadata": {},
   "outputs": [],
   "source": [
    "df_merged.to_parquet(\"../streetscapes-data/streetscapes-data.parquet\", compression='gzip')"
   ]
  }
 ],
 "metadata": {
  "kernelspec": {
   "display_name": ".venv",
   "language": "python",
   "name": "python3"
  },
  "language_info": {
   "codemirror_mode": {
    "name": "ipython",
    "version": 3
   },
   "file_extension": ".py",
   "mimetype": "text/x-python",
   "name": "python",
   "nbconvert_exporter": "python",
   "pygments_lexer": "ipython3",
   "version": "3.10.15"
  }
 },
 "nbformat": 4,
 "nbformat_minor": 2
}
